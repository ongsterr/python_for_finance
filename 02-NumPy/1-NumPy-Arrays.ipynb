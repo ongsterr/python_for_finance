{
    "metadata": {
        "kernelspec": {
            "name": "python3",
            "display_name": "Python 3"
        },
        "language_info": {
            "name": "python",
            "version": "3.7.0",
            "mimetype": "text/x-python",
            "codemirror_mode": {
                "name": "ipython",
                "version": 3
            },
            "pygments_lexer": "ipython3",
            "nbconvert_exporter": "python",
            "file_extension": ".py"
        }
    },
    "nbformat_minor": 2,
    "nbformat": 4,
    "cells": [
        {
            "cell_type": "markdown",
            "source": "___\n\n<a href='http://www.pieriandata.com'> <img src='../Pierian_Data_Logo.png' /></a>\n___\n<center>*Copyright Pierian Data 2017*</center>\n<center>*For more information, visit us at www.pieriandata.com*</center>",
            "metadata": {}
        },
        {
            "cell_type": "markdown",
            "source": "# NumPy \n\nNumPy (or Numpy) is a Linear Algebra Library for Python, the reason it is so important for Finance with Python is that almost all of the libraries in the PyData Ecosystem rely on NumPy as one of their main building blocks. Plus we will use it to generate data for our analysis examples later on!\n\nNumpy is also incredibly fast, as it has bindings to C libraries. For more info on why you would want to use Arrays instead of lists, check out this great [StackOverflow post](http://stackoverflow.com/questions/993984/why-numpy-instead-of-python-lists).\n\nWe will only learn the basics of NumPy, to get started we need to install it!",
            "metadata": {}
        },
        {
            "cell_type": "markdown",
            "source": "## Installation Instructions\n\n### NumPy is already included in your environment! You are good to go if you are using pyfinance env!\n\n_____\n##### For those not using the provided environment:\n\n**It is highly recommended you install Python using the Anaconda distribution to make sure all underlying dependencies (such as Linear Algebra libraries) all sync up with the use of a conda install. If you have Anaconda, install NumPy by going to your terminal or command prompt and typing:**\n    \n    conda install numpy\n    \n**If you do not have Anaconda and can not install it, please refer to [Numpy's official documentation on various installation instructions.](http://docs.scipy.org/doc/numpy-1.10.1/user/install.html)**\n\n_____",
            "metadata": {}
        },
        {
            "cell_type": "markdown",
            "source": "## Using NumPy\n\nOnce you've installed NumPy you can import it as a library:",
            "metadata": {}
        },
        {
            "cell_type": "code",
            "source": "import numpy as np",
            "metadata": {},
            "outputs": [],
            "execution_count": 4
        },
        {
            "cell_type": "markdown",
            "source": "Numpy has many built-in functions and capabilities. We won't cover them all but instead we will focus on some of the most important aspects of Numpy: vectors,arrays,matrices, and number generation. Let's start by discussing arrays.\n\n# Numpy Arrays\n\nNumPy arrays are the main way we will use Numpy throughout the course. Numpy arrays essentially come in two flavors: vectors and matrices. Vectors are strictly 1-d arrays and matrices are 2-d (but you should note a matrix can still have only one row or one column).\n\nLet's begin our introduction by exploring how to create NumPy arrays.\n\n## Creating NumPy Arrays\n\n### From a Python List\n\nWe can create an array by directly converting a list or list of lists:",
            "metadata": {}
        },
        {
            "cell_type": "code",
            "source": "my_list = [1,2,3]\nmy_list",
            "metadata": {},
            "outputs": [
                {
                    "data": {
                        "text/plain": "[1, 2, 3]"
                    },
                    "metadata": {},
                    "execution_count": 5,
                    "output_type": "execute_result"
                }
            ],
            "execution_count": 5
        },
        {
            "cell_type": "code",
            "source": "arr = np.array(my_list)\r\ntype(arr)",
            "metadata": {},
            "outputs": [
                {
                    "data": {
                        "text/plain": "numpy.ndarray"
                    },
                    "metadata": {},
                    "execution_count": 9,
                    "output_type": "execute_result"
                }
            ],
            "execution_count": 9
        },
        {
            "cell_type": "code",
            "source": "my_matrix = [[1,2,3],[4,5,6],[7,8,9]]\nmy_matrix",
            "metadata": {},
            "outputs": [
                {
                    "data": {
                        "text/plain": "[[1, 2, 3], [4, 5, 6], [7, 8, 9]]"
                    },
                    "metadata": {},
                    "execution_count": 7,
                    "output_type": "execute_result"
                }
            ],
            "execution_count": 7
        },
        {
            "cell_type": "code",
            "source": "np.array(my_matrix)",
            "metadata": {},
            "outputs": [
                {
                    "data": {
                        "text/plain": "array([[1, 2, 3],\n       [4, 5, 6],\n       [7, 8, 9]])"
                    },
                    "metadata": {},
                    "execution_count": 8,
                    "output_type": "execute_result"
                }
            ],
            "execution_count": 8
        },
        {
            "cell_type": "markdown",
            "source": "## Built-in Methods\n\nThere are lots of built-in ways to generate Arrays",
            "metadata": {}
        },
        {
            "cell_type": "markdown",
            "source": "### arange\n\nReturn evenly spaced values within a given interval.",
            "metadata": {}
        },
        {
            "cell_type": "code",
            "source": "np.arange(0,10)",
            "metadata": {},
            "outputs": [
                {
                    "data": {
                        "text/plain": "array([0, 1, 2, 3, 4, 5, 6, 7, 8, 9])"
                    },
                    "metadata": {},
                    "execution_count": 10,
                    "output_type": "execute_result"
                }
            ],
            "execution_count": 10
        },
        {
            "cell_type": "code",
            "source": "np.arange(0,11,2)",
            "metadata": {},
            "outputs": [
                {
                    "data": {
                        "text/plain": "array([ 0,  2,  4,  6,  8, 10])"
                    },
                    "metadata": {},
                    "execution_count": 11,
                    "output_type": "execute_result"
                }
            ],
            "execution_count": 11
        },
        {
            "cell_type": "markdown",
            "source": "### zeros and ones\n\nGenerate arrays of zeros or ones",
            "metadata": {}
        },
        {
            "cell_type": "code",
            "source": "np.zeros(3)",
            "metadata": {},
            "outputs": [
                {
                    "data": {
                        "text/plain": "array([0., 0., 0.])"
                    },
                    "metadata": {},
                    "execution_count": 12,
                    "output_type": "execute_result"
                }
            ],
            "execution_count": 12
        },
        {
            "cell_type": "code",
            "source": "np.zeros((5,5))",
            "metadata": {},
            "outputs": [
                {
                    "data": {
                        "text/plain": "array([[0., 0., 0., 0., 0.],\n       [0., 0., 0., 0., 0.],\n       [0., 0., 0., 0., 0.],\n       [0., 0., 0., 0., 0.],\n       [0., 0., 0., 0., 0.]])"
                    },
                    "metadata": {},
                    "execution_count": 13,
                    "output_type": "execute_result"
                }
            ],
            "execution_count": 13
        },
        {
            "cell_type": "code",
            "source": "np.ones(3)",
            "metadata": {},
            "outputs": [
                {
                    "data": {
                        "text/plain": "array([1., 1., 1.])"
                    },
                    "metadata": {},
                    "execution_count": 14,
                    "output_type": "execute_result"
                }
            ],
            "execution_count": 14
        },
        {
            "cell_type": "code",
            "source": "np.ones((3,3))",
            "metadata": {},
            "outputs": [
                {
                    "data": {
                        "text/plain": "array([[1., 1., 1.],\n       [1., 1., 1.],\n       [1., 1., 1.]])"
                    },
                    "metadata": {},
                    "execution_count": 15,
                    "output_type": "execute_result"
                }
            ],
            "execution_count": 15
        },
        {
            "cell_type": "markdown",
            "source": "### linspace\nReturn evenly spaced numbers over a specified interval.",
            "metadata": {}
        },
        {
            "cell_type": "code",
            "source": "np.linspace(0,10,3)",
            "metadata": {},
            "outputs": [
                {
                    "data": {
                        "text/plain": "array([ 0.,  5., 10.])"
                    },
                    "metadata": {},
                    "execution_count": 16,
                    "output_type": "execute_result"
                }
            ],
            "execution_count": 16
        },
        {
            "cell_type": "code",
            "source": "np.linspace(0,10,50)",
            "metadata": {},
            "outputs": [
                {
                    "data": {
                        "text/plain": "array([ 0.        ,  0.20408163,  0.40816327,  0.6122449 ,  0.81632653,\n        1.02040816,  1.2244898 ,  1.42857143,  1.63265306,  1.83673469,\n        2.04081633,  2.24489796,  2.44897959,  2.65306122,  2.85714286,\n        3.06122449,  3.26530612,  3.46938776,  3.67346939,  3.87755102,\n        4.08163265,  4.28571429,  4.48979592,  4.69387755,  4.89795918,\n        5.10204082,  5.30612245,  5.51020408,  5.71428571,  5.91836735,\n        6.12244898,  6.32653061,  6.53061224,  6.73469388,  6.93877551,\n        7.14285714,  7.34693878,  7.55102041,  7.75510204,  7.95918367,\n        8.16326531,  8.36734694,  8.57142857,  8.7755102 ,  8.97959184,\n        9.18367347,  9.3877551 ,  9.59183673,  9.79591837, 10.        ])"
                    },
                    "metadata": {},
                    "execution_count": 17,
                    "output_type": "execute_result"
                }
            ],
            "execution_count": 17
        },
        {
            "cell_type": "markdown",
            "source": "## eye\n\nCreates an identity matrix",
            "metadata": {}
        },
        {
            "cell_type": "code",
            "source": "np.eye(4)",
            "metadata": {},
            "outputs": [
                {
                    "data": {
                        "text/plain": "array([[1., 0., 0., 0.],\n       [0., 1., 0., 0.],\n       [0., 0., 1., 0.],\n       [0., 0., 0., 1.]])"
                    },
                    "metadata": {},
                    "execution_count": 18,
                    "output_type": "execute_result"
                }
            ],
            "execution_count": 18
        },
        {
            "cell_type": "markdown",
            "source": "## Random \n\nNumpy also has lots of ways to create random number arrays:\n\n### rand\nCreate an array of the given shape and populate it with\nrandom samples from a uniform distribution\nover ``[0, 1)``.",
            "metadata": {}
        },
        {
            "cell_type": "code",
            "source": "np.random.rand(2)",
            "metadata": {},
            "outputs": [
                {
                    "data": {
                        "text/plain": "array([0.37815467, 0.08608723])"
                    },
                    "metadata": {},
                    "execution_count": 19,
                    "output_type": "execute_result"
                }
            ],
            "execution_count": 19
        },
        {
            "cell_type": "code",
            "source": "np.random.rand(5,5)",
            "metadata": {},
            "outputs": [
                {
                    "data": {
                        "text/plain": "array([[0.73278816, 0.92546469, 0.25646845, 0.33551392, 0.06719422],\n       [0.61879669, 0.8950469 , 0.82271536, 0.75677545, 0.54919414],\n       [0.68902933, 0.09344568, 0.59699758, 0.51418201, 0.77860974],\n       [0.05661064, 0.77206871, 0.39016941, 0.44678754, 0.44191166],\n       [0.28761489, 0.15148239, 0.63459714, 0.10889258, 0.69767079]])"
                    },
                    "metadata": {},
                    "execution_count": 20,
                    "output_type": "execute_result"
                }
            ],
            "execution_count": 20
        },
        {
            "cell_type": "markdown",
            "source": "### randn\n\nReturn a sample (or samples) from the \"standard normal\" distribution. Unlike rand which is uniform:",
            "metadata": {}
        },
        {
            "cell_type": "code",
            "source": "np.random.randn(2)",
            "metadata": {},
            "outputs": [
                {
                    "data": {
                        "text/plain": "array([ 1.49951436, -0.43136718])"
                    },
                    "metadata": {},
                    "execution_count": 21,
                    "output_type": "execute_result"
                }
            ],
            "execution_count": 21
        },
        {
            "cell_type": "code",
            "source": "np.random.randn(5,5)",
            "metadata": {},
            "outputs": [
                {
                    "data": {
                        "text/plain": "array([[-0.19324527,  0.75308923,  0.8889923 ,  1.76170318,  0.70089924],\n       [-0.48393249, -0.03494936,  0.36880217, -0.49793245,  0.45032042],\n       [ 0.26944275, -0.11451809, -0.684393  ,  0.38309876,  1.17047934],\n       [-0.84043093,  1.2372856 , -0.51513104, -2.22207248, -0.18399143],\n       [ 1.41557849,  0.35527236, -1.35257788,  0.4047014 , -1.17113374]])"
                    },
                    "metadata": {},
                    "execution_count": 22,
                    "output_type": "execute_result"
                }
            ],
            "execution_count": 22
        },
        {
            "cell_type": "markdown",
            "source": "### randint\nReturn random integers from `low` (inclusive) to `high` (exclusive).",
            "metadata": {}
        },
        {
            "cell_type": "code",
            "source": "np.random.randint(1,100)",
            "metadata": {},
            "outputs": [
                {
                    "data": {
                        "text/plain": "94"
                    },
                    "metadata": {},
                    "execution_count": 23,
                    "output_type": "execute_result"
                }
            ],
            "execution_count": 23
        },
        {
            "cell_type": "code",
            "source": "np.random.randint(1,100,10)",
            "metadata": {},
            "outputs": [
                {
                    "data": {
                        "text/plain": "array([91, 83, 42, 82, 18, 14, 89, 68, 64, 97])"
                    },
                    "metadata": {},
                    "execution_count": 24,
                    "output_type": "execute_result"
                }
            ],
            "execution_count": 24
        },
        {
            "cell_type": "markdown",
            "source": "## Array Attributes and Methods\n\nLet's discuss some useful attributes and methods or an array:",
            "metadata": {}
        },
        {
            "cell_type": "code",
            "source": "arr = np.arange(25)\nranarr = np.random.randint(0,50,10)",
            "metadata": {},
            "outputs": [],
            "execution_count": 26
        },
        {
            "cell_type": "code",
            "source": "arr",
            "metadata": {},
            "outputs": [
                {
                    "data": {
                        "text/plain": "array([ 0,  1,  2,  3,  4,  5,  6,  7,  8,  9, 10, 11, 12, 13, 14, 15, 16,\n       17, 18, 19, 20, 21, 22, 23, 24])"
                    },
                    "metadata": {},
                    "execution_count": 27,
                    "output_type": "execute_result"
                }
            ],
            "execution_count": 27
        },
        {
            "cell_type": "code",
            "source": "ranarr",
            "metadata": {},
            "outputs": [
                {
                    "data": {
                        "text/plain": "array([ 4, 18, 13, 27, 28, 11, 19, 38, 20, 24])"
                    },
                    "metadata": {},
                    "execution_count": 28,
                    "output_type": "execute_result"
                }
            ],
            "execution_count": 28
        },
        {
            "cell_type": "markdown",
            "source": "## Reshape\nReturns an array containing the same data with a new shape.",
            "metadata": {}
        },
        {
            "cell_type": "code",
            "source": "arr.reshape(5,5)",
            "metadata": {},
            "outputs": [
                {
                    "data": {
                        "text/plain": "dtype('int32')"
                    },
                    "metadata": {},
                    "execution_count": 35,
                    "output_type": "execute_result"
                }
            ],
            "execution_count": 35
        },
        {
            "cell_type": "markdown",
            "source": "### max,min,argmax,argmin\n\nThese are useful methods for finding max or min values. Or to find their index locations using argmin or argmax",
            "metadata": {}
        },
        {
            "cell_type": "code",
            "source": "ranarr",
            "metadata": {},
            "outputs": [
                {
                    "data": {
                        "text/plain": "array([ 4, 18, 13, 27, 28, 11, 19, 38, 20, 24])"
                    },
                    "metadata": {},
                    "execution_count": 30,
                    "output_type": "execute_result"
                }
            ],
            "execution_count": 30
        },
        {
            "cell_type": "code",
            "source": "ranarr.max()",
            "metadata": {},
            "outputs": [
                {
                    "data": {
                        "text/plain": "38"
                    },
                    "metadata": {},
                    "execution_count": 31,
                    "output_type": "execute_result"
                }
            ],
            "execution_count": 31
        },
        {
            "cell_type": "code",
            "source": "# Return index of the maximum value\r\nranarr.argmax()",
            "metadata": {},
            "outputs": [
                {
                    "data": {
                        "text/plain": "7"
                    },
                    "metadata": {},
                    "execution_count": 32,
                    "output_type": "execute_result"
                }
            ],
            "execution_count": 32
        },
        {
            "cell_type": "code",
            "source": "ranarr.min()",
            "metadata": {},
            "outputs": [],
            "execution_count": 63
        },
        {
            "cell_type": "code",
            "source": "# Return index of the minimum value\r\nranarr.argmin()",
            "metadata": {},
            "outputs": [],
            "execution_count": 60
        },
        {
            "cell_type": "markdown",
            "source": "## Shape\n\nShape is an attribute that arrays have (not a method):",
            "metadata": {}
        },
        {
            "cell_type": "code",
            "source": "# Vector\narr.shape",
            "metadata": {},
            "outputs": [
                {
                    "data": {
                        "text/plain": "(25,)"
                    },
                    "metadata": {},
                    "execution_count": 36,
                    "output_type": "execute_result"
                }
            ],
            "execution_count": 36
        },
        {
            "cell_type": "code",
            "source": "# Notice the two sets of brackets\narr.reshape(1,25)",
            "metadata": {},
            "outputs": [
                {
                    "data": {
                        "text/plain": "array([[ 0,  1,  2,  3,  4,  5,  6,  7,  8,  9, 10, 11, 12, 13, 14, 15,\n        16, 17, 18, 19, 20, 21, 22, 23, 24]])"
                    },
                    "metadata": {},
                    "execution_count": 37,
                    "output_type": "execute_result"
                }
            ],
            "execution_count": 37
        },
        {
            "cell_type": "code",
            "source": "arr.reshape(1,25).shape",
            "metadata": {},
            "outputs": [
                {
                    "data": {
                        "text/plain": "(1, 25)"
                    },
                    "metadata": {},
                    "execution_count": 38,
                    "output_type": "execute_result"
                }
            ],
            "execution_count": 38
        },
        {
            "cell_type": "code",
            "source": "arr.reshape(25,1)",
            "metadata": {},
            "outputs": [
                {
                    "data": {
                        "text/plain": "array([[ 0],\n       [ 1],\n       [ 2],\n       [ 3],\n       [ 4],\n       [ 5],\n       [ 6],\n       [ 7],\n       [ 8],\n       [ 9],\n       [10],\n       [11],\n       [12],\n       [13],\n       [14],\n       [15],\n       [16],\n       [17],\n       [18],\n       [19],\n       [20],\n       [21],\n       [22],\n       [23],\n       [24]])"
                    },
                    "metadata": {},
                    "execution_count": 39,
                    "output_type": "execute_result"
                }
            ],
            "execution_count": 39
        },
        {
            "cell_type": "code",
            "source": "arr.reshape(25,1).shape",
            "metadata": {},
            "outputs": [
                {
                    "data": {
                        "text/plain": "(25, 1)"
                    },
                    "metadata": {},
                    "execution_count": 40,
                    "output_type": "execute_result"
                }
            ],
            "execution_count": 40
        },
        {
            "cell_type": "markdown",
            "source": "### dtype\n\nYou can also grab the data type of the object in the array:",
            "metadata": {}
        },
        {
            "cell_type": "code",
            "source": "arr.dtype",
            "metadata": {},
            "outputs": [
                {
                    "data": {
                        "text/plain": "dtype('int32')"
                    },
                    "metadata": {},
                    "execution_count": 41,
                    "output_type": "execute_result"
                }
            ],
            "execution_count": 41
        },
        {
            "cell_type": "markdown",
            "source": "# Great Job!",
            "metadata": {}
        }
    ]
}