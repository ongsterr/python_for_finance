{
    "metadata": {
        "kernelspec": {
            "name": "python3",
            "display_name": "Python 3"
        },
        "language_info": {
            "name": "python",
            "version": "3.7.0",
            "mimetype": "text/x-python",
            "codemirror_mode": {
                "name": "ipython",
                "version": 3
            },
            "pygments_lexer": "ipython3",
            "nbconvert_exporter": "python",
            "file_extension": ".py"
        }
    },
    "nbformat_minor": 2,
    "nbformat": 4,
    "cells": [
        {
            "cell_type": "markdown",
            "source": [
                "___\n",
                "\n",
                "<a href='http://www.pieriandata.com'> <img src='../Pierian_Data_Logo.png' /></a>\n",
                "___\n",
                "<center>*Copyright Pierian Data 2017*</center>\n",
                "<center>*For more information, visit us at www.pieriandata.com*</center>"
            ],
            "metadata": {
                "azdata_cell_guid": "50091ae4-c3a5-4261-b6fa-2b1f06678c3e"
            }
        },
        {
            "cell_type": "markdown",
            "source": [
                "# Introduction to Time Series with Pandas\n",
                "\n",
                "A lot of our financial data will have a datatime index, so let's learn how to deal with this sort of data with pandas!"
            ],
            "metadata": {
                "azdata_cell_guid": "436a077a-1384-45ec-969a-0b5b2e679529"
            }
        },
        {
            "cell_type": "code",
            "source": [
                "import numpy as np\n",
                "import pandas as pd\n",
                "import matplotlib.pyplot as plt"
            ],
            "metadata": {
                "collapsed": true,
                "azdata_cell_guid": "b3f7b183-b654-46b4-af89-6e660cc484b3"
            },
            "outputs": [],
            "execution_count": 1
        },
        {
            "cell_type": "code",
            "source": [
                "from datetime import datetime"
            ],
            "metadata": {
                "collapsed": true,
                "azdata_cell_guid": "1f628943-10de-4dbc-b7c6-9b5674332556"
            },
            "outputs": [],
            "execution_count": 2
        },
        {
            "cell_type": "code",
            "source": [
                "# To illustrate the order of arguments\n",
                "my_year = 2017\n",
                "my_month = 1\n",
                "my_day = 2\n",
                "my_hour = 13\n",
                "my_minute = 30\n",
                "my_second = 15"
            ],
            "metadata": {
                "collapsed": true,
                "azdata_cell_guid": "60d95507-8602-4157-b44e-f9742088af7f"
            },
            "outputs": [],
            "execution_count": 3
        },
        {
            "cell_type": "code",
            "source": [
                "# January 2nd, 2017\n",
                "my_date = datetime(my_year,my_month,my_day)"
            ],
            "metadata": {
                "collapsed": false,
                "azdata_cell_guid": "035a9425-a3a5-4ac0-a8e2-68ef3129babd"
            },
            "outputs": [],
            "execution_count": 4
        },
        {
            "cell_type": "code",
            "source": [
                "# Defaults to 0:00\n",
                "my_date "
            ],
            "metadata": {
                "collapsed": false,
                "azdata_cell_guid": "0ad52583-1f96-447a-9a4f-2859e378d9a2"
            },
            "outputs": [
                {
                    "output_type": "execute_result",
                    "execution_count": 5,
                    "data": {
                        "text/plain": "datetime.datetime(2017, 1, 2, 0, 0)"
                    },
                    "metadata": {}
                }
            ],
            "execution_count": 5
        },
        {
            "cell_type": "code",
            "source": [
                "# January 2nd, 2017 at 13:30:15\n",
                "my_date_time = datetime(my_year,my_month,my_day,my_hour,my_minute,my_second)"
            ],
            "metadata": {
                "collapsed": true,
                "azdata_cell_guid": "e2111242-c70e-4554-af09-f3c7e8008efb"
            },
            "outputs": [],
            "execution_count": 6
        },
        {
            "cell_type": "code",
            "source": [
                "my_date_time"
            ],
            "metadata": {
                "collapsed": false,
                "azdata_cell_guid": "8f977bd1-d83d-403d-b658-6a81c9c83cc9"
            },
            "outputs": [
                {
                    "output_type": "execute_result",
                    "execution_count": 7,
                    "data": {
                        "text/plain": "datetime.datetime(2017, 1, 2, 13, 30, 15)"
                    },
                    "metadata": {}
                }
            ],
            "execution_count": 7
        },
        {
            "cell_type": "markdown",
            "source": [
                "You can grab any part of the datetime object you want"
            ],
            "metadata": {
                "azdata_cell_guid": "c03005de-2040-439e-86f0-bf438f769143"
            }
        },
        {
            "cell_type": "code",
            "source": [
                "my_date.day"
            ],
            "metadata": {
                "collapsed": false,
                "azdata_cell_guid": "2c3b54a5-c416-455b-bbf8-49bebb1504fb"
            },
            "outputs": [
                {
                    "output_type": "execute_result",
                    "execution_count": 8,
                    "data": {
                        "text/plain": "2"
                    },
                    "metadata": {}
                }
            ],
            "execution_count": 8
        },
        {
            "cell_type": "code",
            "source": [
                "my_date_time.hour"
            ],
            "metadata": {
                "collapsed": false,
                "azdata_cell_guid": "a6874963-848e-4ad1-844a-9623eed9bbac"
            },
            "outputs": [
                {
                    "output_type": "execute_result",
                    "execution_count": 9,
                    "data": {
                        "text/plain": "13"
                    },
                    "metadata": {}
                }
            ],
            "execution_count": 9
        },
        {
            "cell_type": "markdown",
            "source": [
                "### Pandas with Datetime Index\n",
                "\n",
                "You'll usually deal with time series as an index when working with pandas dataframes obtained from some sort of financial API. Fortunately pandas has a lot of functions and methods to work with time series!"
            ],
            "metadata": {
                "azdata_cell_guid": "15317001-8190-4635-9634-7700a071a434"
            }
        },
        {
            "cell_type": "code",
            "source": [
                "# Create an example datetime list/array\n",
                "first_two = [datetime(2016, 1, 1), datetime(2016, 1, 2)]\n",
                "first_two"
            ],
            "metadata": {
                "collapsed": false,
                "azdata_cell_guid": "4d4cc887-613d-4dc5-94b5-50a333ff57e7"
            },
            "outputs": [
                {
                    "output_type": "execute_result",
                    "execution_count": 13,
                    "data": {
                        "text/plain": "[datetime.datetime(2016, 1, 1, 0, 0), datetime.datetime(2016, 1, 2, 0, 0)]"
                    },
                    "metadata": {}
                }
            ],
            "execution_count": 13
        },
        {
            "cell_type": "code",
            "source": [
                "# Converted to an index\n",
                "dt_ind = pd.DatetimeIndex(first_two)\n",
                "dt_ind"
            ],
            "metadata": {
                "collapsed": false,
                "azdata_cell_guid": "29f2fb9b-8798-45fc-b4f2-9bf8e207275f"
            },
            "outputs": [
                {
                    "output_type": "execute_result",
                    "execution_count": 14,
                    "data": {
                        "text/plain": "DatetimeIndex(['2016-01-01', '2016-01-02'], dtype='datetime64[ns]', freq=None)"
                    },
                    "metadata": {}
                }
            ],
            "execution_count": 14
        },
        {
            "cell_type": "code",
            "source": [
                "# Attached to some random data\n",
                "data = np.random.randn(2,2)\n",
                "print(data)\n",
                "cols = ['A','B']"
            ],
            "metadata": {
                "collapsed": false,
                "azdata_cell_guid": "a0c35640-7a2e-4ef9-bf65-4cc45aa0daef"
            },
            "outputs": [
                {
                    "output_type": "stream",
                    "name": "stdout",
                    "text": "[[-1.58270607  0.47766839]\n [ 0.34171008  0.5889566 ]]\n"
                }
            ],
            "execution_count": 29
        },
        {
            "cell_type": "code",
            "source": [
                "df = pd.DataFrame(data, dt_ind, cols) # note dataframe constructor"
            ],
            "metadata": {
                "collapsed": false,
                "azdata_cell_guid": "5180eaba-336c-421b-a71a-fe1f5bfa5c17"
            },
            "outputs": [],
            "execution_count": 28
        },
        {
            "cell_type": "code",
            "source": [
                "df"
            ],
            "metadata": {
                "collapsed": false,
                "azdata_cell_guid": "8667383a-97dd-418a-a5d0-a3ee528e3d2b"
            },
            "outputs": [
                {
                    "output_type": "execute_result",
                    "execution_count": 30,
                    "data": {
                        "text/html": "<div>\n<table border=\"1\" class=\"dataframe\">\n  <thead>\n    <tr style=\"text-align: right;\">\n      <th></th>\n      <th>A</th>\n      <th>B</th>\n    </tr>\n  </thead>\n  <tbody>\n    <tr>\n      <th>2016-01-01</th>\n      <td>0.165224</td>\n      <td>-0.767629</td>\n    </tr>\n    <tr>\n      <th>2016-01-02</th>\n      <td>-0.482305</td>\n      <td>0.307934</td>\n    </tr>\n  </tbody>\n</table>\n</div>",
                        "text/plain": "                   A         B\n2016-01-01  0.165224 -0.767629\n2016-01-02 -0.482305  0.307934"
                    },
                    "metadata": {}
                }
            ],
            "execution_count": 30
        },
        {
            "cell_type": "code",
            "source": [
                "df.index"
            ],
            "metadata": {
                "collapsed": false,
                "azdata_cell_guid": "5dcf9d03-dd51-4f1e-a99c-98d767a07167"
            },
            "outputs": [
                {
                    "output_type": "execute_result",
                    "execution_count": 31,
                    "data": {
                        "text/plain": "DatetimeIndex(['2016-01-01', '2016-01-02'], dtype='datetime64[ns]', freq=None)"
                    },
                    "metadata": {}
                }
            ],
            "execution_count": 31
        },
        {
            "cell_type": "code",
            "source": [
                "# Latest Date Location\n",
                "df.index.argmax()"
            ],
            "metadata": {
                "collapsed": false,
                "azdata_cell_guid": "c32dbcf1-1a6a-481a-ab56-d4f2ddd2b22b"
            },
            "outputs": [
                {
                    "output_type": "execute_result",
                    "execution_count": 34,
                    "data": {
                        "text/plain": "1"
                    },
                    "metadata": {}
                }
            ],
            "execution_count": 34
        },
        {
            "cell_type": "code",
            "source": [
                "df.index.max()"
            ],
            "metadata": {
                "collapsed": false,
                "azdata_cell_guid": "749d065d-ebdb-434c-a024-51988e3716d9"
            },
            "outputs": [
                {
                    "output_type": "execute_result",
                    "execution_count": 35,
                    "data": {
                        "text/plain": "Timestamp('2016-01-02 00:00:00')"
                    },
                    "metadata": {}
                }
            ],
            "execution_count": 35
        },
        {
            "cell_type": "code",
            "source": [
                "# Earliest Date Index Location\n",
                "df.index.argmin()"
            ],
            "metadata": {
                "collapsed": false,
                "azdata_cell_guid": "4cdf313c-a175-4c65-96f7-39103883c75d"
            },
            "outputs": [
                {
                    "output_type": "execute_result",
                    "execution_count": 37,
                    "data": {
                        "text/plain": "0"
                    },
                    "metadata": {}
                }
            ],
            "execution_count": 37
        },
        {
            "cell_type": "code",
            "source": [
                "df.index.min()"
            ],
            "metadata": {
                "collapsed": false,
                "azdata_cell_guid": "6e5416c1-b0ad-4d17-b586-085e94dd3781"
            },
            "outputs": [
                {
                    "output_type": "execute_result",
                    "execution_count": 38,
                    "data": {
                        "text/plain": "Timestamp('2016-01-01 00:00:00')"
                    },
                    "metadata": {}
                }
            ],
            "execution_count": 38
        },
        {
            "cell_type": "markdown",
            "source": [
                "## Great, let's move on!"
            ],
            "metadata": {
                "azdata_cell_guid": "08c879b4-21d8-4d76-808b-4af11320dd43"
            }
        }
    ]
}