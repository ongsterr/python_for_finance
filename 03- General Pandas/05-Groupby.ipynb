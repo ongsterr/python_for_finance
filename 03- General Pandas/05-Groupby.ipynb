{
    "metadata": {
        "kernelspec": {
            "name": "python3",
            "display_name": "Python 3"
        },
        "language_info": {
            "name": "python",
            "version": "3.7.0",
            "mimetype": "text/x-python",
            "codemirror_mode": {
                "name": "ipython",
                "version": 3
            },
            "pygments_lexer": "ipython3",
            "nbconvert_exporter": "python",
            "file_extension": ".py"
        }
    },
    "nbformat_minor": 2,
    "nbformat": 4,
    "cells": [
        {
            "cell_type": "markdown",
            "source": "___\n\n<a href='http://www.pieriandata.com'> <img src='../Pierian_Data_Logo.png' /></a>\n___",
            "metadata": {}
        },
        {
            "cell_type": "markdown",
            "source": "# Groupby\n\nThe groupby method allows you to group rows of data together and call aggregate functions",
            "metadata": {}
        },
        {
            "cell_type": "code",
            "source": "import pandas as pd\n# Create dataframe\ndata = {'Company':['GOOG','GOOG','MSFT','MSFT','FB','FB'],\n       'Person':['Sam','Charlie','Amy','Vanessa','Carl','Sarah'],\n       'Sales':[200,120,340,124,243,350]}",
            "metadata": {},
            "outputs": [],
            "execution_count": 31
        },
        {
            "cell_type": "code",
            "source": "df = pd.DataFrame(data)",
            "metadata": {},
            "outputs": [],
            "execution_count": 32
        },
        {
            "cell_type": "code",
            "source": "df",
            "metadata": {},
            "outputs": [
                {
                    "output_type": "execute_result",
                    "execution_count": 33,
                    "data": {
                        "text/html": "<div>\n<table border=\"1\" class=\"dataframe\">\n  <thead>\n    <tr style=\"text-align: right;\">\n      <th></th>\n      <th>Company</th>\n      <th>Person</th>\n      <th>Sales</th>\n    </tr>\n  </thead>\n  <tbody>\n    <tr>\n      <th>0</th>\n      <td>GOOG</td>\n      <td>Sam</td>\n      <td>200</td>\n    </tr>\n    <tr>\n      <th>1</th>\n      <td>GOOG</td>\n      <td>Charlie</td>\n      <td>120</td>\n    </tr>\n    <tr>\n      <th>2</th>\n      <td>MSFT</td>\n      <td>Amy</td>\n      <td>340</td>\n    </tr>\n    <tr>\n      <th>3</th>\n      <td>MSFT</td>\n      <td>Vanessa</td>\n      <td>124</td>\n    </tr>\n    <tr>\n      <th>4</th>\n      <td>FB</td>\n      <td>Carl</td>\n      <td>243</td>\n    </tr>\n    <tr>\n      <th>5</th>\n      <td>FB</td>\n      <td>Sarah</td>\n      <td>350</td>\n    </tr>\n  </tbody>\n</table>\n</div>",
                        "text/plain": "  Company   Person  Sales\n0    GOOG      Sam    200\n1    GOOG  Charlie    120\n2    MSFT      Amy    340\n3    MSFT  Vanessa    124\n4      FB     Carl    243\n5      FB    Sarah    350"
                    },
                    "metadata": {}
                }
            ],
            "execution_count": 33
        },
        {
            "cell_type": "markdown",
            "source": "** Now you can use the .groupby() method to group rows together based off of a column name. For instance let's group based off of Company. This will create a DataFrameGroupBy object:**",
            "metadata": {}
        },
        {
            "cell_type": "code",
            "source": "df.groupby('Company')",
            "metadata": {},
            "outputs": [
                {
                    "output_type": "execute_result",
                    "execution_count": 34,
                    "data": {
                        "text/plain": "<pandas.core.groupby.DataFrameGroupBy object at 0x113014128>"
                    },
                    "metadata": {}
                }
            ],
            "execution_count": 34
        },
        {
            "cell_type": "markdown",
            "source": "You can save this object as a new variable:",
            "metadata": {}
        },
        {
            "cell_type": "code",
            "source": "by_comp = df.groupby(\"Company\")",
            "metadata": {},
            "outputs": [],
            "execution_count": 35
        },
        {
            "cell_type": "markdown",
            "source": "And then call aggregate methods off the object:",
            "metadata": {}
        },
        {
            "cell_type": "code",
            "source": "by_comp.mean()",
            "metadata": {},
            "outputs": [
                {
                    "output_type": "execute_result",
                    "execution_count": 36,
                    "data": {
                        "text/html": "<div>\n<table border=\"1\" class=\"dataframe\">\n  <thead>\n    <tr style=\"text-align: right;\">\n      <th></th>\n      <th>Sales</th>\n    </tr>\n    <tr>\n      <th>Company</th>\n      <th></th>\n    </tr>\n  </thead>\n  <tbody>\n    <tr>\n      <th>FB</th>\n      <td>296.5</td>\n    </tr>\n    <tr>\n      <th>GOOG</th>\n      <td>160.0</td>\n    </tr>\n    <tr>\n      <th>MSFT</th>\n      <td>232.0</td>\n    </tr>\n  </tbody>\n</table>\n</div>",
                        "text/plain": "         Sales\nCompany       \nFB       296.5\nGOOG     160.0\nMSFT     232.0"
                    },
                    "metadata": {}
                }
            ],
            "execution_count": 36
        },
        {
            "cell_type": "code",
            "source": "df.groupby('Company').mean()",
            "metadata": {},
            "outputs": [
                {
                    "output_type": "execute_result",
                    "execution_count": 37,
                    "data": {
                        "text/html": "<div>\n<table border=\"1\" class=\"dataframe\">\n  <thead>\n    <tr style=\"text-align: right;\">\n      <th></th>\n      <th>Sales</th>\n    </tr>\n    <tr>\n      <th>Company</th>\n      <th></th>\n    </tr>\n  </thead>\n  <tbody>\n    <tr>\n      <th>FB</th>\n      <td>296.5</td>\n    </tr>\n    <tr>\n      <th>GOOG</th>\n      <td>160.0</td>\n    </tr>\n    <tr>\n      <th>MSFT</th>\n      <td>232.0</td>\n    </tr>\n  </tbody>\n</table>\n</div>",
                        "text/plain": "         Sales\nCompany       \nFB       296.5\nGOOG     160.0\nMSFT     232.0"
                    },
                    "metadata": {}
                }
            ],
            "execution_count": 37
        },
        {
            "cell_type": "markdown",
            "source": "More examples of aggregate methods:",
            "metadata": {}
        },
        {
            "cell_type": "code",
            "source": "by_comp.std()",
            "metadata": {},
            "outputs": [
                {
                    "output_type": "execute_result",
                    "execution_count": 38,
                    "data": {
                        "text/html": "<div>\n<table border=\"1\" class=\"dataframe\">\n  <thead>\n    <tr style=\"text-align: right;\">\n      <th></th>\n      <th>Sales</th>\n    </tr>\n    <tr>\n      <th>Company</th>\n      <th></th>\n    </tr>\n  </thead>\n  <tbody>\n    <tr>\n      <th>FB</th>\n      <td>75.660426</td>\n    </tr>\n    <tr>\n      <th>GOOG</th>\n      <td>56.568542</td>\n    </tr>\n    <tr>\n      <th>MSFT</th>\n      <td>152.735065</td>\n    </tr>\n  </tbody>\n</table>\n</div>",
                        "text/plain": "              Sales\nCompany            \nFB        75.660426\nGOOG      56.568542\nMSFT     152.735065"
                    },
                    "metadata": {}
                }
            ],
            "execution_count": 38
        },
        {
            "cell_type": "code",
            "source": "by_comp.min()",
            "metadata": {},
            "outputs": [
                {
                    "output_type": "execute_result",
                    "execution_count": 39,
                    "data": {
                        "text/html": "<div>\n<table border=\"1\" class=\"dataframe\">\n  <thead>\n    <tr style=\"text-align: right;\">\n      <th></th>\n      <th>Person</th>\n      <th>Sales</th>\n    </tr>\n    <tr>\n      <th>Company</th>\n      <th></th>\n      <th></th>\n    </tr>\n  </thead>\n  <tbody>\n    <tr>\n      <th>FB</th>\n      <td>Carl</td>\n      <td>243</td>\n    </tr>\n    <tr>\n      <th>GOOG</th>\n      <td>Charlie</td>\n      <td>120</td>\n    </tr>\n    <tr>\n      <th>MSFT</th>\n      <td>Amy</td>\n      <td>124</td>\n    </tr>\n  </tbody>\n</table>\n</div>",
                        "text/plain": "          Person  Sales\nCompany                \nFB          Carl    243\nGOOG     Charlie    120\nMSFT         Amy    124"
                    },
                    "metadata": {}
                }
            ],
            "execution_count": 39
        },
        {
            "cell_type": "code",
            "source": "by_comp.max()",
            "metadata": {},
            "outputs": [
                {
                    "output_type": "execute_result",
                    "execution_count": 40,
                    "data": {
                        "text/html": "<div>\n<table border=\"1\" class=\"dataframe\">\n  <thead>\n    <tr style=\"text-align: right;\">\n      <th></th>\n      <th>Person</th>\n      <th>Sales</th>\n    </tr>\n    <tr>\n      <th>Company</th>\n      <th></th>\n      <th></th>\n    </tr>\n  </thead>\n  <tbody>\n    <tr>\n      <th>FB</th>\n      <td>Sarah</td>\n      <td>350</td>\n    </tr>\n    <tr>\n      <th>GOOG</th>\n      <td>Sam</td>\n      <td>200</td>\n    </tr>\n    <tr>\n      <th>MSFT</th>\n      <td>Vanessa</td>\n      <td>340</td>\n    </tr>\n  </tbody>\n</table>\n</div>",
                        "text/plain": "          Person  Sales\nCompany                \nFB         Sarah    350\nGOOG         Sam    200\nMSFT     Vanessa    340"
                    },
                    "metadata": {}
                }
            ],
            "execution_count": 40
        },
        {
            "cell_type": "code",
            "source": "by_comp.count()",
            "metadata": {},
            "outputs": [
                {
                    "output_type": "execute_result",
                    "execution_count": 41,
                    "data": {
                        "text/html": "<div>\n<table border=\"1\" class=\"dataframe\">\n  <thead>\n    <tr style=\"text-align: right;\">\n      <th></th>\n      <th>Person</th>\n      <th>Sales</th>\n    </tr>\n    <tr>\n      <th>Company</th>\n      <th></th>\n      <th></th>\n    </tr>\n  </thead>\n  <tbody>\n    <tr>\n      <th>FB</th>\n      <td>2</td>\n      <td>2</td>\n    </tr>\n    <tr>\n      <th>GOOG</th>\n      <td>2</td>\n      <td>2</td>\n    </tr>\n    <tr>\n      <th>MSFT</th>\n      <td>2</td>\n      <td>2</td>\n    </tr>\n  </tbody>\n</table>\n</div>",
                        "text/plain": "         Person  Sales\nCompany               \nFB            2      2\nGOOG          2      2\nMSFT          2      2"
                    },
                    "metadata": {}
                }
            ],
            "execution_count": 41
        },
        {
            "cell_type": "code",
            "source": "# describe the statistics of the dataframe data grouped by company\r\nby_comp.describe()",
            "metadata": {},
            "outputs": [
                {
                    "output_type": "execute_result",
                    "execution_count": 42,
                    "data": {
                        "text/html": "<div>\n<table border=\"1\" class=\"dataframe\">\n  <thead>\n    <tr style=\"text-align: right;\">\n      <th></th>\n      <th></th>\n      <th>Sales</th>\n    </tr>\n    <tr>\n      <th>Company</th>\n      <th></th>\n      <th></th>\n    </tr>\n  </thead>\n  <tbody>\n    <tr>\n      <th rowspan=\"8\" valign=\"top\">FB</th>\n      <th>count</th>\n      <td>2.000000</td>\n    </tr>\n    <tr>\n      <th>mean</th>\n      <td>296.500000</td>\n    </tr>\n    <tr>\n      <th>std</th>\n      <td>75.660426</td>\n    </tr>\n    <tr>\n      <th>min</th>\n      <td>243.000000</td>\n    </tr>\n    <tr>\n      <th>25%</th>\n      <td>269.750000</td>\n    </tr>\n    <tr>\n      <th>50%</th>\n      <td>296.500000</td>\n    </tr>\n    <tr>\n      <th>75%</th>\n      <td>323.250000</td>\n    </tr>\n    <tr>\n      <th>max</th>\n      <td>350.000000</td>\n    </tr>\n    <tr>\n      <th rowspan=\"8\" valign=\"top\">GOOG</th>\n      <th>count</th>\n      <td>2.000000</td>\n    </tr>\n    <tr>\n      <th>mean</th>\n      <td>160.000000</td>\n    </tr>\n    <tr>\n      <th>std</th>\n      <td>56.568542</td>\n    </tr>\n    <tr>\n      <th>min</th>\n      <td>120.000000</td>\n    </tr>\n    <tr>\n      <th>25%</th>\n      <td>140.000000</td>\n    </tr>\n    <tr>\n      <th>50%</th>\n      <td>160.000000</td>\n    </tr>\n    <tr>\n      <th>75%</th>\n      <td>180.000000</td>\n    </tr>\n    <tr>\n      <th>max</th>\n      <td>200.000000</td>\n    </tr>\n    <tr>\n      <th rowspan=\"8\" valign=\"top\">MSFT</th>\n      <th>count</th>\n      <td>2.000000</td>\n    </tr>\n    <tr>\n      <th>mean</th>\n      <td>232.000000</td>\n    </tr>\n    <tr>\n      <th>std</th>\n      <td>152.735065</td>\n    </tr>\n    <tr>\n      <th>min</th>\n      <td>124.000000</td>\n    </tr>\n    <tr>\n      <th>25%</th>\n      <td>178.000000</td>\n    </tr>\n    <tr>\n      <th>50%</th>\n      <td>232.000000</td>\n    </tr>\n    <tr>\n      <th>75%</th>\n      <td>286.000000</td>\n    </tr>\n    <tr>\n      <th>max</th>\n      <td>340.000000</td>\n    </tr>\n  </tbody>\n</table>\n</div>",
                        "text/plain": "                    Sales\nCompany                  \nFB      count    2.000000\n        mean   296.500000\n        std     75.660426\n        min    243.000000\n        25%    269.750000\n        50%    296.500000\n        75%    323.250000\n        max    350.000000\nGOOG    count    2.000000\n        mean   160.000000\n        std     56.568542\n        min    120.000000\n        25%    140.000000\n        50%    160.000000\n        75%    180.000000\n        max    200.000000\nMSFT    count    2.000000\n        mean   232.000000\n        std    152.735065\n        min    124.000000\n        25%    178.000000\n        50%    232.000000\n        75%    286.000000\n        max    340.000000"
                    },
                    "metadata": {}
                }
            ],
            "execution_count": 42
        },
        {
            "cell_type": "code",
            "source": "by_comp.describe().transpose()",
            "metadata": {},
            "outputs": [
                {
                    "output_type": "execute_result",
                    "execution_count": 43,
                    "data": {
                        "text/html": "<div>\n<table border=\"1\" class=\"dataframe\">\n  <thead>\n    <tr>\n      <th>Company</th>\n      <th colspan=\"8\" halign=\"left\">FB</th>\n      <th colspan=\"5\" halign=\"left\">GOOG</th>\n      <th colspan=\"8\" halign=\"left\">MSFT</th>\n    </tr>\n    <tr>\n      <th></th>\n      <th>count</th>\n      <th>mean</th>\n      <th>std</th>\n      <th>min</th>\n      <th>25%</th>\n      <th>50%</th>\n      <th>75%</th>\n      <th>max</th>\n      <th>count</th>\n      <th>mean</th>\n      <th>...</th>\n      <th>75%</th>\n      <th>max</th>\n      <th>count</th>\n      <th>mean</th>\n      <th>std</th>\n      <th>min</th>\n      <th>25%</th>\n      <th>50%</th>\n      <th>75%</th>\n      <th>max</th>\n    </tr>\n  </thead>\n  <tbody>\n    <tr>\n      <th>Sales</th>\n      <td>2.0</td>\n      <td>296.5</td>\n      <td>75.660426</td>\n      <td>243.0</td>\n      <td>269.75</td>\n      <td>296.5</td>\n      <td>323.25</td>\n      <td>350.0</td>\n      <td>2.0</td>\n      <td>160.0</td>\n      <td>...</td>\n      <td>180.0</td>\n      <td>200.0</td>\n      <td>2.0</td>\n      <td>232.0</td>\n      <td>152.735065</td>\n      <td>124.0</td>\n      <td>178.0</td>\n      <td>232.0</td>\n      <td>286.0</td>\n      <td>340.0</td>\n    </tr>\n  </tbody>\n</table>\n<p>1 rows × 24 columns</p>\n</div>",
                        "text/plain": "Company    FB                                                         GOOG  \\\n        count   mean        std    min     25%    50%     75%    max count   \nSales     2.0  296.5  75.660426  243.0  269.75  296.5  323.25  350.0   2.0   \n\nCompany         ...                  MSFT                                   \\\n          mean  ...      75%    max count   mean         std    min    25%   \nSales    160.0  ...    180.0  200.0   2.0  232.0  152.735065  124.0  178.0   \n\nCompany                       \n           50%    75%    max  \nSales    232.0  286.0  340.0  \n\n[1 rows x 24 columns]"
                    },
                    "metadata": {}
                }
            ],
            "execution_count": 43
        },
        {
            "cell_type": "code",
            "source": "by_comp.describe().transpose()['GOOG']",
            "metadata": {},
            "outputs": [
                {
                    "output_type": "execute_result",
                    "execution_count": 44,
                    "data": {
                        "text/html": "<div>\n<table border=\"1\" class=\"dataframe\">\n  <thead>\n    <tr style=\"text-align: right;\">\n      <th></th>\n      <th>count</th>\n      <th>mean</th>\n      <th>std</th>\n      <th>min</th>\n      <th>25%</th>\n      <th>50%</th>\n      <th>75%</th>\n      <th>max</th>\n    </tr>\n  </thead>\n  <tbody>\n    <tr>\n      <th>Sales</th>\n      <td>2.0</td>\n      <td>160.0</td>\n      <td>56.568542</td>\n      <td>120.0</td>\n      <td>140.0</td>\n      <td>160.0</td>\n      <td>180.0</td>\n      <td>200.0</td>\n    </tr>\n  </tbody>\n</table>\n</div>",
                        "text/plain": "       count   mean        std    min    25%    50%    75%    max\nSales    2.0  160.0  56.568542  120.0  140.0  160.0  180.0  200.0"
                    },
                    "metadata": {}
                }
            ],
            "execution_count": 44
        },
        {
            "cell_type": "markdown",
            "source": "# Great Job!",
            "metadata": {}
        }
    ]
}