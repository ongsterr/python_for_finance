{
    "metadata": {
        "kernelspec": {
            "name": "python3",
            "display_name": "Python 3"
        },
        "language_info": {
            "name": "python",
            "version": "3.7.0",
            "mimetype": "text/x-python",
            "codemirror_mode": {
                "name": "ipython",
                "version": 3
            },
            "pygments_lexer": "ipython3",
            "nbconvert_exporter": "python",
            "file_extension": ".py"
        }
    },
    "nbformat_minor": 2,
    "nbformat": 4,
    "cells": [
        {
            "cell_type": "markdown",
            "source": "___\n\n<a href='http://www.pieriandata.com'> <img src='../Pierian_Data_Logo.png' /></a>\n___\n<center>*Copyright Pierian Data 2017*</center>\n<center>*For more information, visit us at www.pieriandata.com*</center>",
            "metadata": {}
        },
        {
            "cell_type": "markdown",
            "source": "# NumPy Exercises\nNow that we've learned about NumPy let's test your knowledge. We'll start off with a few simple tasks and then you'll be asked some more complicated questions.\n\n** IMPORTANT NOTE! Make sure you don't run the cells directly above the example output shown, otherwise you will end up writing over the example output! **",
            "metadata": {}
        },
        {
            "cell_type": "markdown",
            "source": "#### Import NumPy as np",
            "metadata": {}
        },
        {
            "cell_type": "code",
            "source": "import numpy as np",
            "metadata": {},
            "outputs": [],
            "execution_count": 14
        },
        {
            "cell_type": "markdown",
            "source": "#### Create an array of 10 zeros ",
            "metadata": {}
        },
        {
            "cell_type": "code",
            "source": "# CODE HERE",
            "metadata": {},
            "outputs": [],
            "execution_count": 0
        },
        {
            "cell_type": "code",
            "source": "np.zeros(10)",
            "metadata": {},
            "outputs": [
                {
                    "data": {
                        "text/plain": "array([0., 0., 0., 0., 0., 0., 0., 0., 0., 0.])"
                    },
                    "metadata": {},
                    "execution_count": 15,
                    "output_type": "execute_result"
                }
            ],
            "execution_count": 15
        },
        {
            "cell_type": "markdown",
            "source": "#### Create an array of 10 ones",
            "metadata": {}
        },
        {
            "cell_type": "code",
            "source": "# CODE HERE",
            "metadata": {},
            "outputs": [],
            "execution_count": 0
        },
        {
            "cell_type": "code",
            "source": "np.ones(10)",
            "metadata": {},
            "outputs": [
                {
                    "data": {
                        "text/plain": "array([1., 1., 1., 1., 1., 1., 1., 1., 1., 1.])"
                    },
                    "metadata": {},
                    "execution_count": 16,
                    "output_type": "execute_result"
                }
            ],
            "execution_count": 16
        },
        {
            "cell_type": "markdown",
            "source": "#### Create an array of 10 fives",
            "metadata": {}
        },
        {
            "cell_type": "code",
            "source": "# CODE HERE",
            "metadata": {},
            "outputs": [],
            "execution_count": 0
        },
        {
            "cell_type": "code",
            "source": "np.ones(10) * 5",
            "metadata": {},
            "outputs": [
                {
                    "data": {
                        "text/plain": "array([5., 5., 5., 5., 5., 5., 5., 5., 5., 5.])"
                    },
                    "metadata": {},
                    "execution_count": 17,
                    "output_type": "execute_result"
                }
            ],
            "execution_count": 17
        },
        {
            "cell_type": "markdown",
            "source": "#### Create an array of the integers from 10 to 50",
            "metadata": {}
        },
        {
            "cell_type": "code",
            "source": "# CODE HERE",
            "metadata": {},
            "outputs": [],
            "execution_count": 0
        },
        {
            "cell_type": "code",
            "source": "np.arange(10,51)",
            "metadata": {},
            "outputs": [
                {
                    "data": {
                        "text/plain": "array([10, 11, 12, 13, 14, 15, 16, 17, 18, 19, 20, 21, 22, 23, 24, 25, 26,\n       27, 28, 29, 30, 31, 32, 33, 34, 35, 36, 37, 38, 39, 40, 41, 42, 43,\n       44, 45, 46, 47, 48, 49, 50])"
                    },
                    "metadata": {},
                    "execution_count": 21,
                    "output_type": "execute_result"
                }
            ],
            "execution_count": 21
        },
        {
            "cell_type": "markdown",
            "source": "#### Create an array of all the even integers from 10 to 50",
            "metadata": {}
        },
        {
            "cell_type": "code",
            "source": "# CODE HERE",
            "metadata": {},
            "outputs": [],
            "execution_count": 0
        },
        {
            "cell_type": "code",
            "source": "np.arange(10, 51, 2)",
            "metadata": {},
            "outputs": [
                {
                    "data": {
                        "text/plain": "array([10, 12, 14, 16, 18, 20, 22, 24, 26, 28, 30, 32, 34, 36, 38, 40, 42,\n       44, 46, 48, 50])"
                    },
                    "metadata": {},
                    "execution_count": 22,
                    "output_type": "execute_result"
                }
            ],
            "execution_count": 22
        },
        {
            "cell_type": "markdown",
            "source": "#### Create a 3x3 matrix with values ranging from 0 to 8",
            "metadata": {}
        },
        {
            "cell_type": "code",
            "source": "# CODE HERE",
            "metadata": {},
            "outputs": [],
            "execution_count": 0
        },
        {
            "cell_type": "code",
            "source": "arr = np.arange(0, 9)\r\narr.reshape(3, 3)",
            "metadata": {},
            "outputs": [
                {
                    "data": {
                        "text/plain": "array([[0, 1, 2],\n       [3, 4, 5],\n       [6, 7, 8]])"
                    },
                    "metadata": {},
                    "execution_count": 24,
                    "output_type": "execute_result"
                }
            ],
            "execution_count": 24
        },
        {
            "cell_type": "markdown",
            "source": "#### Create a 3x3 identity matrix",
            "metadata": {}
        },
        {
            "cell_type": "code",
            "source": "# CODE HERE",
            "metadata": {},
            "outputs": [],
            "execution_count": 0
        },
        {
            "cell_type": "code",
            "source": "np.eye(3)",
            "metadata": {},
            "outputs": [
                {
                    "data": {
                        "text/plain": "array([[1., 0., 0.],\n       [0., 1., 0.],\n       [0., 0., 1.]])"
                    },
                    "metadata": {},
                    "execution_count": 25,
                    "output_type": "execute_result"
                }
            ],
            "execution_count": 25
        },
        {
            "cell_type": "markdown",
            "source": "#### Use NumPy to generate a random number between 0 and 1",
            "metadata": {}
        },
        {
            "cell_type": "code",
            "source": "# CODE HERE",
            "metadata": {},
            "outputs": [],
            "execution_count": 0
        },
        {
            "cell_type": "code",
            "source": "np.random.rand(1)",
            "metadata": {},
            "outputs": [
                {
                    "data": {
                        "text/plain": "array([0.27469738])"
                    },
                    "metadata": {},
                    "execution_count": 33,
                    "output_type": "execute_result"
                }
            ],
            "execution_count": 33
        },
        {
            "cell_type": "markdown",
            "source": "#### Use NumPy to generate an array of 25 random numbers sampled from a standard normal distribution",
            "metadata": {}
        },
        {
            "cell_type": "code",
            "source": "# CODE HERE",
            "metadata": {},
            "outputs": [],
            "execution_count": 0
        },
        {
            "cell_type": "code",
            "source": "np.random.rand(25)",
            "metadata": {},
            "outputs": [
                {
                    "data": {
                        "text/plain": "array([0.09165145, 0.26817379, 0.33405159, 0.3664098 , 0.43907542,\n       0.72368205, 0.5617211 , 0.96770372, 0.769253  , 0.35497649,\n       0.46081484, 0.68733114, 0.21215222, 0.32413092, 0.25179067,\n       0.82816833, 0.88375582, 0.37598941, 0.74737065, 0.86822896,\n       0.72528452, 0.93516087, 0.79008719, 0.84979064, 0.90740476])"
                    },
                    "metadata": {},
                    "execution_count": 35,
                    "output_type": "execute_result"
                }
            ],
            "execution_count": 35
        },
        {
            "cell_type": "markdown",
            "source": "#### Create the following matrix:",
            "metadata": {}
        },
        {
            "cell_type": "markdown",
            "source": "#### Create an array of 20 linearly spaced points between 0 and 1:",
            "metadata": {}
        },
        {
            "cell_type": "code",
            "source": "np.linspace(0,1,20)",
            "metadata": {},
            "outputs": [
                {
                    "data": {
                        "text/plain": "array([0.        , 0.05263158, 0.10526316, 0.15789474, 0.21052632,\n       0.26315789, 0.31578947, 0.36842105, 0.42105263, 0.47368421,\n       0.52631579, 0.57894737, 0.63157895, 0.68421053, 0.73684211,\n       0.78947368, 0.84210526, 0.89473684, 0.94736842, 1.        ])"
                    },
                    "metadata": {},
                    "execution_count": 36,
                    "output_type": "execute_result"
                }
            ],
            "execution_count": 36
        },
        {
            "cell_type": "code",
            "source": "",
            "metadata": {},
            "outputs": [],
            "execution_count": 36
        },
        {
            "cell_type": "markdown",
            "source": "## Numpy Indexing and Selection\n\nNow you will be given a few matrices, and be asked to replicate the resulting matrix outputs:",
            "metadata": {}
        },
        {
            "cell_type": "code",
            "source": "# HERE IS THE GIVEN MATRIX CALLED MAT\n# USE IT FOR THE FOLLOWING TASKS\nmat = np.arange(1,26).reshape(5,5)\nmat",
            "metadata": {},
            "outputs": [
                {
                    "data": {
                        "text/plain": "array([[ 1,  2,  3,  4,  5],\n       [ 6,  7,  8,  9, 10],\n       [11, 12, 13, 14, 15],\n       [16, 17, 18, 19, 20],\n       [21, 22, 23, 24, 25]])"
                    },
                    "metadata": {},
                    "execution_count": 37,
                    "output_type": "execute_result"
                }
            ],
            "execution_count": 37
        },
        {
            "cell_type": "code",
            "source": "# WRITE CODE HERE THAT REPRODUCES THE OUTPUT OF THE CELL BELOW\n# BE CAREFUL NOT TO RUN THE CELL BELOW, OTHERWISE YOU WON'T\n# BE ABLE TO SEE THE OUTPUT ANY MORE",
            "metadata": {},
            "outputs": [],
            "execution_count": 39
        },
        {
            "cell_type": "code",
            "source": "mat[2:, 1:]",
            "metadata": {},
            "outputs": [
                {
                    "data": {
                        "text/plain": "array([[12, 13, 14, 15],\n       [17, 18, 19, 20],\n       [22, 23, 24, 25]])"
                    },
                    "metadata": {},
                    "execution_count": 39,
                    "output_type": "execute_result"
                }
            ],
            "execution_count": 39
        },
        {
            "cell_type": "code",
            "source": "# WRITE CODE HERE THAT REPRODUCES THE OUTPUT OF THE CELL BELOW\n# BE CAREFUL NOT TO RUN THE CELL BELOW, OTHERWISE YOU WON'T\n# BE ABLE TO SEE THE OUTPUT ANY MORE",
            "metadata": {},
            "outputs": [],
            "execution_count": 29
        },
        {
            "cell_type": "code",
            "source": "mat[3, 4]",
            "metadata": {},
            "outputs": [
                {
                    "data": {
                        "text/plain": "20"
                    },
                    "metadata": {},
                    "execution_count": 42,
                    "output_type": "execute_result"
                }
            ],
            "execution_count": 42
        },
        {
            "cell_type": "code",
            "source": "# WRITE CODE HERE THAT REPRODUCES THE OUTPUT OF THE CELL BELOW\n# BE CAREFUL NOT TO RUN THE CELL BELOW, OTHERWISE YOU WON'T\n# BE ABLE TO SEE THE OUTPUT ANY MORE",
            "metadata": {},
            "outputs": [],
            "execution_count": 30
        },
        {
            "cell_type": "code",
            "source": "mat[:3,1:2]",
            "metadata": {},
            "outputs": [
                {
                    "data": {
                        "text/plain": "array([[ 2],\n       [ 7],\n       [12]])"
                    },
                    "metadata": {},
                    "execution_count": 48,
                    "output_type": "execute_result"
                }
            ],
            "execution_count": 48
        },
        {
            "cell_type": "code",
            "source": "# WRITE CODE HERE THAT REPRODUCES THE OUTPUT OF THE CELL BELOW\n# BE CAREFUL NOT TO RUN THE CELL BELOW, OTHERWISE YOU WON'T\n# BE ABLE TO SEE THE OUTPUT ANY MORE",
            "metadata": {},
            "outputs": [],
            "execution_count": 31
        },
        {
            "cell_type": "code",
            "source": "mat[4]",
            "metadata": {},
            "outputs": [
                {
                    "data": {
                        "text/plain": "array([21, 22, 23, 24, 25])"
                    },
                    "metadata": {},
                    "execution_count": 49,
                    "output_type": "execute_result"
                }
            ],
            "execution_count": 49
        },
        {
            "cell_type": "code",
            "source": "# WRITE CODE HERE THAT REPRODUCES THE OUTPUT OF THE CELL BELOW\n# BE CAREFUL NOT TO RUN THE CELL BELOW, OTHERWISE YOU WON'T\n# BE ABLE TO SEE THE OUTPUT ANY MORE",
            "metadata": {},
            "outputs": [],
            "execution_count": 32
        },
        {
            "cell_type": "code",
            "source": "mat[3:5]",
            "metadata": {},
            "outputs": [
                {
                    "data": {
                        "text/plain": "array([[16, 17, 18, 19, 20],\n       [21, 22, 23, 24, 25]])"
                    },
                    "metadata": {},
                    "execution_count": 51,
                    "output_type": "execute_result"
                }
            ],
            "execution_count": 51
        },
        {
            "cell_type": "markdown",
            "source": "### Now do the following",
            "metadata": {}
        },
        {
            "cell_type": "markdown",
            "source": "#### Get the sum of all the values in mat",
            "metadata": {}
        },
        {
            "cell_type": "code",
            "source": "# CODE HERE",
            "metadata": {},
            "outputs": [],
            "execution_count": 0
        },
        {
            "cell_type": "code",
            "source": "np.sum(mat)\r\nmat.sum()",
            "metadata": {},
            "outputs": [
                {
                    "data": {
                        "text/plain": "325"
                    },
                    "metadata": {},
                    "execution_count": 60,
                    "output_type": "execute_result"
                }
            ],
            "execution_count": 60
        },
        {
            "cell_type": "markdown",
            "source": "#### Get the standard deviation of the values in mat",
            "metadata": {}
        },
        {
            "cell_type": "code",
            "source": "# CODE HERE",
            "metadata": {},
            "outputs": [],
            "execution_count": 0
        },
        {
            "cell_type": "code",
            "source": "np.std(mat)\r\nmat.std()",
            "metadata": {},
            "outputs": [
                {
                    "data": {
                        "text/plain": "7.211102550927978"
                    },
                    "metadata": {},
                    "execution_count": 59,
                    "output_type": "execute_result"
                }
            ],
            "execution_count": 59
        },
        {
            "cell_type": "markdown",
            "source": "#### Get the sum of all the columns in mat",
            "metadata": {}
        },
        {
            "cell_type": "code",
            "source": "# CODE HERE",
            "metadata": {},
            "outputs": [],
            "execution_count": 0
        },
        {
            "cell_type": "code",
            "source": "mat.sum(axis=0)",
            "metadata": {},
            "outputs": [
                {
                    "data": {
                        "text/plain": "array([55, 60, 65, 70, 75])"
                    },
                    "metadata": {},
                    "execution_count": 56,
                    "output_type": "execute_result"
                }
            ],
            "execution_count": 56
        },
        {
            "cell_type": "markdown",
            "source": "## Bonus Question\n\nWe worked a lot with random data with numpy, but is there a way we can insure that we always get the same random numbers? [Click Here for a Hint](https://www.google.com/search?q=numpy+random+seed&rlz=1C1CHBF_enUS747US747&oq=numpy+random+seed&aqs=chrome..69i57j69i60j0l4.2087j0j7&sourceid=chrome&ie=UTF-8)",
            "metadata": {}
        },
        {
            "cell_type": "code",
            "source": "np.random.seed(0)\r\nnp.random.rand(4)",
            "metadata": {},
            "outputs": [
                {
                    "data": {
                        "text/plain": "array([0.5488135 , 0.71518937, 0.60276338, 0.54488318])"
                    },
                    "metadata": {},
                    "execution_count": 69,
                    "output_type": "execute_result"
                }
            ],
            "execution_count": 69
        },
        {
            "cell_type": "markdown",
            "source": "# Great Job!",
            "metadata": {}
        }
    ]
}