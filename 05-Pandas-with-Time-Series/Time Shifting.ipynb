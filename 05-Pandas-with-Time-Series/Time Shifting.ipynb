{
    "metadata": {
        "kernelspec": {
            "name": "python3",
            "display_name": "Python 3"
        },
        "language_info": {
            "name": "python",
            "version": "3.7.0",
            "mimetype": "text/x-python",
            "codemirror_mode": {
                "name": "ipython",
                "version": 3
            },
            "pygments_lexer": "ipython3",
            "nbconvert_exporter": "python",
            "file_extension": ".py"
        }
    },
    "nbformat_minor": 2,
    "nbformat": 4,
    "cells": [
        {
            "cell_type": "markdown",
            "source": [
                "___\n",
                "\n",
                "<a href='http://www.pieriandata.com'> <img src='../Pierian_Data_Logo.png' /></a>\n",
                "___\n",
                "<center>*Copyright Pierian Data 2017*</center>\n",
                "<center>*For more information, visit us at www.pieriandata.com*</center>"
            ],
            "metadata": {
                "azdata_cell_guid": "d97f063f-234c-4cd3-af4e-3d6f0154a84b"
            }
        },
        {
            "cell_type": "markdown",
            "source": [
                "# Time Shifting\n",
                "\n",
                "Sometimes you may need to shift all your data up or down along the time series index, in fact, a lot of pandas built-in methods do this under the hood. This isn't something we won't do often in the course, but its definitely good to know about this anyways!"
            ],
            "metadata": {
                "azdata_cell_guid": "ecc3c7a1-07e1-48e4-b3a8-4591705edc8f"
            }
        },
        {
            "cell_type": "code",
            "source": [
                "import pandas as pd\n",
                "\n",
                "import matplotlib.pyplot as plt\n",
                "%matplotlib inline"
            ],
            "metadata": {
                "collapsed": true,
                "azdata_cell_guid": "9b10c5a4-4596-406e-9596-a7012c446f4b"
            },
            "outputs": [],
            "execution_count": 1
        },
        {
            "cell_type": "code",
            "source": [
                "df = pd.read_csv('time_data/walmart_stock.csv',index_col='Date')\n",
                "df.index = pd.to_datetime(df.index)"
            ],
            "metadata": {
                "collapsed": false,
                "azdata_cell_guid": "707d3aec-fe4a-44f0-94fb-e37c6ebe73a9"
            },
            "outputs": [],
            "execution_count": 2
        },
        {
            "cell_type": "code",
            "source": [
                "df.head()"
            ],
            "metadata": {
                "collapsed": false,
                "azdata_cell_guid": "01fde946-4210-4abc-9e8c-5a083cf33650"
            },
            "outputs": [
                {
                    "data": {
                        "text/plain": "                 Open       High        Low      Close    Volume  Adj Close\nDate                                                                       \n2012-01-03  59.970001  61.060001  59.869999  60.330002  12668800  52.619235\n2012-01-04  60.209999  60.349998  59.470001  59.709999   9593300  52.078475\n2012-01-05  59.349998  59.619999  58.369999  59.419998  12768200  51.825539\n2012-01-06  59.419998  59.450001  58.869999  59.000000   8069400  51.459220\n2012-01-09  59.029999  59.549999  58.919998  59.180000   6679300  51.616215",
                        "text/html": "<div>\n<style scoped>\n    .dataframe tbody tr th:only-of-type {\n        vertical-align: middle;\n    }\n\n    .dataframe tbody tr th {\n        vertical-align: top;\n    }\n\n    .dataframe thead th {\n        text-align: right;\n    }\n</style>\n<table border=\"1\" class=\"dataframe\">\n  <thead>\n    <tr style=\"text-align: right;\">\n      <th></th>\n      <th>Open</th>\n      <th>High</th>\n      <th>Low</th>\n      <th>Close</th>\n      <th>Volume</th>\n      <th>Adj Close</th>\n    </tr>\n    <tr>\n      <th>Date</th>\n      <th></th>\n      <th></th>\n      <th></th>\n      <th></th>\n      <th></th>\n      <th></th>\n    </tr>\n  </thead>\n  <tbody>\n    <tr>\n      <th>2012-01-03</th>\n      <td>59.970001</td>\n      <td>61.060001</td>\n      <td>59.869999</td>\n      <td>60.330002</td>\n      <td>12668800</td>\n      <td>52.619235</td>\n    </tr>\n    <tr>\n      <th>2012-01-04</th>\n      <td>60.209999</td>\n      <td>60.349998</td>\n      <td>59.470001</td>\n      <td>59.709999</td>\n      <td>9593300</td>\n      <td>52.078475</td>\n    </tr>\n    <tr>\n      <th>2012-01-05</th>\n      <td>59.349998</td>\n      <td>59.619999</td>\n      <td>58.369999</td>\n      <td>59.419998</td>\n      <td>12768200</td>\n      <td>51.825539</td>\n    </tr>\n    <tr>\n      <th>2012-01-06</th>\n      <td>59.419998</td>\n      <td>59.450001</td>\n      <td>58.869999</td>\n      <td>59.000000</td>\n      <td>8069400</td>\n      <td>51.459220</td>\n    </tr>\n    <tr>\n      <th>2012-01-09</th>\n      <td>59.029999</td>\n      <td>59.549999</td>\n      <td>58.919998</td>\n      <td>59.180000</td>\n      <td>6679300</td>\n      <td>51.616215</td>\n    </tr>\n  </tbody>\n</table>\n</div>"
                    },
                    "metadata": {},
                    "execution_count": 3,
                    "output_type": "execute_result"
                }
            ],
            "execution_count": 3
        },
        {
            "cell_type": "code",
            "source": [
                "df.tail()"
            ],
            "metadata": {
                "collapsed": false,
                "azdata_cell_guid": "cab3c458-a396-4c5c-a685-692c6b3787b2"
            },
            "outputs": [
                {
                    "data": {
                        "text/plain": "                 Open       High        Low      Close   Volume  Adj Close\nDate                                                                      \n2016-12-23  69.430000  69.750000  69.360001  69.540001  4803900  69.032411\n2016-12-27  69.300003  69.820000  69.250000  69.699997  4435700  69.191240\n2016-12-28  69.940002  70.000000  69.260002  69.309998  4875700  68.804087\n2016-12-29  69.209999  69.519997  69.120003  69.260002  4298400  68.754456\n2016-12-30  69.120003  69.430000  68.830002  69.120003  6889500  68.615479",
                        "text/html": "<div>\n<style scoped>\n    .dataframe tbody tr th:only-of-type {\n        vertical-align: middle;\n    }\n\n    .dataframe tbody tr th {\n        vertical-align: top;\n    }\n\n    .dataframe thead th {\n        text-align: right;\n    }\n</style>\n<table border=\"1\" class=\"dataframe\">\n  <thead>\n    <tr style=\"text-align: right;\">\n      <th></th>\n      <th>Open</th>\n      <th>High</th>\n      <th>Low</th>\n      <th>Close</th>\n      <th>Volume</th>\n      <th>Adj Close</th>\n    </tr>\n    <tr>\n      <th>Date</th>\n      <th></th>\n      <th></th>\n      <th></th>\n      <th></th>\n      <th></th>\n      <th></th>\n    </tr>\n  </thead>\n  <tbody>\n    <tr>\n      <th>2016-12-23</th>\n      <td>69.430000</td>\n      <td>69.750000</td>\n      <td>69.360001</td>\n      <td>69.540001</td>\n      <td>4803900</td>\n      <td>69.032411</td>\n    </tr>\n    <tr>\n      <th>2016-12-27</th>\n      <td>69.300003</td>\n      <td>69.820000</td>\n      <td>69.250000</td>\n      <td>69.699997</td>\n      <td>4435700</td>\n      <td>69.191240</td>\n    </tr>\n    <tr>\n      <th>2016-12-28</th>\n      <td>69.940002</td>\n      <td>70.000000</td>\n      <td>69.260002</td>\n      <td>69.309998</td>\n      <td>4875700</td>\n      <td>68.804087</td>\n    </tr>\n    <tr>\n      <th>2016-12-29</th>\n      <td>69.209999</td>\n      <td>69.519997</td>\n      <td>69.120003</td>\n      <td>69.260002</td>\n      <td>4298400</td>\n      <td>68.754456</td>\n    </tr>\n    <tr>\n      <th>2016-12-30</th>\n      <td>69.120003</td>\n      <td>69.430000</td>\n      <td>68.830002</td>\n      <td>69.120003</td>\n      <td>6889500</td>\n      <td>68.615479</td>\n    </tr>\n  </tbody>\n</table>\n</div>"
                    },
                    "metadata": {},
                    "execution_count": 4,
                    "output_type": "execute_result"
                }
            ],
            "execution_count": 4
        },
        {
            "cell_type": "markdown",
            "source": [
                "## .shift() forward"
            ],
            "metadata": {
                "azdata_cell_guid": "66043f85-cf94-43cb-a25c-a62367fb8b6c"
            }
        },
        {
            "cell_type": "code",
            "source": [
                "# move data one row below\r\n",
                "df.shift(periods=1).head()"
            ],
            "metadata": {
                "collapsed": false,
                "azdata_cell_guid": "4dce2e64-a67a-4356-a5ee-28ec156a687d"
            },
            "outputs": [
                {
                    "output_type": "execute_result",
                    "execution_count": 23,
                    "data": {
                        "text/html": "<div>\n<table border=\"1\" class=\"dataframe\">\n  <thead>\n    <tr style=\"text-align: right;\">\n      <th></th>\n      <th>Open</th>\n      <th>High</th>\n      <th>Low</th>\n      <th>Close</th>\n      <th>Volume</th>\n      <th>Adj Close</th>\n    </tr>\n    <tr>\n      <th>Date</th>\n      <th></th>\n      <th></th>\n      <th></th>\n      <th></th>\n      <th></th>\n      <th></th>\n    </tr>\n  </thead>\n  <tbody>\n    <tr>\n      <th>2012-01-03</th>\n      <td>NaN</td>\n      <td>NaN</td>\n      <td>NaN</td>\n      <td>NaN</td>\n      <td>NaN</td>\n      <td>NaN</td>\n    </tr>\n    <tr>\n      <th>2012-01-04</th>\n      <td>59.970001</td>\n      <td>61.060001</td>\n      <td>59.869999</td>\n      <td>60.330002</td>\n      <td>12668800.0</td>\n      <td>52.619235</td>\n    </tr>\n    <tr>\n      <th>2012-01-05</th>\n      <td>60.209999</td>\n      <td>60.349998</td>\n      <td>59.470001</td>\n      <td>59.709999</td>\n      <td>9593300.0</td>\n      <td>52.078475</td>\n    </tr>\n    <tr>\n      <th>2012-01-06</th>\n      <td>59.349998</td>\n      <td>59.619999</td>\n      <td>58.369999</td>\n      <td>59.419998</td>\n      <td>12768200.0</td>\n      <td>51.825539</td>\n    </tr>\n    <tr>\n      <th>2012-01-09</th>\n      <td>59.419998</td>\n      <td>59.450001</td>\n      <td>58.869999</td>\n      <td>59.000000</td>\n      <td>8069400.0</td>\n      <td>51.459220</td>\n    </tr>\n  </tbody>\n</table>\n</div>",
                        "text/plain": "                 Open       High        Low      Close      Volume  Adj Close\nDate                                                                         \n2012-01-03        NaN        NaN        NaN        NaN         NaN        NaN\n2012-01-04  59.970001  61.060001  59.869999  60.330002  12668800.0  52.619235\n2012-01-05  60.209999  60.349998  59.470001  59.709999   9593300.0  52.078475\n2012-01-06  59.349998  59.619999  58.369999  59.419998  12768200.0  51.825539\n2012-01-09  59.419998  59.450001  58.869999  59.000000   8069400.0  51.459220"
                    },
                    "metadata": {}
                }
            ],
            "execution_count": 23
        },
        {
            "cell_type": "code",
            "source": [
                "# You will lose that last piece of data that no longer has an index!\n",
                "df.shift(1).tail()"
            ],
            "metadata": {
                "collapsed": false,
                "azdata_cell_guid": "4195df32-6fe3-465c-b30b-2eaf696bcab8"
            },
            "outputs": [
                {
                    "output_type": "execute_result",
                    "execution_count": 24,
                    "data": {
                        "text/html": "<div>\n<table border=\"1\" class=\"dataframe\">\n  <thead>\n    <tr style=\"text-align: right;\">\n      <th></th>\n      <th>Open</th>\n      <th>High</th>\n      <th>Low</th>\n      <th>Close</th>\n      <th>Volume</th>\n      <th>Adj Close</th>\n    </tr>\n    <tr>\n      <th>Date</th>\n      <th></th>\n      <th></th>\n      <th></th>\n      <th></th>\n      <th></th>\n      <th></th>\n    </tr>\n  </thead>\n  <tbody>\n    <tr>\n      <th>2016-12-23</th>\n      <td>71.239998</td>\n      <td>71.239998</td>\n      <td>69.209999</td>\n      <td>69.589996</td>\n      <td>12106800.0</td>\n      <td>69.082042</td>\n    </tr>\n    <tr>\n      <th>2016-12-27</th>\n      <td>69.430000</td>\n      <td>69.750000</td>\n      <td>69.360001</td>\n      <td>69.540001</td>\n      <td>4803900.0</td>\n      <td>69.032411</td>\n    </tr>\n    <tr>\n      <th>2016-12-28</th>\n      <td>69.300003</td>\n      <td>69.820000</td>\n      <td>69.250000</td>\n      <td>69.699997</td>\n      <td>4435700.0</td>\n      <td>69.191240</td>\n    </tr>\n    <tr>\n      <th>2016-12-29</th>\n      <td>69.940002</td>\n      <td>70.000000</td>\n      <td>69.260002</td>\n      <td>69.309998</td>\n      <td>4875700.0</td>\n      <td>68.804087</td>\n    </tr>\n    <tr>\n      <th>2016-12-30</th>\n      <td>69.209999</td>\n      <td>69.519997</td>\n      <td>69.120003</td>\n      <td>69.260002</td>\n      <td>4298400.0</td>\n      <td>68.754456</td>\n    </tr>\n  </tbody>\n</table>\n</div>",
                        "text/plain": "                 Open       High        Low      Close      Volume  Adj Close\nDate                                                                         \n2016-12-23  71.239998  71.239998  69.209999  69.589996  12106800.0  69.082042\n2016-12-27  69.430000  69.750000  69.360001  69.540001   4803900.0  69.032411\n2016-12-28  69.300003  69.820000  69.250000  69.699997   4435700.0  69.191240\n2016-12-29  69.940002  70.000000  69.260002  69.309998   4875700.0  68.804087\n2016-12-30  69.209999  69.519997  69.120003  69.260002   4298400.0  68.754456"
                    },
                    "metadata": {}
                }
            ],
            "execution_count": 24
        },
        {
            "cell_type": "markdown",
            "source": [
                "## shift() backwards"
            ],
            "metadata": {
                "azdata_cell_guid": "8d2c0a23-ee5b-4780-b33a-b88b2b773f5c"
            }
        },
        {
            "cell_type": "code",
            "source": [
                "df.shift(-1).head()"
            ],
            "metadata": {
                "collapsed": false,
                "azdata_cell_guid": "cfc09454-2c44-4404-9f38-0aab59b24c43"
            },
            "outputs": [
                {
                    "output_type": "execute_result",
                    "execution_count": 25,
                    "data": {
                        "text/html": "<div>\n<table border=\"1\" class=\"dataframe\">\n  <thead>\n    <tr style=\"text-align: right;\">\n      <th></th>\n      <th>Open</th>\n      <th>High</th>\n      <th>Low</th>\n      <th>Close</th>\n      <th>Volume</th>\n      <th>Adj Close</th>\n    </tr>\n    <tr>\n      <th>Date</th>\n      <th></th>\n      <th></th>\n      <th></th>\n      <th></th>\n      <th></th>\n      <th></th>\n    </tr>\n  </thead>\n  <tbody>\n    <tr>\n      <th>2012-01-03</th>\n      <td>60.209999</td>\n      <td>60.349998</td>\n      <td>59.470001</td>\n      <td>59.709999</td>\n      <td>9593300.0</td>\n      <td>52.078475</td>\n    </tr>\n    <tr>\n      <th>2012-01-04</th>\n      <td>59.349998</td>\n      <td>59.619999</td>\n      <td>58.369999</td>\n      <td>59.419998</td>\n      <td>12768200.0</td>\n      <td>51.825539</td>\n    </tr>\n    <tr>\n      <th>2012-01-05</th>\n      <td>59.419998</td>\n      <td>59.450001</td>\n      <td>58.869999</td>\n      <td>59.000000</td>\n      <td>8069400.0</td>\n      <td>51.459220</td>\n    </tr>\n    <tr>\n      <th>2012-01-06</th>\n      <td>59.029999</td>\n      <td>59.549999</td>\n      <td>58.919998</td>\n      <td>59.180000</td>\n      <td>6679300.0</td>\n      <td>51.616215</td>\n    </tr>\n    <tr>\n      <th>2012-01-09</th>\n      <td>59.430000</td>\n      <td>59.709999</td>\n      <td>58.980000</td>\n      <td>59.040001</td>\n      <td>6907300.0</td>\n      <td>51.494109</td>\n    </tr>\n  </tbody>\n</table>\n</div>",
                        "text/plain": "                 Open       High        Low      Close      Volume  Adj Close\nDate                                                                         \n2012-01-03  60.209999  60.349998  59.470001  59.709999   9593300.0  52.078475\n2012-01-04  59.349998  59.619999  58.369999  59.419998  12768200.0  51.825539\n2012-01-05  59.419998  59.450001  58.869999  59.000000   8069400.0  51.459220\n2012-01-06  59.029999  59.549999  58.919998  59.180000   6679300.0  51.616215\n2012-01-09  59.430000  59.709999  58.980000  59.040001   6907300.0  51.494109"
                    },
                    "metadata": {}
                }
            ],
            "execution_count": 25
        },
        {
            "cell_type": "code",
            "source": [
                "df.shift(-1).tail()"
            ],
            "metadata": {
                "collapsed": false,
                "azdata_cell_guid": "764517f3-7299-4b3f-8613-887ff80288e7"
            },
            "outputs": [
                {
                    "output_type": "execute_result",
                    "execution_count": 26,
                    "data": {
                        "text/html": "<div>\n<table border=\"1\" class=\"dataframe\">\n  <thead>\n    <tr style=\"text-align: right;\">\n      <th></th>\n      <th>Open</th>\n      <th>High</th>\n      <th>Low</th>\n      <th>Close</th>\n      <th>Volume</th>\n      <th>Adj Close</th>\n    </tr>\n    <tr>\n      <th>Date</th>\n      <th></th>\n      <th></th>\n      <th></th>\n      <th></th>\n      <th></th>\n      <th></th>\n    </tr>\n  </thead>\n  <tbody>\n    <tr>\n      <th>2016-12-23</th>\n      <td>69.300003</td>\n      <td>69.820000</td>\n      <td>69.250000</td>\n      <td>69.699997</td>\n      <td>4435700.0</td>\n      <td>69.191240</td>\n    </tr>\n    <tr>\n      <th>2016-12-27</th>\n      <td>69.940002</td>\n      <td>70.000000</td>\n      <td>69.260002</td>\n      <td>69.309998</td>\n      <td>4875700.0</td>\n      <td>68.804087</td>\n    </tr>\n    <tr>\n      <th>2016-12-28</th>\n      <td>69.209999</td>\n      <td>69.519997</td>\n      <td>69.120003</td>\n      <td>69.260002</td>\n      <td>4298400.0</td>\n      <td>68.754456</td>\n    </tr>\n    <tr>\n      <th>2016-12-29</th>\n      <td>69.120003</td>\n      <td>69.430000</td>\n      <td>68.830002</td>\n      <td>69.120003</td>\n      <td>6889500.0</td>\n      <td>68.615479</td>\n    </tr>\n    <tr>\n      <th>2016-12-30</th>\n      <td>NaN</td>\n      <td>NaN</td>\n      <td>NaN</td>\n      <td>NaN</td>\n      <td>NaN</td>\n      <td>NaN</td>\n    </tr>\n  </tbody>\n</table>\n</div>",
                        "text/plain": "                 Open       High        Low      Close     Volume  Adj Close\nDate                                                                        \n2016-12-23  69.300003  69.820000  69.250000  69.699997  4435700.0  69.191240\n2016-12-27  69.940002  70.000000  69.260002  69.309998  4875700.0  68.804087\n2016-12-28  69.209999  69.519997  69.120003  69.260002  4298400.0  68.754456\n2016-12-29  69.120003  69.430000  68.830002  69.120003  6889500.0  68.615479\n2016-12-30        NaN        NaN        NaN        NaN        NaN        NaN"
                    },
                    "metadata": {}
                }
            ],
            "execution_count": 26
        },
        {
            "cell_type": "markdown",
            "source": [
                "## Shifting based off Time String Code \n",
                "### Using tshift()"
            ],
            "metadata": {
                "azdata_cell_guid": "c7489c4b-be87-4f0a-a35e-cbb8d4bbfa5b"
            }
        },
        {
            "cell_type": "code",
            "source": [
                "# Shift everything forward one month\n",
                "df.tshift(periods=1,freq='M').head()"
            ],
            "metadata": {
                "collapsed": false,
                "azdata_cell_guid": "2279ba2d-2263-4bfa-a523-039cee7a7fc7"
            },
            "outputs": [
                {
                    "output_type": "execute_result",
                    "execution_count": 28,
                    "data": {
                        "text/html": "<div>\n<table border=\"1\" class=\"dataframe\">\n  <thead>\n    <tr style=\"text-align: right;\">\n      <th></th>\n      <th>Open</th>\n      <th>High</th>\n      <th>Low</th>\n      <th>Close</th>\n      <th>Volume</th>\n      <th>Adj Close</th>\n    </tr>\n    <tr>\n      <th>Date</th>\n      <th></th>\n      <th></th>\n      <th></th>\n      <th></th>\n      <th></th>\n      <th></th>\n    </tr>\n  </thead>\n  <tbody>\n    <tr>\n      <th>2012-01-31</th>\n      <td>59.970001</td>\n      <td>61.060001</td>\n      <td>59.869999</td>\n      <td>60.330002</td>\n      <td>12668800</td>\n      <td>52.619235</td>\n    </tr>\n    <tr>\n      <th>2012-01-31</th>\n      <td>60.209999</td>\n      <td>60.349998</td>\n      <td>59.470001</td>\n      <td>59.709999</td>\n      <td>9593300</td>\n      <td>52.078475</td>\n    </tr>\n    <tr>\n      <th>2012-01-31</th>\n      <td>59.349998</td>\n      <td>59.619999</td>\n      <td>58.369999</td>\n      <td>59.419998</td>\n      <td>12768200</td>\n      <td>51.825539</td>\n    </tr>\n    <tr>\n      <th>2012-01-31</th>\n      <td>59.419998</td>\n      <td>59.450001</td>\n      <td>58.869999</td>\n      <td>59.000000</td>\n      <td>8069400</td>\n      <td>51.459220</td>\n    </tr>\n    <tr>\n      <th>2012-01-31</th>\n      <td>59.029999</td>\n      <td>59.549999</td>\n      <td>58.919998</td>\n      <td>59.180000</td>\n      <td>6679300</td>\n      <td>51.616215</td>\n    </tr>\n  </tbody>\n</table>\n</div>",
                        "text/plain": "                 Open       High        Low      Close    Volume  Adj Close\nDate                                                                       \n2012-01-31  59.970001  61.060001  59.869999  60.330002  12668800  52.619235\n2012-01-31  60.209999  60.349998  59.470001  59.709999   9593300  52.078475\n2012-01-31  59.349998  59.619999  58.369999  59.419998  12768200  51.825539\n2012-01-31  59.419998  59.450001  58.869999  59.000000   8069400  51.459220\n2012-01-31  59.029999  59.549999  58.919998  59.180000   6679300  51.616215"
                    },
                    "metadata": {}
                }
            ],
            "execution_count": 28
        },
        {
            "cell_type": "markdown",
            "source": [
                "That is it for now!"
            ],
            "metadata": {
                "azdata_cell_guid": "db5dbc08-b28c-4c26-b247-5b82dc423757"
            }
        }
    ]
}