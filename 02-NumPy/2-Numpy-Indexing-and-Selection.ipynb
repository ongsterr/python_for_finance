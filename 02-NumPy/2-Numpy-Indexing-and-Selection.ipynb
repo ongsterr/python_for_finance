{
    "metadata": {
        "kernelspec": {
            "name": "python3",
            "display_name": "Python 3"
        },
        "language_info": {
            "name": "python",
            "version": "3.7.0",
            "mimetype": "text/x-python",
            "codemirror_mode": {
                "name": "ipython",
                "version": 3
            },
            "pygments_lexer": "ipython3",
            "nbconvert_exporter": "python",
            "file_extension": ".py"
        }
    },
    "nbformat_minor": 2,
    "nbformat": 4,
    "cells": [
        {
            "cell_type": "markdown",
            "source": "___\n\n<a href='http://www.pieriandata.com'> <img src='../Pierian_Data_Logo.png' /></a>\n___\n<center>*Copyright Pierian Data 2017*</center>\n<center>*For more information, visit us at www.pieriandata.com*</center>",
            "metadata": {}
        },
        {
            "cell_type": "markdown",
            "source": "# NumPy Indexing and Selection\n\nIn this lecture we will discuss how to select elements or groups of elements from an array.",
            "metadata": {}
        },
        {
            "cell_type": "code",
            "source": "import numpy as np",
            "metadata": {},
            "outputs": [],
            "execution_count": 2
        },
        {
            "cell_type": "code",
            "source": "#Creating sample array\narr = np.arange(0,11)",
            "metadata": {},
            "outputs": [],
            "execution_count": 3
        },
        {
            "cell_type": "code",
            "source": "#Show\narr",
            "metadata": {},
            "outputs": [
                {
                    "data": {
                        "text/plain": "array([ 0,  1,  2,  3,  4,  5,  6,  7,  8,  9, 10])"
                    },
                    "metadata": {},
                    "execution_count": 4,
                    "output_type": "execute_result"
                }
            ],
            "execution_count": 4
        },
        {
            "cell_type": "markdown",
            "source": "## Bracket Indexing and Selection\nThe simplest way to pick one or some elements of an array looks very similar to python lists:",
            "metadata": {}
        },
        {
            "cell_type": "code",
            "source": "#Get a value at an index\narr[8]",
            "metadata": {},
            "outputs": [
                {
                    "data": {
                        "text/plain": "8"
                    },
                    "metadata": {},
                    "execution_count": 5,
                    "output_type": "execute_result"
                }
            ],
            "execution_count": 5
        },
        {
            "cell_type": "code",
            "source": "#Get values in a range\narr[1:5]",
            "metadata": {},
            "outputs": [
                {
                    "data": {
                        "text/plain": "array([1, 2, 3, 4])"
                    },
                    "metadata": {},
                    "execution_count": 6,
                    "output_type": "execute_result"
                }
            ],
            "execution_count": 6
        },
        {
            "cell_type": "code",
            "source": "#Get values in a range\narr[0:5]",
            "metadata": {},
            "outputs": [
                {
                    "data": {
                        "text/plain": "array([0, 1, 2, 3, 4])"
                    },
                    "metadata": {},
                    "execution_count": 7,
                    "output_type": "execute_result"
                }
            ],
            "execution_count": 7
        },
        {
            "cell_type": "markdown",
            "source": "## Broadcasting\n\nNumpy arrays differ from a normal Python list because of their ability to broadcast:",
            "metadata": {}
        },
        {
            "cell_type": "code",
            "source": "#Setting a value with index range (Broadcasting)\narr[0:5]=100\n\n#Show\narr",
            "metadata": {},
            "outputs": [
                {
                    "data": {
                        "text/plain": "array([100, 100, 100, 100, 100,   5,   6,   7,   8,   9,  10])"
                    },
                    "metadata": {},
                    "execution_count": 8,
                    "output_type": "execute_result"
                }
            ],
            "execution_count": 8
        },
        {
            "cell_type": "code",
            "source": "# Reset array, we'll see why I had to reset in  a moment\narr = np.arange(0,11)\n\n#Show\narr",
            "metadata": {},
            "outputs": [
                {
                    "data": {
                        "text/plain": "array([ 0,  1,  2,  3,  4,  5,  6,  7,  8,  9, 10])"
                    },
                    "metadata": {},
                    "execution_count": 9,
                    "output_type": "execute_result"
                }
            ],
            "execution_count": 9
        },
        {
            "cell_type": "code",
            "source": "#Important notes on Slices\nslice_of_arr = arr[0:6]\n\n#Show slice\nslice_of_arr",
            "metadata": {},
            "outputs": [
                {
                    "data": {
                        "text/plain": "array([0, 1, 2, 3, 4, 5])"
                    },
                    "metadata": {},
                    "execution_count": 10,
                    "output_type": "execute_result"
                }
            ],
            "execution_count": 10
        },
        {
            "cell_type": "code",
            "source": "#Change Slice\nslice_of_arr[:]=99\n\n#Show Slice again\nslice_of_arr",
            "metadata": {},
            "outputs": [
                {
                    "data": {
                        "text/plain": "array([99, 99, 99, 99, 99, 99])"
                    },
                    "metadata": {},
                    "execution_count": 11,
                    "output_type": "execute_result"
                }
            ],
            "execution_count": 11
        },
        {
            "cell_type": "markdown",
            "source": "Now note the changes also occur in our original array!",
            "metadata": {}
        },
        {
            "cell_type": "code",
            "source": "arr",
            "metadata": {},
            "outputs": [
                {
                    "data": {
                        "text/plain": "array([99, 99, 99, 99, 99, 99,  6,  7,  8,  9, 10])"
                    },
                    "metadata": {},
                    "execution_count": 12,
                    "output_type": "execute_result"
                }
            ],
            "execution_count": 12
        },
        {
            "cell_type": "markdown",
            "source": "Data is not copied, it's a view of the original array! This avoids memory problems!",
            "metadata": {}
        },
        {
            "cell_type": "code",
            "source": "#To get a copy, need to be explicit\narr_copy = arr.copy()\n\narr_copy",
            "metadata": {},
            "outputs": [
                {
                    "data": {
                        "text/plain": "array([99, 99, 99, 99, 99, 99,  6,  7,  8,  9, 10])"
                    },
                    "metadata": {},
                    "execution_count": 13,
                    "output_type": "execute_result"
                }
            ],
            "execution_count": 13
        },
        {
            "cell_type": "markdown",
            "source": "## Indexing a 2D array (matrices)\n\nThe general format is **arr_2d[row][col]** or **arr_2d[row,col]**. I recommend usually using the comma notation for clarity.",
            "metadata": {}
        },
        {
            "cell_type": "code",
            "source": "arr_2d = np.array(([5,10,15],[20,25,30],[35,40,45]))\n\n#Show\narr_2d",
            "metadata": {},
            "outputs": [
                {
                    "data": {
                        "text/plain": "array([[ 5, 10, 15],\n       [20, 25, 30],\n       [35, 40, 45]])"
                    },
                    "metadata": {},
                    "execution_count": 14,
                    "output_type": "execute_result"
                }
            ],
            "execution_count": 14
        },
        {
            "cell_type": "code",
            "source": "#Indexing row\narr_2d[1]\n",
            "metadata": {},
            "outputs": [
                {
                    "data": {
                        "text/plain": "array([20, 25, 30])"
                    },
                    "metadata": {},
                    "execution_count": 15,
                    "output_type": "execute_result"
                }
            ],
            "execution_count": 15
        },
        {
            "cell_type": "code",
            "source": "# Format is arr_2d[row][col] or arr_2d[row,col]\n\n# Getting individual element value\narr_2d[1][0]",
            "metadata": {},
            "outputs": [
                {
                    "data": {
                        "text/plain": "20"
                    },
                    "metadata": {},
                    "execution_count": 16,
                    "output_type": "execute_result"
                }
            ],
            "execution_count": 16
        },
        {
            "cell_type": "code",
            "source": "# Getting individual element value\narr_2d[1,0]",
            "metadata": {},
            "outputs": [
                {
                    "data": {
                        "text/plain": "20"
                    },
                    "metadata": {},
                    "execution_count": 17,
                    "output_type": "execute_result"
                }
            ],
            "execution_count": 17
        },
        {
            "cell_type": "code",
            "source": "# 2D array slicing\n\n#Shape (2,2) from top right corner\narr_2d[:2,1:]",
            "metadata": {},
            "outputs": [
                {
                    "data": {
                        "text/plain": "array([[10, 15],\n       [25, 30]])"
                    },
                    "metadata": {},
                    "execution_count": 18,
                    "output_type": "execute_result"
                }
            ],
            "execution_count": 18
        },
        {
            "cell_type": "code",
            "source": "#Shape bottom row\narr_2d[2]",
            "metadata": {},
            "outputs": [
                {
                    "data": {
                        "text/plain": "array([35, 40, 45])"
                    },
                    "metadata": {},
                    "execution_count": 19,
                    "output_type": "execute_result"
                }
            ],
            "execution_count": 19
        },
        {
            "cell_type": "code",
            "source": "#Shape bottom row\narr_2d[2,:]",
            "metadata": {},
            "outputs": [
                {
                    "data": {
                        "text/plain": "array([35, 40, 45])"
                    },
                    "metadata": {},
                    "execution_count": 20,
                    "output_type": "execute_result"
                }
            ],
            "execution_count": 20
        },
        {
            "cell_type": "markdown",
            "source": "## More Indexing Help\nIndexing a 2d matrix can be a bit confusing at first, especially when you start to add in step size. Try google image searching NumPy indexing to fins useful images, like this one:\n\n<img src= 'http://memory.osu.edu/classes/python/_images/numpy_indexing.png' width=500/>",
            "metadata": {}
        },
        {
            "cell_type": "markdown",
            "source": "## Conditional Selection\n\nThis is a very fundamental concept that will directly translate to pandas later on, make sure you understand this part!\n\nLet's briefly go over how to use brackets for selection based off of comparison operators.",
            "metadata": {}
        },
        {
            "cell_type": "code",
            "source": "arr = np.arange(1,11)\narr",
            "metadata": {},
            "outputs": [
                {
                    "data": {
                        "text/plain": "array([ 1,  2,  3,  4,  5,  6,  7,  8,  9, 10])"
                    },
                    "metadata": {},
                    "execution_count": 21,
                    "output_type": "execute_result"
                }
            ],
            "execution_count": 21
        },
        {
            "cell_type": "code",
            "source": "arr > 4",
            "metadata": {},
            "outputs": [
                {
                    "data": {
                        "text/plain": "array([False, False, False, False,  True,  True,  True,  True,  True,\n        True])"
                    },
                    "metadata": {},
                    "execution_count": 22,
                    "output_type": "execute_result"
                }
            ],
            "execution_count": 22
        },
        {
            "cell_type": "code",
            "source": "bool_arr = arr>4",
            "metadata": {},
            "outputs": [],
            "execution_count": 23
        },
        {
            "cell_type": "code",
            "source": "bool_arr",
            "metadata": {},
            "outputs": [
                {
                    "data": {
                        "text/plain": "array([False, False, False, False,  True,  True,  True,  True,  True,\n        True])"
                    },
                    "metadata": {},
                    "execution_count": 24,
                    "output_type": "execute_result"
                }
            ],
            "execution_count": 24
        },
        {
            "cell_type": "code",
            "source": "arr[bool_arr]",
            "metadata": {},
            "outputs": [
                {
                    "data": {
                        "text/plain": "array([ 5,  6,  7,  8,  9, 10])"
                    },
                    "metadata": {},
                    "execution_count": 25,
                    "output_type": "execute_result"
                }
            ],
            "execution_count": 25
        },
        {
            "cell_type": "code",
            "source": "arr[arr>2]",
            "metadata": {},
            "outputs": [
                {
                    "data": {
                        "text/plain": "array([ 3,  4,  5,  6,  7,  8,  9, 10])"
                    },
                    "metadata": {},
                    "execution_count": 26,
                    "output_type": "execute_result"
                }
            ],
            "execution_count": 26
        },
        {
            "cell_type": "code",
            "source": "x = 2\narr[arr>x]",
            "metadata": {},
            "outputs": [
                {
                    "data": {
                        "text/plain": "array([ 3,  4,  5,  6,  7,  8,  9, 10])"
                    },
                    "metadata": {},
                    "execution_count": 27,
                    "output_type": "execute_result"
                }
            ],
            "execution_count": 27
        },
        {
            "cell_type": "markdown",
            "source": "# Great Job!\n",
            "metadata": {}
        }
    ]
}