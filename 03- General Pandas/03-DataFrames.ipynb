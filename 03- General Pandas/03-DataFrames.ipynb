{
    "metadata": {
        "kernelspec": {
            "name": "python3",
            "display_name": "Python 3"
        },
        "language_info": {
            "name": "python",
            "version": "3.7.0",
            "mimetype": "text/x-python",
            "codemirror_mode": {
                "name": "ipython",
                "version": 3
            },
            "pygments_lexer": "ipython3",
            "nbconvert_exporter": "python",
            "file_extension": ".py"
        }
    },
    "nbformat_minor": 2,
    "nbformat": 4,
    "cells": [
        {
            "cell_type": "markdown",
            "source": "___\n\n<a href='http://www.pieriandata.com'> <img src='../Pierian_Data_Logo.png' /></a>\n___",
            "metadata": {}
        },
        {
            "cell_type": "markdown",
            "source": "# DataFrames\n\nDataFrames are the workhorse of pandas and are directly inspired by the R programming language. We can think of a DataFrame as a bunch of Series objects put together to share the same index. Let's use pandas to explore this topic!",
            "metadata": {}
        },
        {
            "cell_type": "code",
            "source": "import pandas as pd\nimport numpy as np",
            "metadata": {},
            "outputs": [],
            "execution_count": 183
        },
        {
            "cell_type": "code",
            "source": "from numpy.random import randn\nnp.random.seed(101)",
            "metadata": {},
            "outputs": [],
            "execution_count": 184
        },
        {
            "cell_type": "code",
            "source": "df = pd.DataFrame(randn(5,4),index='A B C D E'.split(),columns='W X Y Z'.split())",
            "metadata": {},
            "outputs": [],
            "execution_count": 185
        },
        {
            "cell_type": "code",
            "source": "df",
            "metadata": {},
            "outputs": [
                {
                    "output_type": "execute_result",
                    "execution_count": 186,
                    "data": {
                        "text/html": "<div>\n<table border=\"1\" class=\"dataframe\">\n  <thead>\n    <tr style=\"text-align: right;\">\n      <th></th>\n      <th>W</th>\n      <th>X</th>\n      <th>Y</th>\n      <th>Z</th>\n    </tr>\n  </thead>\n  <tbody>\n    <tr>\n      <th>A</th>\n      <td>2.706850</td>\n      <td>0.628133</td>\n      <td>0.907969</td>\n      <td>0.503826</td>\n    </tr>\n    <tr>\n      <th>B</th>\n      <td>0.651118</td>\n      <td>-0.319318</td>\n      <td>-0.848077</td>\n      <td>0.605965</td>\n    </tr>\n    <tr>\n      <th>C</th>\n      <td>-2.018168</td>\n      <td>0.740122</td>\n      <td>0.528813</td>\n      <td>-0.589001</td>\n    </tr>\n    <tr>\n      <th>D</th>\n      <td>0.188695</td>\n      <td>-0.758872</td>\n      <td>-0.933237</td>\n      <td>0.955057</td>\n    </tr>\n    <tr>\n      <th>E</th>\n      <td>0.190794</td>\n      <td>1.978757</td>\n      <td>2.605967</td>\n      <td>0.683509</td>\n    </tr>\n  </tbody>\n</table>\n</div>",
                        "text/plain": "          W         X         Y         Z\nA  2.706850  0.628133  0.907969  0.503826\nB  0.651118 -0.319318 -0.848077  0.605965\nC -2.018168  0.740122  0.528813 -0.589001\nD  0.188695 -0.758872 -0.933237  0.955057\nE  0.190794  1.978757  2.605967  0.683509"
                    },
                    "metadata": {}
                }
            ],
            "execution_count": 186
        },
        {
            "cell_type": "markdown",
            "source": "## Selection and Indexing\n\nLet's learn the various methods to grab data from a DataFrame",
            "metadata": {}
        },
        {
            "cell_type": "code",
            "source": "df['W']",
            "metadata": {},
            "outputs": [
                {
                    "output_type": "execute_result",
                    "execution_count": 187,
                    "data": {
                        "text/plain": "A    2.706850\nB    0.651118\nC   -2.018168\nD    0.188695\nE    0.190794\nName: W, dtype: float64"
                    },
                    "metadata": {}
                }
            ],
            "execution_count": 187
        },
        {
            "cell_type": "code",
            "source": "# Pass a list of column names\ndf[['W','Z']]",
            "metadata": {},
            "outputs": [
                {
                    "output_type": "execute_result",
                    "execution_count": 188,
                    "data": {
                        "text/html": "<div>\n<table border=\"1\" class=\"dataframe\">\n  <thead>\n    <tr style=\"text-align: right;\">\n      <th></th>\n      <th>W</th>\n      <th>Z</th>\n    </tr>\n  </thead>\n  <tbody>\n    <tr>\n      <th>A</th>\n      <td>2.706850</td>\n      <td>0.503826</td>\n    </tr>\n    <tr>\n      <th>B</th>\n      <td>0.651118</td>\n      <td>0.605965</td>\n    </tr>\n    <tr>\n      <th>C</th>\n      <td>-2.018168</td>\n      <td>-0.589001</td>\n    </tr>\n    <tr>\n      <th>D</th>\n      <td>0.188695</td>\n      <td>0.955057</td>\n    </tr>\n    <tr>\n      <th>E</th>\n      <td>0.190794</td>\n      <td>0.683509</td>\n    </tr>\n  </tbody>\n</table>\n</div>",
                        "text/plain": "          W         Z\nA  2.706850  0.503826\nB  0.651118  0.605965\nC -2.018168 -0.589001\nD  0.188695  0.955057\nE  0.190794  0.683509"
                    },
                    "metadata": {}
                }
            ],
            "execution_count": 188
        },
        {
            "cell_type": "code",
            "source": "# SQL Syntax (NOT RECOMMENDED!)\ndf.W",
            "metadata": {},
            "outputs": [
                {
                    "output_type": "execute_result",
                    "execution_count": 189,
                    "data": {
                        "text/plain": "A    2.706850\nB    0.651118\nC   -2.018168\nD    0.188695\nE    0.190794\nName: W, dtype: float64"
                    },
                    "metadata": {}
                }
            ],
            "execution_count": 189
        },
        {
            "cell_type": "markdown",
            "source": "DataFrame Columns are just Series",
            "metadata": {}
        },
        {
            "cell_type": "code",
            "source": "type(df['W'])",
            "metadata": {},
            "outputs": [
                {
                    "output_type": "execute_result",
                    "execution_count": 190,
                    "data": {
                        "text/plain": "pandas.core.series.Series"
                    },
                    "metadata": {}
                }
            ],
            "execution_count": 190
        },
        {
            "cell_type": "markdown",
            "source": "**Creating a new column:**",
            "metadata": {}
        },
        {
            "cell_type": "code",
            "source": "df['new'] = df['W'] + df['Y']",
            "metadata": {},
            "outputs": [],
            "execution_count": 191
        },
        {
            "cell_type": "code",
            "source": "df",
            "metadata": {},
            "outputs": [
                {
                    "output_type": "execute_result",
                    "execution_count": 192,
                    "data": {
                        "text/html": "<div>\n<table border=\"1\" class=\"dataframe\">\n  <thead>\n    <tr style=\"text-align: right;\">\n      <th></th>\n      <th>W</th>\n      <th>X</th>\n      <th>Y</th>\n      <th>Z</th>\n      <th>new</th>\n    </tr>\n  </thead>\n  <tbody>\n    <tr>\n      <th>A</th>\n      <td>2.706850</td>\n      <td>0.628133</td>\n      <td>0.907969</td>\n      <td>0.503826</td>\n      <td>3.614819</td>\n    </tr>\n    <tr>\n      <th>B</th>\n      <td>0.651118</td>\n      <td>-0.319318</td>\n      <td>-0.848077</td>\n      <td>0.605965</td>\n      <td>-0.196959</td>\n    </tr>\n    <tr>\n      <th>C</th>\n      <td>-2.018168</td>\n      <td>0.740122</td>\n      <td>0.528813</td>\n      <td>-0.589001</td>\n      <td>-1.489355</td>\n    </tr>\n    <tr>\n      <th>D</th>\n      <td>0.188695</td>\n      <td>-0.758872</td>\n      <td>-0.933237</td>\n      <td>0.955057</td>\n      <td>-0.744542</td>\n    </tr>\n    <tr>\n      <th>E</th>\n      <td>0.190794</td>\n      <td>1.978757</td>\n      <td>2.605967</td>\n      <td>0.683509</td>\n      <td>2.796762</td>\n    </tr>\n  </tbody>\n</table>\n</div>",
                        "text/plain": "          W         X         Y         Z       new\nA  2.706850  0.628133  0.907969  0.503826  3.614819\nB  0.651118 -0.319318 -0.848077  0.605965 -0.196959\nC -2.018168  0.740122  0.528813 -0.589001 -1.489355\nD  0.188695 -0.758872 -0.933237  0.955057 -0.744542\nE  0.190794  1.978757  2.605967  0.683509  2.796762"
                    },
                    "metadata": {}
                }
            ],
            "execution_count": 192
        },
        {
            "cell_type": "markdown",
            "source": "** Removing Columns**",
            "metadata": {}
        },
        {
            "cell_type": "code",
            "source": "df.drop('new',axis=1)",
            "metadata": {},
            "outputs": [
                {
                    "output_type": "execute_result",
                    "execution_count": 193,
                    "data": {
                        "text/html": "<div>\n<table border=\"1\" class=\"dataframe\">\n  <thead>\n    <tr style=\"text-align: right;\">\n      <th></th>\n      <th>W</th>\n      <th>X</th>\n      <th>Y</th>\n      <th>Z</th>\n    </tr>\n  </thead>\n  <tbody>\n    <tr>\n      <th>A</th>\n      <td>2.706850</td>\n      <td>0.628133</td>\n      <td>0.907969</td>\n      <td>0.503826</td>\n    </tr>\n    <tr>\n      <th>B</th>\n      <td>0.651118</td>\n      <td>-0.319318</td>\n      <td>-0.848077</td>\n      <td>0.605965</td>\n    </tr>\n    <tr>\n      <th>C</th>\n      <td>-2.018168</td>\n      <td>0.740122</td>\n      <td>0.528813</td>\n      <td>-0.589001</td>\n    </tr>\n    <tr>\n      <th>D</th>\n      <td>0.188695</td>\n      <td>-0.758872</td>\n      <td>-0.933237</td>\n      <td>0.955057</td>\n    </tr>\n    <tr>\n      <th>E</th>\n      <td>0.190794</td>\n      <td>1.978757</td>\n      <td>2.605967</td>\n      <td>0.683509</td>\n    </tr>\n  </tbody>\n</table>\n</div>",
                        "text/plain": "          W         X         Y         Z\nA  2.706850  0.628133  0.907969  0.503826\nB  0.651118 -0.319318 -0.848077  0.605965\nC -2.018168  0.740122  0.528813 -0.589001\nD  0.188695 -0.758872 -0.933237  0.955057\nE  0.190794  1.978757  2.605967  0.683509"
                    },
                    "metadata": {}
                }
            ],
            "execution_count": 193
        },
        {
            "cell_type": "code",
            "source": "# Not inplace unless specified!\ndf",
            "metadata": {},
            "outputs": [
                {
                    "output_type": "execute_result",
                    "execution_count": 194,
                    "data": {
                        "text/html": "<div>\n<table border=\"1\" class=\"dataframe\">\n  <thead>\n    <tr style=\"text-align: right;\">\n      <th></th>\n      <th>W</th>\n      <th>X</th>\n      <th>Y</th>\n      <th>Z</th>\n      <th>new</th>\n    </tr>\n  </thead>\n  <tbody>\n    <tr>\n      <th>A</th>\n      <td>2.706850</td>\n      <td>0.628133</td>\n      <td>0.907969</td>\n      <td>0.503826</td>\n      <td>3.614819</td>\n    </tr>\n    <tr>\n      <th>B</th>\n      <td>0.651118</td>\n      <td>-0.319318</td>\n      <td>-0.848077</td>\n      <td>0.605965</td>\n      <td>-0.196959</td>\n    </tr>\n    <tr>\n      <th>C</th>\n      <td>-2.018168</td>\n      <td>0.740122</td>\n      <td>0.528813</td>\n      <td>-0.589001</td>\n      <td>-1.489355</td>\n    </tr>\n    <tr>\n      <th>D</th>\n      <td>0.188695</td>\n      <td>-0.758872</td>\n      <td>-0.933237</td>\n      <td>0.955057</td>\n      <td>-0.744542</td>\n    </tr>\n    <tr>\n      <th>E</th>\n      <td>0.190794</td>\n      <td>1.978757</td>\n      <td>2.605967</td>\n      <td>0.683509</td>\n      <td>2.796762</td>\n    </tr>\n  </tbody>\n</table>\n</div>",
                        "text/plain": "          W         X         Y         Z       new\nA  2.706850  0.628133  0.907969  0.503826  3.614819\nB  0.651118 -0.319318 -0.848077  0.605965 -0.196959\nC -2.018168  0.740122  0.528813 -0.589001 -1.489355\nD  0.188695 -0.758872 -0.933237  0.955057 -0.744542\nE  0.190794  1.978757  2.605967  0.683509  2.796762"
                    },
                    "metadata": {}
                }
            ],
            "execution_count": 194
        },
        {
            "cell_type": "code",
            "source": "df.drop('new',axis=1,inplace=True)",
            "metadata": {},
            "outputs": [],
            "execution_count": 195
        },
        {
            "cell_type": "code",
            "source": "df",
            "metadata": {},
            "outputs": [
                {
                    "output_type": "execute_result",
                    "execution_count": 196,
                    "data": {
                        "text/html": "<div>\n<table border=\"1\" class=\"dataframe\">\n  <thead>\n    <tr style=\"text-align: right;\">\n      <th></th>\n      <th>W</th>\n      <th>X</th>\n      <th>Y</th>\n      <th>Z</th>\n    </tr>\n  </thead>\n  <tbody>\n    <tr>\n      <th>A</th>\n      <td>2.706850</td>\n      <td>0.628133</td>\n      <td>0.907969</td>\n      <td>0.503826</td>\n    </tr>\n    <tr>\n      <th>B</th>\n      <td>0.651118</td>\n      <td>-0.319318</td>\n      <td>-0.848077</td>\n      <td>0.605965</td>\n    </tr>\n    <tr>\n      <th>C</th>\n      <td>-2.018168</td>\n      <td>0.740122</td>\n      <td>0.528813</td>\n      <td>-0.589001</td>\n    </tr>\n    <tr>\n      <th>D</th>\n      <td>0.188695</td>\n      <td>-0.758872</td>\n      <td>-0.933237</td>\n      <td>0.955057</td>\n    </tr>\n    <tr>\n      <th>E</th>\n      <td>0.190794</td>\n      <td>1.978757</td>\n      <td>2.605967</td>\n      <td>0.683509</td>\n    </tr>\n  </tbody>\n</table>\n</div>",
                        "text/plain": "          W         X         Y         Z\nA  2.706850  0.628133  0.907969  0.503826\nB  0.651118 -0.319318 -0.848077  0.605965\nC -2.018168  0.740122  0.528813 -0.589001\nD  0.188695 -0.758872 -0.933237  0.955057\nE  0.190794  1.978757  2.605967  0.683509"
                    },
                    "metadata": {}
                }
            ],
            "execution_count": 196
        },
        {
            "cell_type": "markdown",
            "source": "Can also drop rows this way:",
            "metadata": {}
        },
        {
            "cell_type": "code",
            "source": "df.drop('E',axis=0)",
            "metadata": {},
            "outputs": [
                {
                    "output_type": "execute_result",
                    "execution_count": 197,
                    "data": {
                        "text/html": "<div>\n<table border=\"1\" class=\"dataframe\">\n  <thead>\n    <tr style=\"text-align: right;\">\n      <th></th>\n      <th>W</th>\n      <th>X</th>\n      <th>Y</th>\n      <th>Z</th>\n    </tr>\n  </thead>\n  <tbody>\n    <tr>\n      <th>A</th>\n      <td>2.706850</td>\n      <td>0.628133</td>\n      <td>0.907969</td>\n      <td>0.503826</td>\n    </tr>\n    <tr>\n      <th>B</th>\n      <td>0.651118</td>\n      <td>-0.319318</td>\n      <td>-0.848077</td>\n      <td>0.605965</td>\n    </tr>\n    <tr>\n      <th>C</th>\n      <td>-2.018168</td>\n      <td>0.740122</td>\n      <td>0.528813</td>\n      <td>-0.589001</td>\n    </tr>\n    <tr>\n      <th>D</th>\n      <td>0.188695</td>\n      <td>-0.758872</td>\n      <td>-0.933237</td>\n      <td>0.955057</td>\n    </tr>\n  </tbody>\n</table>\n</div>",
                        "text/plain": "          W         X         Y         Z\nA  2.706850  0.628133  0.907969  0.503826\nB  0.651118 -0.319318 -0.848077  0.605965\nC -2.018168  0.740122  0.528813 -0.589001\nD  0.188695 -0.758872 -0.933237  0.955057"
                    },
                    "metadata": {}
                }
            ],
            "execution_count": 197
        },
        {
            "cell_type": "markdown",
            "source": "** Selecting Rows**",
            "metadata": {}
        },
        {
            "cell_type": "code",
            "source": "\r\ndf.loc['A']",
            "metadata": {},
            "outputs": [
                {
                    "output_type": "execute_result",
                    "execution_count": 198,
                    "data": {
                        "text/plain": "W    2.706850\nX    0.628133\nY    0.907969\nZ    0.503826\nName: A, dtype: float64"
                    },
                    "metadata": {}
                }
            ],
            "execution_count": 198
        },
        {
            "cell_type": "markdown",
            "source": "Or select based off of position instead of label ",
            "metadata": {}
        },
        {
            "cell_type": "code",
            "source": "df.iloc[2]",
            "metadata": {},
            "outputs": [
                {
                    "output_type": "execute_result",
                    "execution_count": 199,
                    "data": {
                        "text/plain": "W   -2.018168\nX    0.740122\nY    0.528813\nZ   -0.589001\nName: C, dtype: float64"
                    },
                    "metadata": {}
                }
            ],
            "execution_count": 199
        },
        {
            "cell_type": "markdown",
            "source": "** Selecting subset of rows and columns **",
            "metadata": {}
        },
        {
            "cell_type": "code",
            "source": "df.loc['B','Y']",
            "metadata": {},
            "outputs": [
                {
                    "output_type": "execute_result",
                    "execution_count": 200,
                    "data": {
                        "text/plain": "-0.84807698340363147"
                    },
                    "metadata": {}
                }
            ],
            "execution_count": 200
        },
        {
            "cell_type": "code",
            "source": "df.loc[['A','B'],['W','Y']]",
            "metadata": {},
            "outputs": [
                {
                    "output_type": "execute_result",
                    "execution_count": 201,
                    "data": {
                        "text/html": "<div>\n<table border=\"1\" class=\"dataframe\">\n  <thead>\n    <tr style=\"text-align: right;\">\n      <th></th>\n      <th>W</th>\n      <th>Y</th>\n    </tr>\n  </thead>\n  <tbody>\n    <tr>\n      <th>A</th>\n      <td>2.706850</td>\n      <td>0.907969</td>\n    </tr>\n    <tr>\n      <th>B</th>\n      <td>0.651118</td>\n      <td>-0.848077</td>\n    </tr>\n  </tbody>\n</table>\n</div>",
                        "text/plain": "          W         Y\nA  2.706850  0.907969\nB  0.651118 -0.848077"
                    },
                    "metadata": {}
                }
            ],
            "execution_count": 201
        },
        {
            "cell_type": "markdown",
            "source": "### Conditional Selection\n\nAn important feature of pandas is conditional selection using bracket notation, very similar to numpy:",
            "metadata": {}
        },
        {
            "cell_type": "code",
            "source": "df",
            "metadata": {},
            "outputs": [
                {
                    "output_type": "execute_result",
                    "execution_count": 202,
                    "data": {
                        "text/html": "<div>\n<table border=\"1\" class=\"dataframe\">\n  <thead>\n    <tr style=\"text-align: right;\">\n      <th></th>\n      <th>W</th>\n      <th>X</th>\n      <th>Y</th>\n      <th>Z</th>\n    </tr>\n  </thead>\n  <tbody>\n    <tr>\n      <th>A</th>\n      <td>2.706850</td>\n      <td>0.628133</td>\n      <td>0.907969</td>\n      <td>0.503826</td>\n    </tr>\n    <tr>\n      <th>B</th>\n      <td>0.651118</td>\n      <td>-0.319318</td>\n      <td>-0.848077</td>\n      <td>0.605965</td>\n    </tr>\n    <tr>\n      <th>C</th>\n      <td>-2.018168</td>\n      <td>0.740122</td>\n      <td>0.528813</td>\n      <td>-0.589001</td>\n    </tr>\n    <tr>\n      <th>D</th>\n      <td>0.188695</td>\n      <td>-0.758872</td>\n      <td>-0.933237</td>\n      <td>0.955057</td>\n    </tr>\n    <tr>\n      <th>E</th>\n      <td>0.190794</td>\n      <td>1.978757</td>\n      <td>2.605967</td>\n      <td>0.683509</td>\n    </tr>\n  </tbody>\n</table>\n</div>",
                        "text/plain": "          W         X         Y         Z\nA  2.706850  0.628133  0.907969  0.503826\nB  0.651118 -0.319318 -0.848077  0.605965\nC -2.018168  0.740122  0.528813 -0.589001\nD  0.188695 -0.758872 -0.933237  0.955057\nE  0.190794  1.978757  2.605967  0.683509"
                    },
                    "metadata": {}
                }
            ],
            "execution_count": 202
        },
        {
            "cell_type": "code",
            "source": "df>0",
            "metadata": {},
            "outputs": [
                {
                    "output_type": "execute_result",
                    "execution_count": 203,
                    "data": {
                        "text/html": "<div>\n<table border=\"1\" class=\"dataframe\">\n  <thead>\n    <tr style=\"text-align: right;\">\n      <th></th>\n      <th>W</th>\n      <th>X</th>\n      <th>Y</th>\n      <th>Z</th>\n    </tr>\n  </thead>\n  <tbody>\n    <tr>\n      <th>A</th>\n      <td>True</td>\n      <td>True</td>\n      <td>True</td>\n      <td>True</td>\n    </tr>\n    <tr>\n      <th>B</th>\n      <td>True</td>\n      <td>False</td>\n      <td>False</td>\n      <td>True</td>\n    </tr>\n    <tr>\n      <th>C</th>\n      <td>False</td>\n      <td>True</td>\n      <td>True</td>\n      <td>False</td>\n    </tr>\n    <tr>\n      <th>D</th>\n      <td>True</td>\n      <td>False</td>\n      <td>False</td>\n      <td>True</td>\n    </tr>\n    <tr>\n      <th>E</th>\n      <td>True</td>\n      <td>True</td>\n      <td>True</td>\n      <td>True</td>\n    </tr>\n  </tbody>\n</table>\n</div>",
                        "text/plain": "       W      X      Y      Z\nA   True   True   True   True\nB   True  False  False   True\nC  False   True   True  False\nD   True  False  False   True\nE   True   True   True   True"
                    },
                    "metadata": {}
                }
            ],
            "execution_count": 203
        },
        {
            "cell_type": "code",
            "source": "df[df>0]",
            "metadata": {},
            "outputs": [
                {
                    "output_type": "execute_result",
                    "execution_count": 204,
                    "data": {
                        "text/html": "<div>\n<table border=\"1\" class=\"dataframe\">\n  <thead>\n    <tr style=\"text-align: right;\">\n      <th></th>\n      <th>W</th>\n      <th>X</th>\n      <th>Y</th>\n      <th>Z</th>\n    </tr>\n  </thead>\n  <tbody>\n    <tr>\n      <th>A</th>\n      <td>2.706850</td>\n      <td>0.628133</td>\n      <td>0.907969</td>\n      <td>0.503826</td>\n    </tr>\n    <tr>\n      <th>B</th>\n      <td>0.651118</td>\n      <td>NaN</td>\n      <td>NaN</td>\n      <td>0.605965</td>\n    </tr>\n    <tr>\n      <th>C</th>\n      <td>NaN</td>\n      <td>0.740122</td>\n      <td>0.528813</td>\n      <td>NaN</td>\n    </tr>\n    <tr>\n      <th>D</th>\n      <td>0.188695</td>\n      <td>NaN</td>\n      <td>NaN</td>\n      <td>0.955057</td>\n    </tr>\n    <tr>\n      <th>E</th>\n      <td>0.190794</td>\n      <td>1.978757</td>\n      <td>2.605967</td>\n      <td>0.683509</td>\n    </tr>\n  </tbody>\n</table>\n</div>",
                        "text/plain": "          W         X         Y         Z\nA  2.706850  0.628133  0.907969  0.503826\nB  0.651118       NaN       NaN  0.605965\nC       NaN  0.740122  0.528813       NaN\nD  0.188695       NaN       NaN  0.955057\nE  0.190794  1.978757  2.605967  0.683509"
                    },
                    "metadata": {}
                }
            ],
            "execution_count": 204
        },
        {
            "cell_type": "code",
            "source": "df[df['W']>0]",
            "metadata": {},
            "outputs": [
                {
                    "output_type": "execute_result",
                    "execution_count": 205,
                    "data": {
                        "text/html": "<div>\n<table border=\"1\" class=\"dataframe\">\n  <thead>\n    <tr style=\"text-align: right;\">\n      <th></th>\n      <th>W</th>\n      <th>X</th>\n      <th>Y</th>\n      <th>Z</th>\n    </tr>\n  </thead>\n  <tbody>\n    <tr>\n      <th>A</th>\n      <td>2.706850</td>\n      <td>0.628133</td>\n      <td>0.907969</td>\n      <td>0.503826</td>\n    </tr>\n    <tr>\n      <th>B</th>\n      <td>0.651118</td>\n      <td>-0.319318</td>\n      <td>-0.848077</td>\n      <td>0.605965</td>\n    </tr>\n    <tr>\n      <th>D</th>\n      <td>0.188695</td>\n      <td>-0.758872</td>\n      <td>-0.933237</td>\n      <td>0.955057</td>\n    </tr>\n    <tr>\n      <th>E</th>\n      <td>0.190794</td>\n      <td>1.978757</td>\n      <td>2.605967</td>\n      <td>0.683509</td>\n    </tr>\n  </tbody>\n</table>\n</div>",
                        "text/plain": "          W         X         Y         Z\nA  2.706850  0.628133  0.907969  0.503826\nB  0.651118 -0.319318 -0.848077  0.605965\nD  0.188695 -0.758872 -0.933237  0.955057\nE  0.190794  1.978757  2.605967  0.683509"
                    },
                    "metadata": {}
                }
            ],
            "execution_count": 205
        },
        {
            "cell_type": "code",
            "source": "df[df['W']>0]['Y']",
            "metadata": {},
            "outputs": [
                {
                    "output_type": "execute_result",
                    "execution_count": 206,
                    "data": {
                        "text/plain": "A    0.907969\nB   -0.848077\nD   -0.933237\nE    2.605967\nName: Y, dtype: float64"
                    },
                    "metadata": {}
                }
            ],
            "execution_count": 206
        },
        {
            "cell_type": "code",
            "source": "df[df['W']>0][['Y','X']]",
            "metadata": {},
            "outputs": [
                {
                    "output_type": "execute_result",
                    "execution_count": 207,
                    "data": {
                        "text/html": "<div>\n<table border=\"1\" class=\"dataframe\">\n  <thead>\n    <tr style=\"text-align: right;\">\n      <th></th>\n      <th>Y</th>\n      <th>X</th>\n    </tr>\n  </thead>\n  <tbody>\n    <tr>\n      <th>A</th>\n      <td>0.907969</td>\n      <td>0.628133</td>\n    </tr>\n    <tr>\n      <th>B</th>\n      <td>-0.848077</td>\n      <td>-0.319318</td>\n    </tr>\n    <tr>\n      <th>D</th>\n      <td>-0.933237</td>\n      <td>-0.758872</td>\n    </tr>\n    <tr>\n      <th>E</th>\n      <td>2.605967</td>\n      <td>1.978757</td>\n    </tr>\n  </tbody>\n</table>\n</div>",
                        "text/plain": "          Y         X\nA  0.907969  0.628133\nB -0.848077 -0.319318\nD -0.933237 -0.758872\nE  2.605967  1.978757"
                    },
                    "metadata": {}
                }
            ],
            "execution_count": 207
        },
        {
            "cell_type": "markdown",
            "source": "For two conditions you can use | and & with parenthesis:",
            "metadata": {}
        },
        {
            "cell_type": "code",
            "source": "df[(df['W']>0) & (df['Y'] > 1)]",
            "metadata": {},
            "outputs": [
                {
                    "output_type": "execute_result",
                    "execution_count": 208,
                    "data": {
                        "text/html": "<div>\n<table border=\"1\" class=\"dataframe\">\n  <thead>\n    <tr style=\"text-align: right;\">\n      <th></th>\n      <th>W</th>\n      <th>X</th>\n      <th>Y</th>\n      <th>Z</th>\n    </tr>\n  </thead>\n  <tbody>\n    <tr>\n      <th>E</th>\n      <td>0.190794</td>\n      <td>1.978757</td>\n      <td>2.605967</td>\n      <td>0.683509</td>\n    </tr>\n  </tbody>\n</table>\n</div>",
                        "text/plain": "          W         X         Y         Z\nE  0.190794  1.978757  2.605967  0.683509"
                    },
                    "metadata": {}
                }
            ],
            "execution_count": 208
        },
        {
            "cell_type": "markdown",
            "source": "## More Index Details\n\nLet's discuss some more features of indexing, including resetting the index or setting it something else. We'll also talk about index hierarchy!",
            "metadata": {}
        },
        {
            "cell_type": "code",
            "source": "df",
            "metadata": {},
            "outputs": [
                {
                    "output_type": "execute_result",
                    "execution_count": 209,
                    "data": {
                        "text/html": "<div>\n<table border=\"1\" class=\"dataframe\">\n  <thead>\n    <tr style=\"text-align: right;\">\n      <th></th>\n      <th>W</th>\n      <th>X</th>\n      <th>Y</th>\n      <th>Z</th>\n    </tr>\n  </thead>\n  <tbody>\n    <tr>\n      <th>A</th>\n      <td>2.706850</td>\n      <td>0.628133</td>\n      <td>0.907969</td>\n      <td>0.503826</td>\n    </tr>\n    <tr>\n      <th>B</th>\n      <td>0.651118</td>\n      <td>-0.319318</td>\n      <td>-0.848077</td>\n      <td>0.605965</td>\n    </tr>\n    <tr>\n      <th>C</th>\n      <td>-2.018168</td>\n      <td>0.740122</td>\n      <td>0.528813</td>\n      <td>-0.589001</td>\n    </tr>\n    <tr>\n      <th>D</th>\n      <td>0.188695</td>\n      <td>-0.758872</td>\n      <td>-0.933237</td>\n      <td>0.955057</td>\n    </tr>\n    <tr>\n      <th>E</th>\n      <td>0.190794</td>\n      <td>1.978757</td>\n      <td>2.605967</td>\n      <td>0.683509</td>\n    </tr>\n  </tbody>\n</table>\n</div>",
                        "text/plain": "          W         X         Y         Z\nA  2.706850  0.628133  0.907969  0.503826\nB  0.651118 -0.319318 -0.848077  0.605965\nC -2.018168  0.740122  0.528813 -0.589001\nD  0.188695 -0.758872 -0.933237  0.955057\nE  0.190794  1.978757  2.605967  0.683509"
                    },
                    "metadata": {}
                }
            ],
            "execution_count": 209
        },
        {
            "cell_type": "code",
            "source": "# Reset to default 0,1...n index\ndf.reset_index()",
            "metadata": {},
            "outputs": [
                {
                    "output_type": "execute_result",
                    "execution_count": 210,
                    "data": {
                        "text/html": "<div>\n<table border=\"1\" class=\"dataframe\">\n  <thead>\n    <tr style=\"text-align: right;\">\n      <th></th>\n      <th>index</th>\n      <th>W</th>\n      <th>X</th>\n      <th>Y</th>\n      <th>Z</th>\n    </tr>\n  </thead>\n  <tbody>\n    <tr>\n      <th>0</th>\n      <td>A</td>\n      <td>2.706850</td>\n      <td>0.628133</td>\n      <td>0.907969</td>\n      <td>0.503826</td>\n    </tr>\n    <tr>\n      <th>1</th>\n      <td>B</td>\n      <td>0.651118</td>\n      <td>-0.319318</td>\n      <td>-0.848077</td>\n      <td>0.605965</td>\n    </tr>\n    <tr>\n      <th>2</th>\n      <td>C</td>\n      <td>-2.018168</td>\n      <td>0.740122</td>\n      <td>0.528813</td>\n      <td>-0.589001</td>\n    </tr>\n    <tr>\n      <th>3</th>\n      <td>D</td>\n      <td>0.188695</td>\n      <td>-0.758872</td>\n      <td>-0.933237</td>\n      <td>0.955057</td>\n    </tr>\n    <tr>\n      <th>4</th>\n      <td>E</td>\n      <td>0.190794</td>\n      <td>1.978757</td>\n      <td>2.605967</td>\n      <td>0.683509</td>\n    </tr>\n  </tbody>\n</table>\n</div>",
                        "text/plain": "  index         W         X         Y         Z\n0     A  2.706850  0.628133  0.907969  0.503826\n1     B  0.651118 -0.319318 -0.848077  0.605965\n2     C -2.018168  0.740122  0.528813 -0.589001\n3     D  0.188695 -0.758872 -0.933237  0.955057\n4     E  0.190794  1.978757  2.605967  0.683509"
                    },
                    "metadata": {}
                }
            ],
            "execution_count": 210
        },
        {
            "cell_type": "code",
            "source": "newind = 'CA NY WY OR CO'.split()",
            "metadata": {},
            "outputs": [],
            "execution_count": 211
        },
        {
            "cell_type": "code",
            "source": "df['States'] = newind",
            "metadata": {},
            "outputs": [],
            "execution_count": 212
        },
        {
            "cell_type": "code",
            "source": "df",
            "metadata": {},
            "outputs": [
                {
                    "output_type": "execute_result",
                    "execution_count": 213,
                    "data": {
                        "text/html": "<div>\n<table border=\"1\" class=\"dataframe\">\n  <thead>\n    <tr style=\"text-align: right;\">\n      <th></th>\n      <th>W</th>\n      <th>X</th>\n      <th>Y</th>\n      <th>Z</th>\n      <th>States</th>\n    </tr>\n  </thead>\n  <tbody>\n    <tr>\n      <th>A</th>\n      <td>2.706850</td>\n      <td>0.628133</td>\n      <td>0.907969</td>\n      <td>0.503826</td>\n      <td>CA</td>\n    </tr>\n    <tr>\n      <th>B</th>\n      <td>0.651118</td>\n      <td>-0.319318</td>\n      <td>-0.848077</td>\n      <td>0.605965</td>\n      <td>NY</td>\n    </tr>\n    <tr>\n      <th>C</th>\n      <td>-2.018168</td>\n      <td>0.740122</td>\n      <td>0.528813</td>\n      <td>-0.589001</td>\n      <td>WY</td>\n    </tr>\n    <tr>\n      <th>D</th>\n      <td>0.188695</td>\n      <td>-0.758872</td>\n      <td>-0.933237</td>\n      <td>0.955057</td>\n      <td>OR</td>\n    </tr>\n    <tr>\n      <th>E</th>\n      <td>0.190794</td>\n      <td>1.978757</td>\n      <td>2.605967</td>\n      <td>0.683509</td>\n      <td>CO</td>\n    </tr>\n  </tbody>\n</table>\n</div>",
                        "text/plain": "          W         X         Y         Z States\nA  2.706850  0.628133  0.907969  0.503826     CA\nB  0.651118 -0.319318 -0.848077  0.605965     NY\nC -2.018168  0.740122  0.528813 -0.589001     WY\nD  0.188695 -0.758872 -0.933237  0.955057     OR\nE  0.190794  1.978757  2.605967  0.683509     CO"
                    },
                    "metadata": {}
                }
            ],
            "execution_count": 213
        },
        {
            "cell_type": "code",
            "source": "df.set_index('States')",
            "metadata": {},
            "outputs": [
                {
                    "output_type": "execute_result",
                    "execution_count": 214,
                    "data": {
                        "text/html": "<div>\n<table border=\"1\" class=\"dataframe\">\n  <thead>\n    <tr style=\"text-align: right;\">\n      <th></th>\n      <th>W</th>\n      <th>X</th>\n      <th>Y</th>\n      <th>Z</th>\n    </tr>\n    <tr>\n      <th>States</th>\n      <th></th>\n      <th></th>\n      <th></th>\n      <th></th>\n    </tr>\n  </thead>\n  <tbody>\n    <tr>\n      <th>CA</th>\n      <td>2.706850</td>\n      <td>0.628133</td>\n      <td>0.907969</td>\n      <td>0.503826</td>\n    </tr>\n    <tr>\n      <th>NY</th>\n      <td>0.651118</td>\n      <td>-0.319318</td>\n      <td>-0.848077</td>\n      <td>0.605965</td>\n    </tr>\n    <tr>\n      <th>WY</th>\n      <td>-2.018168</td>\n      <td>0.740122</td>\n      <td>0.528813</td>\n      <td>-0.589001</td>\n    </tr>\n    <tr>\n      <th>OR</th>\n      <td>0.188695</td>\n      <td>-0.758872</td>\n      <td>-0.933237</td>\n      <td>0.955057</td>\n    </tr>\n    <tr>\n      <th>CO</th>\n      <td>0.190794</td>\n      <td>1.978757</td>\n      <td>2.605967</td>\n      <td>0.683509</td>\n    </tr>\n  </tbody>\n</table>\n</div>",
                        "text/plain": "               W         X         Y         Z\nStates                                        \nCA      2.706850  0.628133  0.907969  0.503826\nNY      0.651118 -0.319318 -0.848077  0.605965\nWY     -2.018168  0.740122  0.528813 -0.589001\nOR      0.188695 -0.758872 -0.933237  0.955057\nCO      0.190794  1.978757  2.605967  0.683509"
                    },
                    "metadata": {}
                }
            ],
            "execution_count": 214
        },
        {
            "cell_type": "code",
            "source": "df",
            "metadata": {},
            "outputs": [
                {
                    "output_type": "execute_result",
                    "execution_count": 215,
                    "data": {
                        "text/html": "<div>\n<table border=\"1\" class=\"dataframe\">\n  <thead>\n    <tr style=\"text-align: right;\">\n      <th></th>\n      <th>W</th>\n      <th>X</th>\n      <th>Y</th>\n      <th>Z</th>\n      <th>States</th>\n    </tr>\n  </thead>\n  <tbody>\n    <tr>\n      <th>A</th>\n      <td>2.706850</td>\n      <td>0.628133</td>\n      <td>0.907969</td>\n      <td>0.503826</td>\n      <td>CA</td>\n    </tr>\n    <tr>\n      <th>B</th>\n      <td>0.651118</td>\n      <td>-0.319318</td>\n      <td>-0.848077</td>\n      <td>0.605965</td>\n      <td>NY</td>\n    </tr>\n    <tr>\n      <th>C</th>\n      <td>-2.018168</td>\n      <td>0.740122</td>\n      <td>0.528813</td>\n      <td>-0.589001</td>\n      <td>WY</td>\n    </tr>\n    <tr>\n      <th>D</th>\n      <td>0.188695</td>\n      <td>-0.758872</td>\n      <td>-0.933237</td>\n      <td>0.955057</td>\n      <td>OR</td>\n    </tr>\n    <tr>\n      <th>E</th>\n      <td>0.190794</td>\n      <td>1.978757</td>\n      <td>2.605967</td>\n      <td>0.683509</td>\n      <td>CO</td>\n    </tr>\n  </tbody>\n</table>\n</div>",
                        "text/plain": "          W         X         Y         Z States\nA  2.706850  0.628133  0.907969  0.503826     CA\nB  0.651118 -0.319318 -0.848077  0.605965     NY\nC -2.018168  0.740122  0.528813 -0.589001     WY\nD  0.188695 -0.758872 -0.933237  0.955057     OR\nE  0.190794  1.978757  2.605967  0.683509     CO"
                    },
                    "metadata": {}
                }
            ],
            "execution_count": 215
        },
        {
            "cell_type": "code",
            "source": "df.set_index('States',inplace=True)",
            "metadata": {},
            "outputs": [],
            "execution_count": 216
        },
        {
            "cell_type": "code",
            "source": "df",
            "metadata": {},
            "outputs": [
                {
                    "output_type": "execute_result",
                    "execution_count": 218,
                    "data": {
                        "text/html": "<div>\n<table border=\"1\" class=\"dataframe\">\n  <thead>\n    <tr style=\"text-align: right;\">\n      <th></th>\n      <th>W</th>\n      <th>X</th>\n      <th>Y</th>\n      <th>Z</th>\n    </tr>\n    <tr>\n      <th>States</th>\n      <th></th>\n      <th></th>\n      <th></th>\n      <th></th>\n    </tr>\n  </thead>\n  <tbody>\n    <tr>\n      <th>CA</th>\n      <td>2.706850</td>\n      <td>0.628133</td>\n      <td>0.907969</td>\n      <td>0.503826</td>\n    </tr>\n    <tr>\n      <th>NY</th>\n      <td>0.651118</td>\n      <td>-0.319318</td>\n      <td>-0.848077</td>\n      <td>0.605965</td>\n    </tr>\n    <tr>\n      <th>WY</th>\n      <td>-2.018168</td>\n      <td>0.740122</td>\n      <td>0.528813</td>\n      <td>-0.589001</td>\n    </tr>\n    <tr>\n      <th>OR</th>\n      <td>0.188695</td>\n      <td>-0.758872</td>\n      <td>-0.933237</td>\n      <td>0.955057</td>\n    </tr>\n    <tr>\n      <th>CO</th>\n      <td>0.190794</td>\n      <td>1.978757</td>\n      <td>2.605967</td>\n      <td>0.683509</td>\n    </tr>\n  </tbody>\n</table>\n</div>",
                        "text/plain": "               W         X         Y         Z\nStates                                        \nCA      2.706850  0.628133  0.907969  0.503826\nNY      0.651118 -0.319318 -0.848077  0.605965\nWY     -2.018168  0.740122  0.528813 -0.589001\nOR      0.188695 -0.758872 -0.933237  0.955057\nCO      0.190794  1.978757  2.605967  0.683509"
                    },
                    "metadata": {}
                }
            ],
            "execution_count": 218
        },
        {
            "cell_type": "markdown",
            "source": "## Multi-Index and Index Hierarchy\n\nLet us go over how to work with Multi-Index, first we'll create a quick example of what a Multi-Indexed DataFrame would look like:",
            "metadata": {}
        },
        {
            "cell_type": "code",
            "source": "# Index Levels\noutside = ['G1','G1','G1','G2','G2','G2']\ninside = [1,2,3,1,2,3]\nhier_index = list(zip(outside,inside))\nhier_index = pd.MultiIndex.from_tuples(hier_index)",
            "metadata": {},
            "outputs": [],
            "execution_count": 253
        },
        {
            "cell_type": "code",
            "source": "hier_index",
            "metadata": {},
            "outputs": [
                {
                    "output_type": "execute_result",
                    "execution_count": 254,
                    "data": {
                        "text/plain": "MultiIndex(levels=[['G1', 'G2'], [1, 2, 3]],\n           labels=[[0, 0, 0, 1, 1, 1], [0, 1, 2, 0, 1, 2]])"
                    },
                    "metadata": {}
                }
            ],
            "execution_count": 254
        },
        {
            "cell_type": "code",
            "source": "df = pd.DataFrame(np.random.randn(6,2),index=hier_index,columns=['A','B'])\ndf",
            "metadata": {},
            "outputs": [
                {
                    "output_type": "execute_result",
                    "execution_count": 257,
                    "data": {
                        "text/html": "<div>\n<table border=\"1\" class=\"dataframe\">\n  <thead>\n    <tr style=\"text-align: right;\">\n      <th></th>\n      <th></th>\n      <th>A</th>\n      <th>B</th>\n    </tr>\n  </thead>\n  <tbody>\n    <tr>\n      <th rowspan=\"3\" valign=\"top\">G1</th>\n      <th>1</th>\n      <td>0.153661</td>\n      <td>0.167638</td>\n    </tr>\n    <tr>\n      <th>2</th>\n      <td>-0.765930</td>\n      <td>0.962299</td>\n    </tr>\n    <tr>\n      <th>3</th>\n      <td>0.902826</td>\n      <td>-0.537909</td>\n    </tr>\n    <tr>\n      <th rowspan=\"3\" valign=\"top\">G2</th>\n      <th>1</th>\n      <td>-1.549671</td>\n      <td>0.435253</td>\n    </tr>\n    <tr>\n      <th>2</th>\n      <td>1.259904</td>\n      <td>-0.447898</td>\n    </tr>\n    <tr>\n      <th>3</th>\n      <td>0.266207</td>\n      <td>0.412580</td>\n    </tr>\n  </tbody>\n</table>\n</div>",
                        "text/plain": "             A         B\nG1 1  0.153661  0.167638\n   2 -0.765930  0.962299\n   3  0.902826 -0.537909\nG2 1 -1.549671  0.435253\n   2  1.259904 -0.447898\n   3  0.266207  0.412580"
                    },
                    "metadata": {}
                }
            ],
            "execution_count": 257
        },
        {
            "cell_type": "markdown",
            "source": "Now let's show how to index this! For index hierarchy we use df.loc[], if this was on the columns axis, you would just use normal bracket notation df[]. Calling one level of the index returns the sub-dataframe:",
            "metadata": {}
        },
        {
            "cell_type": "code",
            "source": "df.loc['G1']",
            "metadata": {},
            "outputs": [
                {
                    "output_type": "execute_result",
                    "execution_count": 260,
                    "data": {
                        "text/html": "<div>\n<table border=\"1\" class=\"dataframe\">\n  <thead>\n    <tr style=\"text-align: right;\">\n      <th></th>\n      <th>A</th>\n      <th>B</th>\n    </tr>\n  </thead>\n  <tbody>\n    <tr>\n      <th>1</th>\n      <td>0.153661</td>\n      <td>0.167638</td>\n    </tr>\n    <tr>\n      <th>2</th>\n      <td>-0.765930</td>\n      <td>0.962299</td>\n    </tr>\n    <tr>\n      <th>3</th>\n      <td>0.902826</td>\n      <td>-0.537909</td>\n    </tr>\n  </tbody>\n</table>\n</div>",
                        "text/plain": "          A         B\n1  0.153661  0.167638\n2 -0.765930  0.962299\n3  0.902826 -0.537909"
                    },
                    "metadata": {}
                }
            ],
            "execution_count": 260
        },
        {
            "cell_type": "code",
            "source": "df.loc['G1'].loc[1]",
            "metadata": {},
            "outputs": [
                {
                    "output_type": "execute_result",
                    "execution_count": 263,
                    "data": {
                        "text/plain": "A    0.153661\nB    0.167638\nName: 1, dtype: float64"
                    },
                    "metadata": {}
                }
            ],
            "execution_count": 263
        },
        {
            "cell_type": "code",
            "source": "df.index.names",
            "metadata": {},
            "outputs": [
                {
                    "output_type": "execute_result",
                    "execution_count": 265,
                    "data": {
                        "text/plain": "FrozenList([None, None])"
                    },
                    "metadata": {}
                }
            ],
            "execution_count": 265
        },
        {
            "cell_type": "code",
            "source": "df.index.names = ['Group','Num']",
            "metadata": {},
            "outputs": [],
            "execution_count": 266
        },
        {
            "cell_type": "code",
            "source": "df",
            "metadata": {},
            "outputs": [
                {
                    "output_type": "execute_result",
                    "execution_count": 267,
                    "data": {
                        "text/html": "<div>\n<table border=\"1\" class=\"dataframe\">\n  <thead>\n    <tr style=\"text-align: right;\">\n      <th></th>\n      <th></th>\n      <th>A</th>\n      <th>B</th>\n    </tr>\n    <tr>\n      <th>Group</th>\n      <th>Num</th>\n      <th></th>\n      <th></th>\n    </tr>\n  </thead>\n  <tbody>\n    <tr>\n      <th rowspan=\"3\" valign=\"top\">G1</th>\n      <th>1</th>\n      <td>0.153661</td>\n      <td>0.167638</td>\n    </tr>\n    <tr>\n      <th>2</th>\n      <td>-0.765930</td>\n      <td>0.962299</td>\n    </tr>\n    <tr>\n      <th>3</th>\n      <td>0.902826</td>\n      <td>-0.537909</td>\n    </tr>\n    <tr>\n      <th rowspan=\"3\" valign=\"top\">G2</th>\n      <th>1</th>\n      <td>-1.549671</td>\n      <td>0.435253</td>\n    </tr>\n    <tr>\n      <th>2</th>\n      <td>1.259904</td>\n      <td>-0.447898</td>\n    </tr>\n    <tr>\n      <th>3</th>\n      <td>0.266207</td>\n      <td>0.412580</td>\n    </tr>\n  </tbody>\n</table>\n</div>",
                        "text/plain": "                  A         B\nGroup Num                    \nG1    1    0.153661  0.167638\n      2   -0.765930  0.962299\n      3    0.902826 -0.537909\nG2    1   -1.549671  0.435253\n      2    1.259904 -0.447898\n      3    0.266207  0.412580"
                    },
                    "metadata": {}
                }
            ],
            "execution_count": 267
        },
        {
            "cell_type": "code",
            "source": "df.xs('G1')",
            "metadata": {},
            "outputs": [
                {
                    "output_type": "execute_result",
                    "execution_count": 270,
                    "data": {
                        "text/html": "<div>\n<table border=\"1\" class=\"dataframe\">\n  <thead>\n    <tr style=\"text-align: right;\">\n      <th></th>\n      <th>A</th>\n      <th>B</th>\n    </tr>\n    <tr>\n      <th>Num</th>\n      <th></th>\n      <th></th>\n    </tr>\n  </thead>\n  <tbody>\n    <tr>\n      <th>1</th>\n      <td>0.153661</td>\n      <td>0.167638</td>\n    </tr>\n    <tr>\n      <th>2</th>\n      <td>-0.765930</td>\n      <td>0.962299</td>\n    </tr>\n    <tr>\n      <th>3</th>\n      <td>0.902826</td>\n      <td>-0.537909</td>\n    </tr>\n  </tbody>\n</table>\n</div>",
                        "text/plain": "            A         B\nNum                    \n1    0.153661  0.167638\n2   -0.765930  0.962299\n3    0.902826 -0.537909"
                    },
                    "metadata": {}
                }
            ],
            "execution_count": 270
        },
        {
            "cell_type": "code",
            "source": "df.xs(['G1',1])",
            "metadata": {},
            "outputs": [
                {
                    "output_type": "execute_result",
                    "execution_count": 271,
                    "data": {
                        "text/plain": "A    0.153661\nB    0.167638\nName: (G1, 1), dtype: float64"
                    },
                    "metadata": {}
                }
            ],
            "execution_count": 271
        },
        {
            "cell_type": "code",
            "source": "df.xs(1,level='Num')",
            "metadata": {},
            "outputs": [
                {
                    "output_type": "execute_result",
                    "execution_count": 273,
                    "data": {
                        "text/html": "<div>\n<table border=\"1\" class=\"dataframe\">\n  <thead>\n    <tr style=\"text-align: right;\">\n      <th></th>\n      <th>A</th>\n      <th>B</th>\n    </tr>\n    <tr>\n      <th>Group</th>\n      <th></th>\n      <th></th>\n    </tr>\n  </thead>\n  <tbody>\n    <tr>\n      <th>G1</th>\n      <td>0.153661</td>\n      <td>0.167638</td>\n    </tr>\n    <tr>\n      <th>G2</th>\n      <td>-1.549671</td>\n      <td>0.435253</td>\n    </tr>\n  </tbody>\n</table>\n</div>",
                        "text/plain": "              A         B\nGroup                    \nG1     0.153661  0.167638\nG2    -1.549671  0.435253"
                    },
                    "metadata": {}
                }
            ],
            "execution_count": 273
        },
        {
            "cell_type": "markdown",
            "source": "# Great Job!",
            "metadata": {}
        }
    ]
}