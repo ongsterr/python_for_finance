{
    "metadata": {
        "kernelspec": {
            "name": "python3",
            "display_name": "Python 3"
        },
        "language_info": {
            "name": "python",
            "version": "3.7.0",
            "mimetype": "text/x-python",
            "codemirror_mode": {
                "name": "ipython",
                "version": 3
            },
            "pygments_lexer": "ipython3",
            "nbconvert_exporter": "python",
            "file_extension": ".py"
        }
    },
    "nbformat_minor": 2,
    "nbformat": 4,
    "cells": [
        {
            "cell_type": "markdown",
            "source": [
                "# Pandas Datareader\n",
                "\n",
                "** NOTE: Not every geographical location works well with pandas datareader, your firewall may also block it!**\n",
                "\n",
                "Functions from pandas_datareader.data and pandas_datareader.wb extract data from various Internet sources into a pandas DataFrame. Currently the following sources are supported:\n",
                "\n",
                "* Yahoo! Finance\n",
                "* Google Finance\n",
                "* Enigma\n",
                "* St.Louis FED (FRED)\n",
                "* Kenneth French’s data library\n",
                "* World Bank\n",
                "* OECD\n",
                "* Eurostat\n",
                "* Thrift Savings Plan\n",
                "* Oanda currency historical rate\n",
                "* Nasdaq Trader symbol definitions (remote_data.nasdaq_symbols)\n",
                "\n",
                "It should be noted, that various sources support different kinds of data, so not all sources implement the same methods and the data elements returned might also differ."
            ],
            "metadata": {
                "azdata_cell_guid": "0ae9b782-8a36-4976-a21b-dec01cb83ffc"
            }
        },
        {
            "cell_type": "code",
            "source": [
                "import pandas_datareader.data as web\n",
                "import datetime\n",
                "\n",
                "start = datetime.datetime(2017, 1, 1)\n",
                "end = datetime.datetime(2019, 1, 1)\n",
                "\n",
                "facebook = web.DataReader('fb', 'yahoo', start, end)"
            ],
            "metadata": {
                "collapsed": true,
                "azdata_cell_guid": "377dd28c-148c-4fc6-a17c-c5ea249372bd"
            },
            "outputs": [],
            "execution_count": 34
        },
        {
            "cell_type": "code",
            "source": [
                "facebook.head()"
            ],
            "metadata": {
                "azdata_cell_guid": "3bdba074-dc3b-4b8a-abb9-758c14827f1f"
            },
            "outputs": [
                {
                    "data": {
                        "text/plain": "                  High         Low        Open       Close    Volume  \\\nDate                                                                   \n2017-01-03  117.839996  115.510002  116.029999  116.860001  20663900   \n2017-01-04  119.660004  117.290001  117.550003  118.690002  19630900   \n2017-01-05  120.949997  118.320000  118.860001  120.669998  19492200   \n2017-01-06  123.879997  120.029999  120.980003  123.410004  28545300   \n2017-01-09  125.430000  123.040001  123.550003  124.900002  22880400   \n\n             Adj Close  \nDate                    \n2017-01-03  116.860001  \n2017-01-04  118.690002  \n2017-01-05  120.669998  \n2017-01-06  123.410004  \n2017-01-09  124.900002  ",
                        "text/html": "<div>\n<style scoped>\n    .dataframe tbody tr th:only-of-type {\n        vertical-align: middle;\n    }\n\n    .dataframe tbody tr th {\n        vertical-align: top;\n    }\n\n    .dataframe thead th {\n        text-align: right;\n    }\n</style>\n<table border=\"1\" class=\"dataframe\">\n  <thead>\n    <tr style=\"text-align: right;\">\n      <th></th>\n      <th>High</th>\n      <th>Low</th>\n      <th>Open</th>\n      <th>Close</th>\n      <th>Volume</th>\n      <th>Adj Close</th>\n    </tr>\n    <tr>\n      <th>Date</th>\n      <th></th>\n      <th></th>\n      <th></th>\n      <th></th>\n      <th></th>\n      <th></th>\n    </tr>\n  </thead>\n  <tbody>\n    <tr>\n      <th>2017-01-03</th>\n      <td>117.839996</td>\n      <td>115.510002</td>\n      <td>116.029999</td>\n      <td>116.860001</td>\n      <td>20663900</td>\n      <td>116.860001</td>\n    </tr>\n    <tr>\n      <th>2017-01-04</th>\n      <td>119.660004</td>\n      <td>117.290001</td>\n      <td>117.550003</td>\n      <td>118.690002</td>\n      <td>19630900</td>\n      <td>118.690002</td>\n    </tr>\n    <tr>\n      <th>2017-01-05</th>\n      <td>120.949997</td>\n      <td>118.320000</td>\n      <td>118.860001</td>\n      <td>120.669998</td>\n      <td>19492200</td>\n      <td>120.669998</td>\n    </tr>\n    <tr>\n      <th>2017-01-06</th>\n      <td>123.879997</td>\n      <td>120.029999</td>\n      <td>120.980003</td>\n      <td>123.410004</td>\n      <td>28545300</td>\n      <td>123.410004</td>\n    </tr>\n    <tr>\n      <th>2017-01-09</th>\n      <td>125.430000</td>\n      <td>123.040001</td>\n      <td>123.550003</td>\n      <td>124.900002</td>\n      <td>22880400</td>\n      <td>124.900002</td>\n    </tr>\n  </tbody>\n</table>\n</div>"
                    },
                    "metadata": {},
                    "execution_count": 21,
                    "output_type": "execute_result"
                }
            ],
            "execution_count": 21
        },
        {
            "cell_type": "markdown",
            "source": [
                "### Experimental Options\n",
                "\n",
                "The Options class allows the download of options data from Google Finance.\n",
                "\n",
                "The get_options_data method downloads options data for specified expiry date and provides a formatted DataFrame with a hierarchical index, so its easy to get to the specific option you want.\n",
                "\n",
                "Available expiry dates can be accessed from the expiry_dates property."
            ],
            "metadata": {
                "azdata_cell_guid": "534c73a9-9fbb-4e2c-9284-a2f5f894c15f"
            }
        },
        {
            "cell_type": "code",
            "source": [
                "from pandas_datareader.data import Options\n",
                "\n",
                "fb_options = Options('fb', 'yahoo') # deprecated"
            ],
            "metadata": {
                "collapsed": true,
                "azdata_cell_guid": "a2f2a45a-b6da-46ce-aa4d-776012b9c238"
            },
            "outputs": [
                {
                    "traceback": [
                        "\u001b[1;31m---------------------------------------------------------------------------\u001b[0m",
                        "\u001b[1;31mImmediateDeprecationError\u001b[0m                 Traceback (most recent call last)",
                        "\u001b[1;32m<ipython-input-26-a8577d9b6398>\u001b[0m in \u001b[0;36m<module>\u001b[1;34m()\u001b[0m\n\u001b[0;32m      1\u001b[0m \u001b[1;32mfrom\u001b[0m \u001b[0mpandas_datareader\u001b[0m\u001b[1;33m.\u001b[0m\u001b[0mdata\u001b[0m \u001b[1;32mimport\u001b[0m \u001b[0mOptions\u001b[0m\u001b[1;33m\u001b[0m\u001b[0m\n\u001b[0;32m      2\u001b[0m \u001b[1;33m\u001b[0m\u001b[0m\n\u001b[1;32m----> 3\u001b[1;33m \u001b[0mfb_options\u001b[0m \u001b[1;33m=\u001b[0m \u001b[0mOptions\u001b[0m\u001b[1;33m(\u001b[0m\u001b[1;34m'fb'\u001b[0m\u001b[1;33m,\u001b[0m \u001b[1;34m'yahoo'\u001b[0m\u001b[1;33m)\u001b[0m\u001b[1;33m\u001b[0m\u001b[0m\n\u001b[0m",
                        "\u001b[1;32m~\\AppData\\Roaming\\Python\\Python37\\site-packages\\pandas_datareader\\data.py\u001b[0m in \u001b[0;36mOptions\u001b[1;34m(symbol, data_source, session)\u001b[0m\n\u001b[0;32m    677\u001b[0m         \u001b[0mdata_source\u001b[0m \u001b[1;33m=\u001b[0m \u001b[1;34m\"yahoo\"\u001b[0m\u001b[1;33m\u001b[0m\u001b[0m\n\u001b[0;32m    678\u001b[0m     \u001b[1;32mif\u001b[0m \u001b[0mdata_source\u001b[0m \u001b[1;33m==\u001b[0m \u001b[1;34m\"yahoo\"\u001b[0m\u001b[1;33m:\u001b[0m\u001b[1;33m\u001b[0m\u001b[0m\n\u001b[1;32m--> 679\u001b[1;33m         \u001b[1;32mraise\u001b[0m \u001b[0mImmediateDeprecationError\u001b[0m\u001b[1;33m(\u001b[0m\u001b[0mDEP_ERROR_MSG\u001b[0m\u001b[1;33m.\u001b[0m\u001b[0mformat\u001b[0m\u001b[1;33m(\u001b[0m\u001b[1;34m\"Yahoo Options\"\u001b[0m\u001b[1;33m)\u001b[0m\u001b[1;33m)\u001b[0m\u001b[1;33m\u001b[0m\u001b[0m\n\u001b[0m\u001b[0;32m    680\u001b[0m         \u001b[1;32mreturn\u001b[0m \u001b[0mYahooOptions\u001b[0m\u001b[1;33m(\u001b[0m\u001b[0msymbol\u001b[0m\u001b[1;33m,\u001b[0m \u001b[0msession\u001b[0m\u001b[1;33m=\u001b[0m\u001b[0msession\u001b[0m\u001b[1;33m)\u001b[0m\u001b[1;33m\u001b[0m\u001b[0m\n\u001b[0;32m    681\u001b[0m     \u001b[1;32melse\u001b[0m\u001b[1;33m:\u001b[0m\u001b[1;33m\u001b[0m\u001b[0m\n",
                        "\u001b[1;31mImmediateDeprecationError\u001b[0m: \nYahoo Options has been immediately deprecated due to large breaks in the API without the\nintroduction of a stable replacement. Pull Requests to re-enable these data\nconnectors are welcome.\n\nSee https://github.com/pydata/pandas-datareader/issues\n"
                    ],
                    "ename": "ImmediateDeprecationError",
                    "evalue": "\nYahoo Options has been immediately deprecated due to large breaks in the API without the\nintroduction of a stable replacement. Pull Requests to re-enable these data\nconnectors are welcome.\n\nSee https://github.com/pydata/pandas-datareader/issues\n",
                    "output_type": "error"
                }
            ],
            "execution_count": 26
        },
        {
            "cell_type": "code",
            "source": [
                "data = fb_options.get_options_data(expiry=fb_options.expiry_dates[0])"
            ],
            "metadata": {
                "azdata_cell_guid": "c6695768-e64a-4401-ba41-bc4092674995"
            },
            "outputs": [
                {
                    "traceback": [
                        "\u001b[1;31m---------------------------------------------------------------------------\u001b[0m",
                        "\u001b[1;31mNameError\u001b[0m                                 Traceback (most recent call last)",
                        "\u001b[1;32m<ipython-input-23-f706b91b42ce>\u001b[0m in \u001b[0;36m<module>\u001b[1;34m()\u001b[0m\n\u001b[1;32m----> 1\u001b[1;33m \u001b[0mdata\u001b[0m \u001b[1;33m=\u001b[0m \u001b[0mfb_options\u001b[0m\u001b[1;33m.\u001b[0m\u001b[0mget_options_data\u001b[0m\u001b[1;33m(\u001b[0m\u001b[0mexpiry\u001b[0m\u001b[1;33m=\u001b[0m\u001b[0mfb_options\u001b[0m\u001b[1;33m.\u001b[0m\u001b[0mexpiry_dates\u001b[0m\u001b[1;33m[\u001b[0m\u001b[1;36m0\u001b[0m\u001b[1;33m]\u001b[0m\u001b[1;33m)\u001b[0m\u001b[1;33m\u001b[0m\u001b[0m\n\u001b[0m",
                        "\u001b[1;31mNameError\u001b[0m: name 'fb_options' is not defined"
                    ],
                    "ename": "NameError",
                    "evalue": "name 'fb_options' is not defined",
                    "output_type": "error"
                }
            ],
            "execution_count": 23
        },
        {
            "cell_type": "code",
            "source": [
                "data.head()"
            ],
            "metadata": {
                "azdata_cell_guid": "f3148b17-7d8d-4108-96fa-1958c6f9944d"
            },
            "outputs": [
                {
                    "output_type": "execute_result",
                    "execution_count": 10,
                    "data": {
                        "text/html": "<div>\n<style>\n    .dataframe thead tr:only-child th {\n        text-align: right;\n    }\n\n    .dataframe thead th {\n        text-align: left;\n    }\n\n    .dataframe tbody tr th {\n        vertical-align: top;\n    }\n</style>\n<table border=\"1\" class=\"dataframe\">\n  <thead>\n    <tr style=\"text-align: right;\">\n      <th></th>\n      <th></th>\n      <th></th>\n      <th></th>\n      <th>Last</th>\n      <th>Bid</th>\n      <th>Ask</th>\n      <th>Chg</th>\n      <th>PctChg</th>\n      <th>Vol</th>\n      <th>Open_Int</th>\n      <th>Root</th>\n      <th>Underlying_Price</th>\n      <th>Quote_Time</th>\n    </tr>\n    <tr>\n      <th>Strike</th>\n      <th>Expiry</th>\n      <th>Type</th>\n      <th>Symbol</th>\n      <th></th>\n      <th></th>\n      <th></th>\n      <th></th>\n      <th></th>\n      <th></th>\n      <th></th>\n      <th></th>\n      <th></th>\n      <th></th>\n    </tr>\n  </thead>\n  <tbody>\n    <tr>\n      <th rowspan=\"2\" valign=\"top\">5.0</th>\n      <th rowspan=\"2\" valign=\"top\">2018-01-19</th>\n      <th>call</th>\n      <th>FB180119C00005000</th>\n      <td>149.10</td>\n      <td>150.00</td>\n      <td>150.65</td>\n      <td>0.3</td>\n      <td>0.20</td>\n      <td>50.0</td>\n      <td>9528.0</td>\n      <td>FB</td>\n      <td>155.27</td>\n      <td>2017-07-11 23:35:24.466303</td>\n    </tr>\n    <tr>\n      <th>put</th>\n      <th>FB180119P00005000</th>\n      <td>0.01</td>\n      <td>NaN</td>\n      <td>0.03</td>\n      <td>0.0</td>\n      <td>0.00</td>\n      <td>NaN</td>\n      <td>3053.0</td>\n      <td>FB</td>\n      <td>155.27</td>\n      <td>2017-07-11 23:35:24.466303</td>\n    </tr>\n    <tr>\n      <th rowspan=\"2\" valign=\"top\">10.0</th>\n      <th rowspan=\"2\" valign=\"top\">2018-01-19</th>\n      <th>call</th>\n      <th>FB180119C00010000</th>\n      <td>143.20</td>\n      <td>145.05</td>\n      <td>145.75</td>\n      <td>-0.5</td>\n      <td>-0.35</td>\n      <td>40.0</td>\n      <td>2855.0</td>\n      <td>FB</td>\n      <td>155.27</td>\n      <td>2017-07-11 23:35:24.466303</td>\n    </tr>\n    <tr>\n      <th>put</th>\n      <th>FB180119P00010000</th>\n      <td>0.01</td>\n      <td>NaN</td>\n      <td>0.02</td>\n      <td>0.0</td>\n      <td>0.00</td>\n      <td>NaN</td>\n      <td>2056.0</td>\n      <td>FB</td>\n      <td>155.27</td>\n      <td>2017-07-11 23:35:24.466303</td>\n    </tr>\n    <tr>\n      <th>15.0</th>\n      <th>2018-01-19</th>\n      <th>call</th>\n      <th>FB180119C00015000</th>\n      <td>135.80</td>\n      <td>140.10</td>\n      <td>140.80</td>\n      <td>0.0</td>\n      <td>0.00</td>\n      <td>NaN</td>\n      <td>240.0</td>\n      <td>FB</td>\n      <td>155.27</td>\n      <td>2017-07-11 23:35:24.466303</td>\n    </tr>\n  </tbody>\n</table>\n</div>",
                        "text/plain": "                                            Last     Bid     Ask  Chg  PctChg  \\\nStrike Expiry     Type Symbol                                                   \n5.0    2018-01-19 call FB180119C00005000  149.10  150.00  150.65  0.3    0.20   \n                  put  FB180119P00005000    0.01     NaN    0.03  0.0    0.00   \n10.0   2018-01-19 call FB180119C00010000  143.20  145.05  145.75 -0.5   -0.35   \n                  put  FB180119P00010000    0.01     NaN    0.02  0.0    0.00   \n15.0   2018-01-19 call FB180119C00015000  135.80  140.10  140.80  0.0    0.00   \n\n                                           Vol  Open_Int Root  \\\nStrike Expiry     Type Symbol                                   \n5.0    2018-01-19 call FB180119C00005000  50.0    9528.0   FB   \n                  put  FB180119P00005000   NaN    3053.0   FB   \n10.0   2018-01-19 call FB180119C00010000  40.0    2855.0   FB   \n                  put  FB180119P00010000   NaN    2056.0   FB   \n15.0   2018-01-19 call FB180119C00015000   NaN     240.0   FB   \n\n                                          Underlying_Price  \\\nStrike Expiry     Type Symbol                                \n5.0    2018-01-19 call FB180119C00005000            155.27   \n                  put  FB180119P00005000            155.27   \n10.0   2018-01-19 call FB180119C00010000            155.27   \n                  put  FB180119P00010000            155.27   \n15.0   2018-01-19 call FB180119C00015000            155.27   \n\n                                                         Quote_Time  \nStrike Expiry     Type Symbol                                        \n5.0    2018-01-19 call FB180119C00005000 2017-07-11 23:35:24.466303  \n                  put  FB180119P00005000 2017-07-11 23:35:24.466303  \n10.0   2018-01-19 call FB180119C00010000 2017-07-11 23:35:24.466303  \n                  put  FB180119P00010000 2017-07-11 23:35:24.466303  \n15.0   2018-01-19 call FB180119C00015000 2017-07-11 23:35:24.466303  "
                    },
                    "metadata": {}
                }
            ],
            "execution_count": 10
        },
        {
            "cell_type": "markdown",
            "source": [
                "# FRED"
            ],
            "metadata": {
                "azdata_cell_guid": "e19a6183-a205-48b3-b015-2cbd851a227f"
            }
        },
        {
            "cell_type": "code",
            "source": [
                "import pandas_datareader.data as web\n",
                "import datetime\n",
                "\n",
                "start = datetime.datetime(2015, 1, 1)\n",
                "end = datetime.datetime(2019, 1, 1)\n",
                "\n",
                "gdp = web.DataReader(\"GDP\", \"fred\", start, end)"
            ],
            "metadata": {
                "collapsed": true,
                "azdata_cell_guid": "81cfdcee-fd67-4644-b9cc-cd286ffed83d"
            },
            "outputs": [],
            "execution_count": 29
        },
        {
            "cell_type": "code",
            "source": [
                "gdp.head()"
            ],
            "metadata": {
                "azdata_cell_guid": "4c4e8abc-4c1e-429f-b30b-b30932c0d565"
            },
            "outputs": [
                {
                    "data": {
                        "text/plain": "                  GDP\nDATE                 \n2015-01-01  17984.178\n2015-04-01  18219.405\n2015-07-01  18344.713\n2015-10-01  18350.825\n2016-01-01  18424.283",
                        "text/html": "<div>\n<style scoped>\n    .dataframe tbody tr th:only-of-type {\n        vertical-align: middle;\n    }\n\n    .dataframe tbody tr th {\n        vertical-align: top;\n    }\n\n    .dataframe thead th {\n        text-align: right;\n    }\n</style>\n<table border=\"1\" class=\"dataframe\">\n  <thead>\n    <tr style=\"text-align: right;\">\n      <th></th>\n      <th>GDP</th>\n    </tr>\n    <tr>\n      <th>DATE</th>\n      <th></th>\n    </tr>\n  </thead>\n  <tbody>\n    <tr>\n      <th>2015-01-01</th>\n      <td>17984.178</td>\n    </tr>\n    <tr>\n      <th>2015-04-01</th>\n      <td>18219.405</td>\n    </tr>\n    <tr>\n      <th>2015-07-01</th>\n      <td>18344.713</td>\n    </tr>\n    <tr>\n      <th>2015-10-01</th>\n      <td>18350.825</td>\n    </tr>\n    <tr>\n      <th>2016-01-01</th>\n      <td>18424.283</td>\n    </tr>\n  </tbody>\n</table>\n</div>"
                    },
                    "metadata": {},
                    "execution_count": 30,
                    "output_type": "execute_result"
                }
            ],
            "execution_count": 30
        }
    ]
}