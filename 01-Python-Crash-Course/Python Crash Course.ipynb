{
    "metadata": {
        "kernelspec": {
            "name": "python3",
            "display_name": "Python 3"
        },
        "language_info": {
            "name": "python",
            "version": "3.7.0",
            "mimetype": "text/x-python",
            "codemirror_mode": {
                "name": "ipython",
                "version": 3
            },
            "pygments_lexer": "ipython3",
            "nbconvert_exporter": "python",
            "file_extension": ".py"
        }
    },
    "nbformat_minor": 2,
    "nbformat": 4,
    "cells": [
        {
            "cell_type": "markdown",
            "source": "# Python Crash Course\n\nPlease note, this is not meant to be a comprehensive overview of Python or programming in general, if you have no programming experience, you should probably take my other course: [Complete Python Bootcamp](https://www.udemy.com/complete-python-bootcamp/?couponCode=PY20) instead.\n\n**This notebook is just a code reference for the videos, no written explanations here**\n\nThis notebook will just go through the basic topics in order:\n\n* Data types\n    * Numbers\n    * Strings\n    * Printing\n    * Lists\n    * Dictionaries\n    * Booleans\n    * Tuples \n    * Sets\n* Comparison Operators\n* if,elif, else Statements\n* for Loops\n* while Loops\n* range()\n* list comprehension\n* functions\n* lambda expressions\n* map and filter\n* methods\n____",
            "metadata": {}
        },
        {
            "cell_type": "markdown",
            "source": "## Data types\n\n### Numbers",
            "metadata": {}
        },
        {
            "cell_type": "code",
            "source": "1 + 1",
            "metadata": {},
            "outputs": [
                {
                    "data": {
                        "text/plain": "2"
                    },
                    "metadata": {},
                    "execution_count": 87,
                    "output_type": "execute_result"
                }
            ],
            "execution_count": 87
        },
        {
            "cell_type": "code",
            "source": "1 * 3",
            "metadata": {},
            "outputs": [
                {
                    "data": {
                        "text/plain": "3"
                    },
                    "metadata": {},
                    "execution_count": 88,
                    "output_type": "execute_result"
                }
            ],
            "execution_count": 88
        },
        {
            "cell_type": "code",
            "source": "1 / 2",
            "metadata": {},
            "outputs": [
                {
                    "data": {
                        "text/plain": "0.5"
                    },
                    "metadata": {},
                    "execution_count": 89,
                    "output_type": "execute_result"
                }
            ],
            "execution_count": 89
        },
        {
            "cell_type": "code",
            "source": "2 ** 4",
            "metadata": {},
            "outputs": [
                {
                    "data": {
                        "text/plain": "16"
                    },
                    "metadata": {},
                    "execution_count": 90,
                    "output_type": "execute_result"
                }
            ],
            "execution_count": 90
        },
        {
            "cell_type": "code",
            "source": "4 % 2",
            "metadata": {},
            "outputs": [
                {
                    "data": {
                        "text/plain": "0"
                    },
                    "metadata": {},
                    "execution_count": 91,
                    "output_type": "execute_result"
                }
            ],
            "execution_count": 91
        },
        {
            "cell_type": "code",
            "source": "5 % 2",
            "metadata": {},
            "outputs": [
                {
                    "data": {
                        "text/plain": "1"
                    },
                    "metadata": {},
                    "execution_count": 92,
                    "output_type": "execute_result"
                }
            ],
            "execution_count": 92
        },
        {
            "cell_type": "code",
            "source": "(2 + 3) * (5 + 5)",
            "metadata": {},
            "outputs": [
                {
                    "data": {
                        "text/plain": "50"
                    },
                    "metadata": {},
                    "execution_count": 93,
                    "output_type": "execute_result"
                }
            ],
            "execution_count": 93
        },
        {
            "cell_type": "markdown",
            "source": "### Variable Assignment",
            "metadata": {}
        },
        {
            "cell_type": "code",
            "source": "# Can not start with number or special characters\nname_of_var = 2",
            "metadata": {},
            "outputs": [],
            "execution_count": 94
        },
        {
            "cell_type": "code",
            "source": "x = 2\ny = 3",
            "metadata": {},
            "outputs": [],
            "execution_count": 95
        },
        {
            "cell_type": "code",
            "source": "z = x + y",
            "metadata": {},
            "outputs": [],
            "execution_count": 96
        },
        {
            "cell_type": "code",
            "source": "z",
            "metadata": {},
            "outputs": [
                {
                    "data": {
                        "text/plain": "5"
                    },
                    "metadata": {},
                    "execution_count": 97,
                    "output_type": "execute_result"
                }
            ],
            "execution_count": 97
        },
        {
            "cell_type": "markdown",
            "source": "### Strings",
            "metadata": {}
        },
        {
            "cell_type": "code",
            "source": "'single quotes'",
            "metadata": {},
            "outputs": [
                {
                    "data": {
                        "text/plain": "'single quotes'"
                    },
                    "metadata": {},
                    "execution_count": 98,
                    "output_type": "execute_result"
                }
            ],
            "execution_count": 98
        },
        {
            "cell_type": "code",
            "source": "\"double quotes\"",
            "metadata": {},
            "outputs": [
                {
                    "data": {
                        "text/plain": "'double quotes'"
                    },
                    "metadata": {},
                    "execution_count": 99,
                    "output_type": "execute_result"
                }
            ],
            "execution_count": 99
        },
        {
            "cell_type": "code",
            "source": "\" wrap lot's of other quotes\"",
            "metadata": {},
            "outputs": [
                {
                    "data": {
                        "text/plain": "\" wrap lot's of other quotes\""
                    },
                    "metadata": {},
                    "execution_count": 100,
                    "output_type": "execute_result"
                }
            ],
            "execution_count": 100
        },
        {
            "cell_type": "markdown",
            "source": "### Printing",
            "metadata": {}
        },
        {
            "cell_type": "code",
            "source": "x = 'hello'",
            "metadata": {},
            "outputs": [],
            "execution_count": 101
        },
        {
            "cell_type": "code",
            "source": "x",
            "metadata": {},
            "outputs": [
                {
                    "data": {
                        "text/plain": "'hello'"
                    },
                    "metadata": {},
                    "execution_count": 102,
                    "output_type": "execute_result"
                }
            ],
            "execution_count": 102
        },
        {
            "cell_type": "code",
            "source": "print(x)",
            "metadata": {},
            "outputs": [
                {
                    "name": "stdout",
                    "text": "hello\n",
                    "output_type": "stream"
                }
            ],
            "execution_count": 103
        },
        {
            "cell_type": "code",
            "source": "num = 12\nname = 'Sam'",
            "metadata": {},
            "outputs": [],
            "execution_count": 104
        },
        {
            "cell_type": "code",
            "source": "print('My number is: {one}, and my name is: {two}'.format(one=num,two=name))",
            "metadata": {},
            "outputs": [
                {
                    "name": "stdout",
                    "text": "My number is: 12, and my name is: Sam\n",
                    "output_type": "stream"
                }
            ],
            "execution_count": 105
        },
        {
            "cell_type": "code",
            "source": "print('My number is: {}, and my name is: {}'.format(num,name))",
            "metadata": {},
            "outputs": [
                {
                    "name": "stdout",
                    "text": "My number is: 12, and my name is: Sam\n",
                    "output_type": "stream"
                }
            ],
            "execution_count": 106
        },
        {
            "cell_type": "markdown",
            "source": "### Lists",
            "metadata": {}
        },
        {
            "cell_type": "code",
            "source": "[1,2,3]",
            "metadata": {},
            "outputs": [
                {
                    "data": {
                        "text/plain": "[1, 2, 3]"
                    },
                    "metadata": {},
                    "execution_count": 107,
                    "output_type": "execute_result"
                }
            ],
            "execution_count": 107
        },
        {
            "cell_type": "code",
            "source": "['hi',1,[1,2]]",
            "metadata": {},
            "outputs": [
                {
                    "data": {
                        "text/plain": "['hi', 1, [1, 2]]"
                    },
                    "metadata": {},
                    "execution_count": 108,
                    "output_type": "execute_result"
                }
            ],
            "execution_count": 108
        },
        {
            "cell_type": "code",
            "source": "my_list = ['a','b','c']",
            "metadata": {},
            "outputs": [],
            "execution_count": 109
        },
        {
            "cell_type": "code",
            "source": "my_list.append('d')",
            "metadata": {},
            "outputs": [],
            "execution_count": 110
        },
        {
            "cell_type": "code",
            "source": "my_list",
            "metadata": {},
            "outputs": [
                {
                    "data": {
                        "text/plain": "['a', 'b', 'c', 'd']"
                    },
                    "metadata": {},
                    "execution_count": 111,
                    "output_type": "execute_result"
                }
            ],
            "execution_count": 111
        },
        {
            "cell_type": "code",
            "source": "my_list[0]",
            "metadata": {},
            "outputs": [
                {
                    "data": {
                        "text/plain": "'a'"
                    },
                    "metadata": {},
                    "execution_count": 112,
                    "output_type": "execute_result"
                }
            ],
            "execution_count": 112
        },
        {
            "cell_type": "code",
            "source": "my_list[1]",
            "metadata": {},
            "outputs": [
                {
                    "data": {
                        "text/plain": "'b'"
                    },
                    "metadata": {},
                    "execution_count": 113,
                    "output_type": "execute_result"
                }
            ],
            "execution_count": 113
        },
        {
            "cell_type": "code",
            "source": "my_list[1:]",
            "metadata": {},
            "outputs": [
                {
                    "data": {
                        "text/plain": "['b', 'c', 'd']"
                    },
                    "metadata": {},
                    "execution_count": 114,
                    "output_type": "execute_result"
                }
            ],
            "execution_count": 114
        },
        {
            "cell_type": "code",
            "source": "my_list[:1]",
            "metadata": {},
            "outputs": [
                {
                    "data": {
                        "text/plain": "['a']"
                    },
                    "metadata": {},
                    "execution_count": 115,
                    "output_type": "execute_result"
                }
            ],
            "execution_count": 115
        },
        {
            "cell_type": "code",
            "source": "my_list[0] = 'NEW'",
            "metadata": {},
            "outputs": [],
            "execution_count": 116
        },
        {
            "cell_type": "code",
            "source": "my_list",
            "metadata": {},
            "outputs": [
                {
                    "data": {
                        "text/plain": "['NEW', 'b', 'c', 'd']"
                    },
                    "metadata": {},
                    "execution_count": 117,
                    "output_type": "execute_result"
                }
            ],
            "execution_count": 117
        },
        {
            "cell_type": "code",
            "source": "nest = [1,2,3,[4,5,['target']]]",
            "metadata": {},
            "outputs": [],
            "execution_count": 118
        },
        {
            "cell_type": "code",
            "source": "nest[3]",
            "metadata": {},
            "outputs": [
                {
                    "data": {
                        "text/plain": "[4, 5, ['target']]"
                    },
                    "metadata": {},
                    "execution_count": 119,
                    "output_type": "execute_result"
                }
            ],
            "execution_count": 119
        },
        {
            "cell_type": "code",
            "source": "nest[3][2]",
            "metadata": {},
            "outputs": [
                {
                    "data": {
                        "text/plain": "['target']"
                    },
                    "metadata": {},
                    "execution_count": 120,
                    "output_type": "execute_result"
                }
            ],
            "execution_count": 120
        },
        {
            "cell_type": "code",
            "source": "nest[3][2][0]",
            "metadata": {},
            "outputs": [
                {
                    "data": {
                        "text/plain": "'target'"
                    },
                    "metadata": {},
                    "execution_count": 121,
                    "output_type": "execute_result"
                }
            ],
            "execution_count": 121
        },
        {
            "cell_type": "markdown",
            "source": "### Dictionaries",
            "metadata": {}
        },
        {
            "cell_type": "code",
            "source": "d = {'key1':'item1','key2':'item2'}",
            "metadata": {},
            "outputs": [],
            "execution_count": 122
        },
        {
            "cell_type": "code",
            "source": "d",
            "metadata": {},
            "outputs": [
                {
                    "data": {
                        "text/plain": "{'key1': 'item1', 'key2': 'item2'}"
                    },
                    "metadata": {},
                    "execution_count": 123,
                    "output_type": "execute_result"
                }
            ],
            "execution_count": 123
        },
        {
            "cell_type": "code",
            "source": "d['key1']",
            "metadata": {},
            "outputs": [
                {
                    "data": {
                        "text/plain": "'item1'"
                    },
                    "metadata": {},
                    "execution_count": 124,
                    "output_type": "execute_result"
                }
            ],
            "execution_count": 124
        },
        {
            "cell_type": "markdown",
            "source": "### Booleans",
            "metadata": {}
        },
        {
            "cell_type": "code",
            "source": "True",
            "metadata": {},
            "outputs": [
                {
                    "data": {
                        "text/plain": "True"
                    },
                    "metadata": {},
                    "execution_count": 125,
                    "output_type": "execute_result"
                }
            ],
            "execution_count": 125
        },
        {
            "cell_type": "code",
            "source": "False",
            "metadata": {},
            "outputs": [
                {
                    "data": {
                        "text/plain": "False"
                    },
                    "metadata": {},
                    "execution_count": 126,
                    "output_type": "execute_result"
                }
            ],
            "execution_count": 126
        },
        {
            "cell_type": "markdown",
            "source": "### Tuples ",
            "metadata": {}
        },
        {
            "cell_type": "code",
            "source": "t = (1,2,3)",
            "metadata": {},
            "outputs": [],
            "execution_count": 127
        },
        {
            "cell_type": "code",
            "source": "t[0]",
            "metadata": {},
            "outputs": [
                {
                    "data": {
                        "text/plain": "1"
                    },
                    "metadata": {},
                    "execution_count": 128,
                    "output_type": "execute_result"
                }
            ],
            "execution_count": 128
        },
        {
            "cell_type": "code",
            "source": "t[0] = 'NEW'",
            "metadata": {},
            "outputs": [
                {
                    "traceback": [
                        "\u001b[1;31m---------------------------------------------------------------------------\u001b[0m",
                        "\u001b[1;31mTypeError\u001b[0m                                 Traceback (most recent call last)",
                        "\u001b[1;32m<ipython-input-129-93bfe9be1549>\u001b[0m in \u001b[0;36m<module>\u001b[1;34m()\u001b[0m\n\u001b[1;32m----> 1\u001b[1;33m \u001b[0mt\u001b[0m\u001b[1;33m[\u001b[0m\u001b[1;36m0\u001b[0m\u001b[1;33m]\u001b[0m \u001b[1;33m=\u001b[0m \u001b[1;34m'NEW'\u001b[0m\u001b[1;33m\u001b[0m\u001b[0m\n\u001b[0m",
                        "\u001b[1;31mTypeError\u001b[0m: 'tuple' object does not support item assignment"
                    ],
                    "ename": "TypeError",
                    "evalue": "'tuple' object does not support item assignment",
                    "output_type": "error"
                }
            ],
            "execution_count": 129
        },
        {
            "cell_type": "markdown",
            "source": "### Sets",
            "metadata": {}
        },
        {
            "cell_type": "code",
            "source": "{1,2,3}",
            "metadata": {},
            "outputs": [
                {
                    "output_type": "execute_result",
                    "execution_count": 45,
                    "data": {
                        "text/plain": "{1, 2, 3}"
                    },
                    "metadata": {}
                }
            ],
            "execution_count": 45
        },
        {
            "cell_type": "code",
            "source": "{1,2,3,1,2,1,2,3,3,3,3,2,2,2,1,1,2}",
            "metadata": {},
            "outputs": [
                {
                    "output_type": "execute_result",
                    "execution_count": 46,
                    "data": {
                        "text/plain": "{1, 2, 3}"
                    },
                    "metadata": {}
                }
            ],
            "execution_count": 46
        },
        {
            "cell_type": "markdown",
            "source": "## Comparison Operators",
            "metadata": {}
        },
        {
            "cell_type": "code",
            "source": "1 > 2",
            "metadata": {},
            "outputs": [
                {
                    "output_type": "execute_result",
                    "execution_count": 47,
                    "data": {
                        "text/plain": "False"
                    },
                    "metadata": {}
                }
            ],
            "execution_count": 47
        },
        {
            "cell_type": "code",
            "source": "1 < 2",
            "metadata": {},
            "outputs": [
                {
                    "output_type": "execute_result",
                    "execution_count": 48,
                    "data": {
                        "text/plain": "True"
                    },
                    "metadata": {}
                }
            ],
            "execution_count": 48
        },
        {
            "cell_type": "code",
            "source": "1 >= 1",
            "metadata": {},
            "outputs": [
                {
                    "output_type": "execute_result",
                    "execution_count": 49,
                    "data": {
                        "text/plain": "True"
                    },
                    "metadata": {}
                }
            ],
            "execution_count": 49
        },
        {
            "cell_type": "code",
            "source": "1 <= 4",
            "metadata": {},
            "outputs": [
                {
                    "output_type": "execute_result",
                    "execution_count": 50,
                    "data": {
                        "text/plain": "True"
                    },
                    "metadata": {}
                }
            ],
            "execution_count": 50
        },
        {
            "cell_type": "code",
            "source": "1 == 1",
            "metadata": {},
            "outputs": [
                {
                    "output_type": "execute_result",
                    "execution_count": 51,
                    "data": {
                        "text/plain": "True"
                    },
                    "metadata": {}
                }
            ],
            "execution_count": 51
        },
        {
            "cell_type": "code",
            "source": "'hi' == 'bye'",
            "metadata": {},
            "outputs": [
                {
                    "output_type": "execute_result",
                    "execution_count": 52,
                    "data": {
                        "text/plain": "False"
                    },
                    "metadata": {}
                }
            ],
            "execution_count": 52
        },
        {
            "cell_type": "markdown",
            "source": "## Logic Operators",
            "metadata": {}
        },
        {
            "cell_type": "code",
            "source": "(1 > 2) and (2 < 3)",
            "metadata": {},
            "outputs": [
                {
                    "output_type": "execute_result",
                    "execution_count": 53,
                    "data": {
                        "text/plain": "False"
                    },
                    "metadata": {}
                }
            ],
            "execution_count": 53
        },
        {
            "cell_type": "code",
            "source": "(1 > 2) or (2 < 3)",
            "metadata": {},
            "outputs": [
                {
                    "output_type": "execute_result",
                    "execution_count": 54,
                    "data": {
                        "text/plain": "True"
                    },
                    "metadata": {}
                }
            ],
            "execution_count": 54
        },
        {
            "cell_type": "code",
            "source": "(1 == 2) or (2 == 3) or (4 == 4)",
            "metadata": {},
            "outputs": [
                {
                    "output_type": "execute_result",
                    "execution_count": 55,
                    "data": {
                        "text/plain": "True"
                    },
                    "metadata": {}
                }
            ],
            "execution_count": 55
        },
        {
            "cell_type": "markdown",
            "source": "## if,elif, else Statements",
            "metadata": {}
        },
        {
            "cell_type": "code",
            "source": "if 1 < 2:\n    print('Yep!')",
            "metadata": {},
            "outputs": [
                {
                    "output_type": "stream",
                    "name": "stdout",
                    "text": "Yep!\n"
                }
            ],
            "execution_count": 56
        },
        {
            "cell_type": "code",
            "source": "if 1 < 2:\n    print('yep!')",
            "metadata": {},
            "outputs": [
                {
                    "output_type": "stream",
                    "name": "stdout",
                    "text": "yep!\n"
                }
            ],
            "execution_count": 57
        },
        {
            "cell_type": "code",
            "source": "if 1 < 2:\n    print('first')\nelse:\n    print('last')",
            "metadata": {},
            "outputs": [
                {
                    "output_type": "stream",
                    "name": "stdout",
                    "text": "first\n"
                }
            ],
            "execution_count": 58
        },
        {
            "cell_type": "code",
            "source": "if 1 > 2:\n    print('first')\nelse:\n    print('last')",
            "metadata": {},
            "outputs": [
                {
                    "output_type": "stream",
                    "name": "stdout",
                    "text": "last\n"
                }
            ],
            "execution_count": 59
        },
        {
            "cell_type": "code",
            "source": "if 1 == 2:\n    print('first')\nelif 3 == 3:\n    print('middle')\nelse:\n    print('Last')",
            "metadata": {},
            "outputs": [
                {
                    "output_type": "stream",
                    "name": "stdout",
                    "text": "middle\n"
                }
            ],
            "execution_count": 60
        },
        {
            "cell_type": "markdown",
            "source": "## for Loops",
            "metadata": {}
        },
        {
            "cell_type": "code",
            "source": "seq = [1,2,3,4,5]",
            "metadata": {},
            "outputs": [],
            "execution_count": 61
        },
        {
            "cell_type": "code",
            "source": "for item in seq:\n    print(item)",
            "metadata": {},
            "outputs": [
                {
                    "output_type": "stream",
                    "name": "stdout",
                    "text": "1\n2\n3\n4\n5\n"
                }
            ],
            "execution_count": 62
        },
        {
            "cell_type": "code",
            "source": "for item in seq:\n    print('Yep')",
            "metadata": {},
            "outputs": [
                {
                    "output_type": "stream",
                    "name": "stdout",
                    "text": "Yep\nYep\nYep\nYep\nYep\n"
                }
            ],
            "execution_count": 63
        },
        {
            "cell_type": "code",
            "source": "for jelly in seq:\n    print(jelly+jelly)",
            "metadata": {},
            "outputs": [
                {
                    "output_type": "stream",
                    "name": "stdout",
                    "text": "2\n4\n6\n8\n10\n"
                }
            ],
            "execution_count": 64
        },
        {
            "cell_type": "markdown",
            "source": "## while Loops",
            "metadata": {}
        },
        {
            "cell_type": "code",
            "source": "i = 1\nwhile i < 5:\n    print('i is: {}'.format(i))\n    i = i+1",
            "metadata": {},
            "outputs": [
                {
                    "output_type": "stream",
                    "name": "stdout",
                    "text": "i is: 1\ni is: 2\ni is: 3\ni is: 4\n"
                }
            ],
            "execution_count": 65
        },
        {
            "cell_type": "markdown",
            "source": "## range()",
            "metadata": {}
        },
        {
            "cell_type": "code",
            "source": "range(5)",
            "metadata": {},
            "outputs": [
                {
                    "output_type": "execute_result",
                    "execution_count": 66,
                    "data": {
                        "text/plain": "range(0, 5)"
                    },
                    "metadata": {}
                }
            ],
            "execution_count": 66
        },
        {
            "cell_type": "code",
            "source": "for i in range(5):\n    print(i)",
            "metadata": {},
            "outputs": [
                {
                    "output_type": "stream",
                    "name": "stdout",
                    "text": "0\n1\n2\n3\n4\n"
                }
            ],
            "execution_count": 67
        },
        {
            "cell_type": "code",
            "source": "list(range(5))",
            "metadata": {},
            "outputs": [
                {
                    "output_type": "execute_result",
                    "execution_count": 68,
                    "data": {
                        "text/plain": "[0, 1, 2, 3, 4]"
                    },
                    "metadata": {}
                }
            ],
            "execution_count": 68
        },
        {
            "cell_type": "markdown",
            "source": "## list comprehension",
            "metadata": {}
        },
        {
            "cell_type": "code",
            "source": "x = [1,2,3,4]",
            "metadata": {},
            "outputs": [],
            "execution_count": 69
        },
        {
            "cell_type": "code",
            "source": "out = []\nfor item in x:\n    out.append(item**2)\nprint(out)",
            "metadata": {},
            "outputs": [
                {
                    "output_type": "stream",
                    "name": "stdout",
                    "text": "[1, 4, 9, 16]\n"
                }
            ],
            "execution_count": 70
        },
        {
            "cell_type": "code",
            "source": "[item**2 for item in x]",
            "metadata": {},
            "outputs": [
                {
                    "output_type": "execute_result",
                    "execution_count": 71,
                    "data": {
                        "text/plain": "[1, 4, 9, 16]"
                    },
                    "metadata": {}
                }
            ],
            "execution_count": 71
        },
        {
            "cell_type": "markdown",
            "source": "## functions",
            "metadata": {}
        },
        {
            "cell_type": "code",
            "source": "def my_func(param1='default'):\n    \"\"\"\n    Docstring goes here.\n    \"\"\"\n    print(param1)",
            "metadata": {},
            "outputs": [],
            "execution_count": 72
        },
        {
            "cell_type": "code",
            "source": "my_func",
            "metadata": {},
            "outputs": [
                {
                    "output_type": "execute_result",
                    "execution_count": 73,
                    "data": {
                        "text/plain": "<function __main__.my_func>"
                    },
                    "metadata": {}
                }
            ],
            "execution_count": 73
        },
        {
            "cell_type": "code",
            "source": "my_func()",
            "metadata": {},
            "outputs": [
                {
                    "output_type": "stream",
                    "name": "stdout",
                    "text": "default\n"
                }
            ],
            "execution_count": 74
        },
        {
            "cell_type": "code",
            "source": "my_func('new param')",
            "metadata": {},
            "outputs": [
                {
                    "output_type": "stream",
                    "name": "stdout",
                    "text": "new param\n"
                }
            ],
            "execution_count": 75
        },
        {
            "cell_type": "code",
            "source": "my_func(param1='new param')",
            "metadata": {},
            "outputs": [
                {
                    "output_type": "stream",
                    "name": "stdout",
                    "text": "new param\n"
                }
            ],
            "execution_count": 76
        },
        {
            "cell_type": "code",
            "source": "def square(x):\n    return x**2",
            "metadata": {},
            "outputs": [],
            "execution_count": 77
        },
        {
            "cell_type": "code",
            "source": "out = square(2)",
            "metadata": {},
            "outputs": [],
            "execution_count": 78
        },
        {
            "cell_type": "code",
            "source": "print(out)",
            "metadata": {},
            "outputs": [
                {
                    "output_type": "stream",
                    "name": "stdout",
                    "text": "4\n"
                }
            ],
            "execution_count": 79
        },
        {
            "cell_type": "markdown",
            "source": "## lambda expressions",
            "metadata": {}
        },
        {
            "cell_type": "code",
            "source": "def times2(var):\n    return var*2",
            "metadata": {},
            "outputs": [],
            "execution_count": 80
        },
        {
            "cell_type": "code",
            "source": "times2(2)",
            "metadata": {},
            "outputs": [
                {
                    "output_type": "execute_result",
                    "execution_count": 81,
                    "data": {
                        "text/plain": "4"
                    },
                    "metadata": {}
                }
            ],
            "execution_count": 81
        },
        {
            "cell_type": "code",
            "source": "lambda var: var*2",
            "metadata": {},
            "outputs": [
                {
                    "output_type": "execute_result",
                    "execution_count": 82,
                    "data": {
                        "text/plain": "<function __main__.<lambda>>"
                    },
                    "metadata": {}
                }
            ],
            "execution_count": 82
        },
        {
            "cell_type": "markdown",
            "source": "## map and filter",
            "metadata": {}
        },
        {
            "cell_type": "code",
            "source": "seq = [1,2,3,4,5]",
            "metadata": {},
            "outputs": [],
            "execution_count": 83
        },
        {
            "cell_type": "code",
            "source": "map(times2,seq)",
            "metadata": {},
            "outputs": [
                {
                    "output_type": "execute_result",
                    "execution_count": 84,
                    "data": {
                        "text/plain": "<map at 0x105316748>"
                    },
                    "metadata": {}
                }
            ],
            "execution_count": 84
        },
        {
            "cell_type": "code",
            "source": "list(map(times2,seq))",
            "metadata": {},
            "outputs": [
                {
                    "output_type": "execute_result",
                    "execution_count": 85,
                    "data": {
                        "text/plain": "[2, 4, 6, 8, 10]"
                    },
                    "metadata": {}
                }
            ],
            "execution_count": 85
        },
        {
            "cell_type": "code",
            "source": "list(map(lambda var: var*2,seq))",
            "metadata": {},
            "outputs": [
                {
                    "output_type": "execute_result",
                    "execution_count": 86,
                    "data": {
                        "text/plain": "[2, 4, 6, 8, 10]"
                    },
                    "metadata": {}
                }
            ],
            "execution_count": 86
        },
        {
            "cell_type": "code",
            "source": "filter(lambda item: item%2 == 0,seq)",
            "metadata": {},
            "outputs": [
                {
                    "output_type": "execute_result",
                    "execution_count": 87,
                    "data": {
                        "text/plain": "<filter at 0x105316ac8>"
                    },
                    "metadata": {}
                }
            ],
            "execution_count": 87
        },
        {
            "cell_type": "code",
            "source": "list(filter(lambda item: item%2 == 0,seq))",
            "metadata": {},
            "outputs": [
                {
                    "output_type": "execute_result",
                    "execution_count": 88,
                    "data": {
                        "text/plain": "[2, 4]"
                    },
                    "metadata": {}
                }
            ],
            "execution_count": 88
        },
        {
            "cell_type": "markdown",
            "source": "## methods",
            "metadata": {}
        },
        {
            "cell_type": "code",
            "source": "st = 'hello my name is Sam'",
            "metadata": {},
            "outputs": [],
            "execution_count": 111
        },
        {
            "cell_type": "code",
            "source": "st.lower()",
            "metadata": {},
            "outputs": [
                {
                    "output_type": "execute_result",
                    "execution_count": 112,
                    "data": {
                        "text/plain": "'hello my name is sam'"
                    },
                    "metadata": {}
                }
            ],
            "execution_count": 112
        },
        {
            "cell_type": "code",
            "source": "st.upper()",
            "metadata": {},
            "outputs": [
                {
                    "output_type": "execute_result",
                    "execution_count": 113,
                    "data": {
                        "text/plain": "'HELLO MY NAME IS SAM'"
                    },
                    "metadata": {}
                }
            ],
            "execution_count": 113
        },
        {
            "cell_type": "code",
            "source": "st.split()",
            "metadata": {},
            "outputs": [
                {
                    "output_type": "execute_result",
                    "execution_count": 103,
                    "data": {
                        "text/plain": "['hello', 'my', 'name', 'is', 'Sam']"
                    },
                    "metadata": {}
                }
            ],
            "execution_count": 103
        },
        {
            "cell_type": "code",
            "source": "tweet = 'Go Sports! #Sports'",
            "metadata": {},
            "outputs": [],
            "execution_count": 104
        },
        {
            "cell_type": "code",
            "source": "tweet.split('#')",
            "metadata": {},
            "outputs": [
                {
                    "output_type": "execute_result",
                    "execution_count": 106,
                    "data": {
                        "text/plain": "['Go Sports! ', 'Sports']"
                    },
                    "metadata": {}
                }
            ],
            "execution_count": 106
        },
        {
            "cell_type": "code",
            "source": "tweet.split('#')[1]",
            "metadata": {},
            "outputs": [
                {
                    "output_type": "execute_result",
                    "execution_count": 107,
                    "data": {
                        "text/plain": "'Sports'"
                    },
                    "metadata": {}
                }
            ],
            "execution_count": 107
        },
        {
            "cell_type": "code",
            "source": "d",
            "metadata": {},
            "outputs": [
                {
                    "output_type": "execute_result",
                    "execution_count": 92,
                    "data": {
                        "text/plain": "{'key1': 'item1', 'key2': 'item2'}"
                    },
                    "metadata": {}
                }
            ],
            "execution_count": 92
        },
        {
            "cell_type": "code",
            "source": "d.keys()",
            "metadata": {},
            "outputs": [
                {
                    "output_type": "execute_result",
                    "execution_count": 93,
                    "data": {
                        "text/plain": "dict_keys(['key2', 'key1'])"
                    },
                    "metadata": {}
                }
            ],
            "execution_count": 93
        },
        {
            "cell_type": "code",
            "source": "d.items()",
            "metadata": {},
            "outputs": [
                {
                    "output_type": "execute_result",
                    "execution_count": 94,
                    "data": {
                        "text/plain": "dict_items([('key2', 'item2'), ('key1', 'item1')])"
                    },
                    "metadata": {}
                }
            ],
            "execution_count": 94
        },
        {
            "cell_type": "code",
            "source": "lst = [1,2,3]",
            "metadata": {},
            "outputs": [],
            "execution_count": 95
        },
        {
            "cell_type": "code",
            "source": "lst.pop()",
            "metadata": {},
            "outputs": [
                {
                    "output_type": "execute_result",
                    "execution_count": 96,
                    "data": {
                        "text/plain": "3"
                    },
                    "metadata": {}
                }
            ],
            "execution_count": 96
        },
        {
            "cell_type": "code",
            "source": "lst",
            "metadata": {},
            "outputs": [
                {
                    "output_type": "execute_result",
                    "execution_count": 108,
                    "data": {
                        "text/plain": "[1, 2]"
                    },
                    "metadata": {}
                }
            ],
            "execution_count": 108
        },
        {
            "cell_type": "code",
            "source": "'x' in [1,2,3]",
            "metadata": {},
            "outputs": [
                {
                    "output_type": "execute_result",
                    "execution_count": 109,
                    "data": {
                        "text/plain": "False"
                    },
                    "metadata": {}
                }
            ],
            "execution_count": 109
        },
        {
            "cell_type": "code",
            "source": "'x' in ['x','y','z']",
            "metadata": {},
            "outputs": [
                {
                    "output_type": "execute_result",
                    "execution_count": 110,
                    "data": {
                        "text/plain": "True"
                    },
                    "metadata": {}
                }
            ],
            "execution_count": 110
        },
        {
            "cell_type": "markdown",
            "source": "# Great Job!",
            "metadata": {}
        }
    ]
}