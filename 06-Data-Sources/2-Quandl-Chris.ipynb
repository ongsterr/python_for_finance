{
    "metadata": {
        "kernelspec": {
            "name": "SQL",
            "display_name": "SQL",
            "language": "sql"
        },
        "language_info": {
            "name": "sql",
            "version": ""
        }
    },
    "nbformat_minor": 2,
    "nbformat": 4,
    "cells": [
        {
            "cell_type": "code",
            "source": [
                "import numpy as np\r\n",
                "import pandas as pd\r\n",
                "import matplotlib.pyplot as plt\r\n",
                "%matplotlib inline"
            ],
            "metadata": {
                "azdata_cell_guid": "dd9717c0-6f17-4b75-bd3b-a2a7eaf03636"
            },
            "outputs": [],
            "execution_count": 0
        },
        {
            "cell_type": "code",
            "source": [
                ""
            ],
            "metadata": {
                "azdata_cell_guid": "609a4ff1-dfe4-456b-abf5-41616d306ef8"
            },
            "outputs": [],
            "execution_count": 0
        }
    ]
}