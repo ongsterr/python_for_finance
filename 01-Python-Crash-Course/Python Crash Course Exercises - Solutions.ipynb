{
    "metadata": {
        "kernelspec": {
            "name": "python3",
            "display_name": "Python 3"
        },
        "language_info": {
            "name": "python",
            "version": "3.7.0",
            "mimetype": "text/x-python",
            "codemirror_mode": {
                "name": "ipython",
                "version": 3
            },
            "pygments_lexer": "ipython3",
            "nbconvert_exporter": "python",
            "file_extension": ".py"
        }
    },
    "nbformat_minor": 2,
    "nbformat": 4,
    "cells": [
        {
            "cell_type": "markdown",
            "source": "# Python Crash Course Exercises - Solutions\n\nThis is an optional exercise to test your understanding of Python Basics. The questions tend to have a financial theme to them, but don't look to deeply into these tasks themselves, many of them don't hold any significance and are meaningless. If you find this extremely challenging, then you probably are not ready for the rest of this course yet and don't have enough programming experience to continue. I would suggest you take another course more geared towards complete beginners, such as [Complete Python Bootcamp]()",
            "metadata": {}
        },
        {
            "cell_type": "markdown",
            "source": "## Exercises\n\nAnswer the questions or complete the tasks outlined in bold below, use the specific method described if applicable.",
            "metadata": {}
        },
        {
            "cell_type": "markdown",
            "source": "### Task #1\n\nGiven price = 300 , use python to figure out the square root of the price.",
            "metadata": {}
        },
        {
            "cell_type": "code",
            "source": "price = 300",
            "metadata": {},
            "outputs": [],
            "execution_count": 3
        },
        {
            "cell_type": "code",
            "source": "price**0.5",
            "metadata": {},
            "outputs": [
                {
                    "output_type": "execute_result",
                    "execution_count": 4,
                    "data": {
                        "text/plain": "17.320508075688775"
                    },
                    "metadata": {}
                }
            ],
            "execution_count": 4
        },
        {
            "cell_type": "code",
            "source": "import math\nmath.sqrt(price)",
            "metadata": {},
            "outputs": [
                {
                    "output_type": "execute_result",
                    "execution_count": 6,
                    "data": {
                        "text/plain": "17.320508075688775"
                    },
                    "metadata": {}
                }
            ],
            "execution_count": 6
        },
        {
            "cell_type": "markdown",
            "source": "### Task #2\n\nGiven the string:\n\n    stock_index = \"SP500\"\n   \nGrab '500' from the string using indexing.",
            "metadata": {}
        },
        {
            "cell_type": "code",
            "source": "stock_index = \"SP500\"",
            "metadata": {},
            "outputs": [],
            "execution_count": 1
        },
        {
            "cell_type": "code",
            "source": "stock_index[2:]",
            "metadata": {},
            "outputs": [
                {
                    "output_type": "execute_result",
                    "execution_count": 2,
                    "data": {
                        "text/plain": "'500'"
                    },
                    "metadata": {}
                }
            ],
            "execution_count": 2
        },
        {
            "cell_type": "markdown",
            "source": "### Task #3\n\n** Given the variables:**\n\n    stock_index = \"SP500\"\n    price = 300\n\n** Use .format() to print the following string: **\n\n    The SP500 is at 300 today.",
            "metadata": {}
        },
        {
            "cell_type": "code",
            "source": "stock_index = \"SP500\"\nprice = 300",
            "metadata": {},
            "outputs": [],
            "execution_count": 7
        },
        {
            "cell_type": "code",
            "source": "print(\"The {} is at {} today.\".format(stock_index,price))",
            "metadata": {},
            "outputs": [
                {
                    "output_type": "stream",
                    "name": "stdout",
                    "text": "The SP500 is at 300 today.\n"
                }
            ],
            "execution_count": 9
        },
        {
            "cell_type": "markdown",
            "source": "### Task #4\n\n** Given the variable of a nested dictionary with nested lists: **\n\n    stock_info = {'sp500':{'today':300,'yesterday': 250}, 'info':['Time',[24,7,365]]}\n    \n** Use indexing and key calls to grab the following items:**\n\n* Yesterday's SP500 price (250)\n* The number 365 nested inside a list nested inside the 'info' key.",
            "metadata": {}
        },
        {
            "cell_type": "code",
            "source": "stock_info = {'sp500':{'today':300,'yesterday': 250}, 'info':['Time',[24,7,365]]}",
            "metadata": {},
            "outputs": [],
            "execution_count": 10
        },
        {
            "cell_type": "code",
            "source": "stock_info['sp500']['yesterday']",
            "metadata": {},
            "outputs": [
                {
                    "output_type": "execute_result",
                    "execution_count": 12,
                    "data": {
                        "text/plain": "250"
                    },
                    "metadata": {}
                }
            ],
            "execution_count": 12
        },
        {
            "cell_type": "code",
            "source": "stock_info['info'][1][2]",
            "metadata": {},
            "outputs": [
                {
                    "output_type": "execute_result",
                    "execution_count": 15,
                    "data": {
                        "text/plain": "365"
                    },
                    "metadata": {}
                }
            ],
            "execution_count": 15
        },
        {
            "cell_type": "markdown",
            "source": "### Task #5\n\n** Given strings with this form where the last source value is always separated by two dashes -- **\n\n    \"PRICE:345.324:SOURCE--QUANDL\"\n    \n**Create a function called source_finder() that returns the source. For example, the above string passed into the function would return \"QUANDL\"**",
            "metadata": {}
        },
        {
            "cell_type": "code",
            "source": "def source_finder(s):\n    return s.split('--')[-1]",
            "metadata": {},
            "outputs": [],
            "execution_count": 16
        },
        {
            "cell_type": "code",
            "source": "source_finder(\"PRICE:345.324:SOURCE--QUANDL\")",
            "metadata": {},
            "outputs": [
                {
                    "output_type": "execute_result",
                    "execution_count": 18,
                    "data": {
                        "text/plain": "'QUANDL'"
                    },
                    "metadata": {}
                }
            ],
            "execution_count": 18
        },
        {
            "cell_type": "markdown",
            "source": "### Task #5\n\n** Create a function called price_finder that returns True if the word 'price' is in a string. Your function should work even if 'Price' is capitalized or next to punctuation ('price!')  **",
            "metadata": {}
        },
        {
            "cell_type": "code",
            "source": "def price_finder(s):\n    return 'price' in s.lower()",
            "metadata": {},
            "outputs": [],
            "execution_count": 19
        },
        {
            "cell_type": "code",
            "source": "price_finder(\"What is the price?\")",
            "metadata": {},
            "outputs": [
                {
                    "output_type": "execute_result",
                    "execution_count": 20,
                    "data": {
                        "text/plain": "True"
                    },
                    "metadata": {}
                }
            ],
            "execution_count": 20
        },
        {
            "cell_type": "code",
            "source": "price_finder(\"DUDE, WHAT IS PRICE!!!\")",
            "metadata": {},
            "outputs": [
                {
                    "output_type": "execute_result",
                    "execution_count": 22,
                    "data": {
                        "text/plain": "True"
                    },
                    "metadata": {}
                }
            ],
            "execution_count": 22
        },
        {
            "cell_type": "code",
            "source": "price_finder(\"The price is 300\")",
            "metadata": {},
            "outputs": [
                {
                    "output_type": "execute_result",
                    "execution_count": 23,
                    "data": {
                        "text/plain": "True"
                    },
                    "metadata": {}
                }
            ],
            "execution_count": 23
        },
        {
            "cell_type": "markdown",
            "source": "### Task #6\n\n** Create a function called count_price() that counts the number of times the word \"price\" occurs in a string. Account for capitalization and if the word price is next to punctuation. **",
            "metadata": {}
        },
        {
            "cell_type": "code",
            "source": "def count_price(s):\n    count = 0\n    for word in s.lower().split():\n        # Need to use in, can't use == or will get error with punctuation\n        if 'price' in word:\n            count += 1\n            \n    # Note the indentation!\n    return count",
            "metadata": {},
            "outputs": [],
            "execution_count": 46
        },
        {
            "cell_type": "code",
            "source": "# Simpler Alternative\ndef count_price(s):\n    return s.lower().count('price')",
            "metadata": {},
            "outputs": [],
            "execution_count": 43
        },
        {
            "cell_type": "code",
            "source": "s = 'Wow that is a nice price, very nice Price! I said price 3 times.'",
            "metadata": {},
            "outputs": [],
            "execution_count": 44
        },
        {
            "cell_type": "code",
            "source": "count_price(s)",
            "metadata": {},
            "outputs": [
                {
                    "output_type": "execute_result",
                    "execution_count": 47,
                    "data": {
                        "text/plain": "3"
                    },
                    "metadata": {}
                }
            ],
            "execution_count": 47
        },
        {
            "cell_type": "markdown",
            "source": "### Task #7\n\n**Create a function called avg_price that takes in a list of stock price numbers and calculates the average (Sum of the numbers divided by the number of elements in the list). It should return a float. **",
            "metadata": {}
        },
        {
            "cell_type": "code",
            "source": "def avg_price(stocks):\n    return sum(stocks)/len(stocks) # Python 2 users should multiply numerator by 1.0",
            "metadata": {},
            "outputs": [],
            "execution_count": 27
        },
        {
            "cell_type": "code",
            "source": "avg_price([3,4,5])",
            "metadata": {},
            "outputs": [
                {
                    "output_type": "execute_result",
                    "execution_count": 30,
                    "data": {
                        "text/plain": "4.0"
                    },
                    "metadata": {}
                }
            ],
            "execution_count": 30
        },
        {
            "cell_type": "markdown",
            "source": "# Great job!",
            "metadata": {}
        }
    ]
}