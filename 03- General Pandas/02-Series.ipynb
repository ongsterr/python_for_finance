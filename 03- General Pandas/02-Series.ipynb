{
    "metadata": {
        "kernelspec": {
            "name": "python3",
            "display_name": "Python 3"
        },
        "language_info": {
            "name": "python",
            "version": "3.7.0",
            "mimetype": "text/x-python",
            "codemirror_mode": {
                "name": "ipython",
                "version": 3
            },
            "pygments_lexer": "ipython3",
            "nbconvert_exporter": "python",
            "file_extension": ".py"
        }
    },
    "nbformat_minor": 2,
    "nbformat": 4,
    "cells": [
        {
            "cell_type": "markdown",
            "source": "___\n\n<a href='http://www.pieriandata.com'> <img src='../Pierian_Data_Logo.png' /></a>\n___\n# Series",
            "metadata": {}
        },
        {
            "cell_type": "markdown",
            "source": "The first main data type we will learn about for pandas is the Series data type. Let's import Pandas and explore the Series object.\n\nA Series is very similar to a NumPy array (in fact it is built on top of the NumPy array object). What differentiates the NumPy array from a Series, is that a Series can have axis labels, meaning it can be indexed by a label, instead of just a number location. It also doesn't need to hold numeric data, it can hold any arbitrary Python Object.\n\nLet's explore this concept through some examples:",
            "metadata": {}
        },
        {
            "cell_type": "code",
            "source": "import numpy as np\nimport pandas as pd",
            "metadata": {},
            "outputs": [],
            "execution_count": 1
        },
        {
            "cell_type": "markdown",
            "source": "### Creating a Series\n\nYou can convert a list,numpy array, or dictionary to a Series:",
            "metadata": {}
        },
        {
            "cell_type": "code",
            "source": "labels = ['a','b','c']\nmy_list = [10,20,30]\narr = np.array([10,20,30])\nd = {'a':10,'b':20,'c':30}",
            "metadata": {},
            "outputs": [],
            "execution_count": 2
        },
        {
            "cell_type": "markdown",
            "source": "** Using Lists**",
            "metadata": {}
        },
        {
            "cell_type": "code",
            "source": "pd.Series(data=my_list)",
            "metadata": {},
            "outputs": [
                {
                    "data": {
                        "text/plain": "0    10\n1    20\n2    30\ndtype: int64"
                    },
                    "metadata": {},
                    "execution_count": 3,
                    "output_type": "execute_result"
                }
            ],
            "execution_count": 3
        },
        {
            "cell_type": "code",
            "source": "pd.Series(data=my_list,index=labels)",
            "metadata": {},
            "outputs": [
                {
                    "data": {
                        "text/plain": "a    10\nb    20\nc    30\ndtype: int64"
                    },
                    "metadata": {},
                    "execution_count": 4,
                    "output_type": "execute_result"
                }
            ],
            "execution_count": 4
        },
        {
            "cell_type": "code",
            "source": "pd.Series(my_list,labels)",
            "metadata": {},
            "outputs": [
                {
                    "data": {
                        "text/plain": "a    10\nb    20\nc    30\ndtype: int64"
                    },
                    "metadata": {},
                    "execution_count": 5,
                    "output_type": "execute_result"
                }
            ],
            "execution_count": 5
        },
        {
            "cell_type": "markdown",
            "source": "** NumPy Arrays **",
            "metadata": {}
        },
        {
            "cell_type": "code",
            "source": "pd.Series(arr)",
            "metadata": {},
            "outputs": [
                {
                    "data": {
                        "text/plain": "0    10\n1    20\n2    30\ndtype: int32"
                    },
                    "metadata": {},
                    "execution_count": 6,
                    "output_type": "execute_result"
                }
            ],
            "execution_count": 6
        },
        {
            "cell_type": "code",
            "source": "pd.Series(arr,labels)",
            "metadata": {},
            "outputs": [
                {
                    "data": {
                        "text/plain": "a    10\nb    20\nc    30\ndtype: int32"
                    },
                    "metadata": {},
                    "execution_count": 7,
                    "output_type": "execute_result"
                }
            ],
            "execution_count": 7
        },
        {
            "cell_type": "markdown",
            "source": "** Dictionary**",
            "metadata": {}
        },
        {
            "cell_type": "code",
            "source": "pd.Series(d)",
            "metadata": {},
            "outputs": [
                {
                    "data": {
                        "text/plain": "a    10\nb    20\nc    30\ndtype: int64"
                    },
                    "metadata": {},
                    "execution_count": 8,
                    "output_type": "execute_result"
                }
            ],
            "execution_count": 8
        },
        {
            "cell_type": "markdown",
            "source": "### Data in a Series\n\nA pandas Series can hold a variety of object types:",
            "metadata": {}
        },
        {
            "cell_type": "code",
            "source": "pd.Series(data=labels)",
            "metadata": {},
            "outputs": [
                {
                    "data": {
                        "text/plain": "0    a\n1    b\n2    c\ndtype: object"
                    },
                    "metadata": {},
                    "execution_count": 9,
                    "output_type": "execute_result"
                }
            ],
            "execution_count": 9
        },
        {
            "cell_type": "code",
            "source": "# Even functions (although unlikely that you will use this)\npd.Series([sum,print,len])",
            "metadata": {},
            "outputs": [
                {
                    "data": {
                        "text/plain": "0      <built-in function sum>\n1    <built-in function print>\n2      <built-in function len>\ndtype: object"
                    },
                    "metadata": {},
                    "execution_count": 10,
                    "output_type": "execute_result"
                }
            ],
            "execution_count": 10
        },
        {
            "cell_type": "markdown",
            "source": "## Using an Index\n\nThe key to using a Series is understanding its index. Pandas makes use of these index names or numbers by allowing for fast look ups of information (works like a hash table or dictionary).\n\nLet's see some examples of how to grab information from a Series. Let us create two sereis, ser1 and ser2:",
            "metadata": {}
        },
        {
            "cell_type": "code",
            "source": "ser1 = pd.Series([1,2,3,4],index = ['USA', 'Germany','USSR', 'Japan'])                                   ",
            "metadata": {},
            "outputs": [],
            "execution_count": 11
        },
        {
            "cell_type": "code",
            "source": "ser1",
            "metadata": {},
            "outputs": [
                {
                    "data": {
                        "text/plain": "USA        1\nGermany    2\nUSSR       3\nJapan      4\ndtype: int64"
                    },
                    "metadata": {},
                    "execution_count": 12,
                    "output_type": "execute_result"
                }
            ],
            "execution_count": 12
        },
        {
            "cell_type": "code",
            "source": "ser2 = pd.Series([1,2,5,4],index = ['USA', 'Germany','Italy', 'Japan'])                                   ",
            "metadata": {},
            "outputs": [],
            "execution_count": 13
        },
        {
            "cell_type": "code",
            "source": "ser2",
            "metadata": {},
            "outputs": [
                {
                    "data": {
                        "text/plain": "USA        1\nGermany    2\nItaly      5\nJapan      4\ndtype: int64"
                    },
                    "metadata": {},
                    "execution_count": 14,
                    "output_type": "execute_result"
                }
            ],
            "execution_count": 14
        },
        {
            "cell_type": "code",
            "source": "ser1['USA']",
            "metadata": {},
            "outputs": [
                {
                    "data": {
                        "text/plain": "1"
                    },
                    "metadata": {},
                    "execution_count": 15,
                    "output_type": "execute_result"
                }
            ],
            "execution_count": 15
        },
        {
            "cell_type": "markdown",
            "source": "Operations are then also done based off of index:",
            "metadata": {}
        },
        {
            "cell_type": "code",
            "source": "ser1 + ser2",
            "metadata": {},
            "outputs": [
                {
                    "data": {
                        "text/plain": "Germany    4.0\nItaly      NaN\nJapan      8.0\nUSA        2.0\nUSSR       NaN\ndtype: float64"
                    },
                    "metadata": {},
                    "execution_count": 16,
                    "output_type": "execute_result"
                }
            ],
            "execution_count": 16
        },
        {
            "cell_type": "markdown",
            "source": "Let's stop here for now and move on to DataFrames, which will expand on the concept of Series!\n# Great Job!",
            "metadata": {}
        }
    ]
}