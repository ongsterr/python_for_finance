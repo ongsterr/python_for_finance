{
    "metadata": {
        "kernelspec": {
            "name": "python3",
            "display_name": "Python 3"
        },
        "language_info": {
            "name": "python",
            "version": "3.7.0",
            "mimetype": "text/x-python",
            "codemirror_mode": {
                "name": "ipython",
                "version": 3
            },
            "pygments_lexer": "ipython3",
            "nbconvert_exporter": "python",
            "file_extension": ".py"
        }
    },
    "nbformat_minor": 2,
    "nbformat": 4,
    "cells": [
        {
            "cell_type": "markdown",
            "source": "# Pandas Exercises",
            "metadata": {}
        },
        {
            "cell_type": "markdown",
            "source": "Time to test your new pandas skills! Use the two csv files in this folder to complete the tasks in bold below!\n\n** NOTE: ALL TASKS MUST BE DONE IN ONE LINE OF PANDAS CODE. GOT STUCK? NO PROBLEM! CHECK OUT THE SOLUTIONS LECTURE! **",
            "metadata": {}
        },
        {
            "cell_type": "markdown",
            "source": "** Import pandas and read in the banklist.csv file into a dataframe called banks. **",
            "metadata": {}
        },
        {
            "cell_type": "code",
            "source": "import pandas as pd",
            "metadata": {},
            "outputs": [],
            "execution_count": 1
        },
        {
            "cell_type": "code",
            "source": "banks = pd.read_csv('C:/Users/ongch/apps/data-science/Python-for-Finance/03- General Pandas/Pandas-Exercises/banklist.csv')",
            "metadata": {},
            "outputs": [],
            "execution_count": 3
        },
        {
            "cell_type": "markdown",
            "source": "** Show the head of the dataframe **",
            "metadata": {}
        },
        {
            "cell_type": "code",
            "source": "# CODE HERE",
            "metadata": {},
            "outputs": [],
            "execution_count": 26
        },
        {
            "cell_type": "code",
            "source": "banks.head()",
            "metadata": {},
            "outputs": [
                {
                    "data": {
                        "text/plain": "                                           Bank Name                City  ST  \\\n0                                Fayette County Bank          Saint Elmo  IL   \n1  Guaranty Bank, (d/b/a BestBank in Georgia & Mi...           Milwaukee  WI   \n2                                     First NBC Bank         New Orleans  LA   \n3                                      Proficio Bank  Cottonwood Heights  UT   \n4                      Seaway Bank and Trust Company             Chicago  IL   \n\n    CERT                Acquiring Institution Closing Date Updated Date  \n0   1802            United Fidelity Bank, fsb    26-May-17     1-Jun-17  \n1  30003  First-Citizens Bank & Trust Company     5-May-17     1-Jun-17  \n2  58302                         Whitney Bank    28-Apr-17    23-May-17  \n3  35495                    Cache Valley Bank     3-Mar-17    18-May-17  \n4  19328                  State Bank of Texas    27-Jan-17    18-May-17  ",
                        "text/html": "<div>\n<style scoped>\n    .dataframe tbody tr th:only-of-type {\n        vertical-align: middle;\n    }\n\n    .dataframe tbody tr th {\n        vertical-align: top;\n    }\n\n    .dataframe thead th {\n        text-align: right;\n    }\n</style>\n<table border=\"1\" class=\"dataframe\">\n  <thead>\n    <tr style=\"text-align: right;\">\n      <th></th>\n      <th>Bank Name</th>\n      <th>City</th>\n      <th>ST</th>\n      <th>CERT</th>\n      <th>Acquiring Institution</th>\n      <th>Closing Date</th>\n      <th>Updated Date</th>\n    </tr>\n  </thead>\n  <tbody>\n    <tr>\n      <th>0</th>\n      <td>Fayette County Bank</td>\n      <td>Saint Elmo</td>\n      <td>IL</td>\n      <td>1802</td>\n      <td>United Fidelity Bank, fsb</td>\n      <td>26-May-17</td>\n      <td>1-Jun-17</td>\n    </tr>\n    <tr>\n      <th>1</th>\n      <td>Guaranty Bank, (d/b/a BestBank in Georgia &amp; Mi...</td>\n      <td>Milwaukee</td>\n      <td>WI</td>\n      <td>30003</td>\n      <td>First-Citizens Bank &amp; Trust Company</td>\n      <td>5-May-17</td>\n      <td>1-Jun-17</td>\n    </tr>\n    <tr>\n      <th>2</th>\n      <td>First NBC Bank</td>\n      <td>New Orleans</td>\n      <td>LA</td>\n      <td>58302</td>\n      <td>Whitney Bank</td>\n      <td>28-Apr-17</td>\n      <td>23-May-17</td>\n    </tr>\n    <tr>\n      <th>3</th>\n      <td>Proficio Bank</td>\n      <td>Cottonwood Heights</td>\n      <td>UT</td>\n      <td>35495</td>\n      <td>Cache Valley Bank</td>\n      <td>3-Mar-17</td>\n      <td>18-May-17</td>\n    </tr>\n    <tr>\n      <th>4</th>\n      <td>Seaway Bank and Trust Company</td>\n      <td>Chicago</td>\n      <td>IL</td>\n      <td>19328</td>\n      <td>State Bank of Texas</td>\n      <td>27-Jan-17</td>\n      <td>18-May-17</td>\n    </tr>\n  </tbody>\n</table>\n</div>"
                    },
                    "metadata": {},
                    "execution_count": 4,
                    "output_type": "execute_result"
                }
            ],
            "execution_count": 4
        },
        {
            "cell_type": "markdown",
            "source": "** What are the column names? **",
            "metadata": {}
        },
        {
            "cell_type": "code",
            "source": "# CODE HERE",
            "metadata": {},
            "outputs": [],
            "execution_count": 0
        },
        {
            "cell_type": "code",
            "source": "banks.columns",
            "metadata": {},
            "outputs": [
                {
                    "data": {
                        "text/plain": "Index(['Bank Name', 'City', 'ST', 'CERT', 'Acquiring Institution',\n       'Closing Date', 'Updated Date'],\n      dtype='object')"
                    },
                    "metadata": {},
                    "execution_count": 5,
                    "output_type": "execute_result"
                }
            ],
            "execution_count": 5
        },
        {
            "cell_type": "markdown",
            "source": "** How many States (ST) are represented in this data set? **",
            "metadata": {}
        },
        {
            "cell_type": "code",
            "source": "# CODE HERE",
            "metadata": {},
            "outputs": [],
            "execution_count": 0
        },
        {
            "cell_type": "code",
            "source": "# return count of unique item in selected column\r\nbanks['ST'].nunique()",
            "metadata": {},
            "outputs": [
                {
                    "data": {
                        "text/plain": "44"
                    },
                    "metadata": {},
                    "execution_count": 11,
                    "output_type": "execute_result"
                }
            ],
            "execution_count": 11
        },
        {
            "cell_type": "markdown",
            "source": "** Get a list or array of all the states in the data set. **",
            "metadata": {}
        },
        {
            "cell_type": "code",
            "source": "# CODE HERE",
            "metadata": {},
            "outputs": [],
            "execution_count": 0
        },
        {
            "cell_type": "code",
            "source": "# return an array of unique items for selected column\r\nbanks['ST'].unique()",
            "metadata": {},
            "outputs": [
                {
                    "data": {
                        "text/plain": "array(['IL', 'WI', 'LA', 'UT', 'NJ', 'AR', 'GA', 'PA', 'TN', 'WA', 'CO',\n       'PR', 'FL', 'MN', 'CA', 'MD', 'OK', 'OH', 'SC', 'VA', 'ID', 'TX',\n       'CT', 'AZ', 'NV', 'NC', 'KY', 'MO', 'KS', 'AL', 'MI', 'IN', 'IA',\n       'NE', 'MS', 'NM', 'OR', 'NY', 'MA', 'SD', 'WY', 'WV', 'NH', 'HI'],\n      dtype=object)"
                    },
                    "metadata": {},
                    "execution_count": 12,
                    "output_type": "execute_result"
                }
            ],
            "execution_count": 12
        },
        {
            "cell_type": "markdown",
            "source": "** What are the top 5 states with the most failed banks? **",
            "metadata": {}
        },
        {
            "cell_type": "code",
            "source": "# CODE HERE",
            "metadata": {},
            "outputs": [],
            "execution_count": 0
        },
        {
            "cell_type": "code",
            "source": "banks.groupby('ST').count().sort_values('Bank Name', ascending=False).iloc[:5]['Bank Name']",
            "metadata": {},
            "outputs": [
                {
                    "data": {
                        "text/plain": "ST\nGA    93\nFL    75\nIL    67\nCA    41\nMN    23\nName: Bank Name, dtype: int64"
                    },
                    "metadata": {},
                    "execution_count": 15,
                    "output_type": "execute_result"
                }
            ],
            "execution_count": 15
        },
        {
            "cell_type": "markdown",
            "source": "** What are the top 5 acquiring institutions? **",
            "metadata": {}
        },
        {
            "cell_type": "code",
            "source": "# CODE HERE",
            "metadata": {},
            "outputs": [],
            "execution_count": 0
        },
        {
            "cell_type": "code",
            "source": "banks['Acquiring Institution'].value_counts().iloc[:5]",
            "metadata": {},
            "outputs": [
                {
                    "data": {
                        "text/plain": "No Acquirer                            31\nState Bank and Trust Company           12\nFirst-Citizens Bank & Trust Company    11\nAmeris Bank                            10\nU.S. Bank N.A.                          9\nName: Acquiring Institution, dtype: int64"
                    },
                    "metadata": {},
                    "execution_count": 19,
                    "output_type": "execute_result"
                }
            ],
            "execution_count": 19
        },
        {
            "cell_type": "markdown",
            "source": "** How many banks has the State Bank of Texas acquired? How many of them were actually in Texas?**",
            "metadata": {}
        },
        {
            "cell_type": "code",
            "source": "# CODE HERE",
            "metadata": {},
            "outputs": [],
            "execution_count": 0
        },
        {
            "cell_type": "code",
            "source": "banks[banks['Acquiring Institution'] == 'State Bank of Texas']",
            "metadata": {},
            "outputs": [
                {
                    "data": {
                        "text/plain": "                                 Bank Name     City  ST   CERT  \\\n4            Seaway Bank and Trust Company  Chicago  IL  19328   \n21   The National Republic Bank of Chicago  Chicago  IL    916   \n450         Millennium State Bank of Texas   Dallas  TX  57667   \n\n    Acquiring Institution Closing Date Updated Date  \n4     State Bank of Texas    27-Jan-17    18-May-17  \n21    State Bank of Texas    24-Oct-14     6-Jan-16  \n450   State Bank of Texas     2-Jul-09    26-Oct-12  ",
                        "text/html": "<div>\n<style scoped>\n    .dataframe tbody tr th:only-of-type {\n        vertical-align: middle;\n    }\n\n    .dataframe tbody tr th {\n        vertical-align: top;\n    }\n\n    .dataframe thead th {\n        text-align: right;\n    }\n</style>\n<table border=\"1\" class=\"dataframe\">\n  <thead>\n    <tr style=\"text-align: right;\">\n      <th></th>\n      <th>Bank Name</th>\n      <th>City</th>\n      <th>ST</th>\n      <th>CERT</th>\n      <th>Acquiring Institution</th>\n      <th>Closing Date</th>\n      <th>Updated Date</th>\n    </tr>\n  </thead>\n  <tbody>\n    <tr>\n      <th>4</th>\n      <td>Seaway Bank and Trust Company</td>\n      <td>Chicago</td>\n      <td>IL</td>\n      <td>19328</td>\n      <td>State Bank of Texas</td>\n      <td>27-Jan-17</td>\n      <td>18-May-17</td>\n    </tr>\n    <tr>\n      <th>21</th>\n      <td>The National Republic Bank of Chicago</td>\n      <td>Chicago</td>\n      <td>IL</td>\n      <td>916</td>\n      <td>State Bank of Texas</td>\n      <td>24-Oct-14</td>\n      <td>6-Jan-16</td>\n    </tr>\n    <tr>\n      <th>450</th>\n      <td>Millennium State Bank of Texas</td>\n      <td>Dallas</td>\n      <td>TX</td>\n      <td>57667</td>\n      <td>State Bank of Texas</td>\n      <td>2-Jul-09</td>\n      <td>26-Oct-12</td>\n    </tr>\n  </tbody>\n</table>\n</div>"
                    },
                    "metadata": {},
                    "execution_count": 22,
                    "output_type": "execute_result"
                }
            ],
            "execution_count": 22
        },
        {
            "cell_type": "markdown",
            "source": "** What is the most common city in California for a bank to fail in?**",
            "metadata": {}
        },
        {
            "cell_type": "code",
            "source": "# CODE HERE",
            "metadata": {},
            "outputs": [],
            "execution_count": 0
        },
        {
            "cell_type": "code",
            "source": "banks[banks['ST'] == 'CA'].groupby('City').count().sort_values('Bank Name', ascending=False).iloc[:5]",
            "metadata": {},
            "outputs": [
                {
                    "data": {
                        "text/plain": "               Bank Name  ST  CERT  Acquiring Institution  Closing Date  \\\nCity                                                                      \nLos Angeles            4   4     4                      4             4   \nSan Diego              2   2     2                      2             2   \nSan Francisco          2   2     2                      2             2   \nPalm Desert            2   2     2                      2             2   \nLa Jolla               2   2     2                      2             2   \n\n               Updated Date  \nCity                         \nLos Angeles               4  \nSan Diego                 2  \nSan Francisco             2  \nPalm Desert               2  \nLa Jolla                  2  ",
                        "text/html": "<div>\n<style scoped>\n    .dataframe tbody tr th:only-of-type {\n        vertical-align: middle;\n    }\n\n    .dataframe tbody tr th {\n        vertical-align: top;\n    }\n\n    .dataframe thead th {\n        text-align: right;\n    }\n</style>\n<table border=\"1\" class=\"dataframe\">\n  <thead>\n    <tr style=\"text-align: right;\">\n      <th></th>\n      <th>Bank Name</th>\n      <th>ST</th>\n      <th>CERT</th>\n      <th>Acquiring Institution</th>\n      <th>Closing Date</th>\n      <th>Updated Date</th>\n    </tr>\n    <tr>\n      <th>City</th>\n      <th></th>\n      <th></th>\n      <th></th>\n      <th></th>\n      <th></th>\n      <th></th>\n    </tr>\n  </thead>\n  <tbody>\n    <tr>\n      <th>Los Angeles</th>\n      <td>4</td>\n      <td>4</td>\n      <td>4</td>\n      <td>4</td>\n      <td>4</td>\n      <td>4</td>\n    </tr>\n    <tr>\n      <th>San Diego</th>\n      <td>2</td>\n      <td>2</td>\n      <td>2</td>\n      <td>2</td>\n      <td>2</td>\n      <td>2</td>\n    </tr>\n    <tr>\n      <th>San Francisco</th>\n      <td>2</td>\n      <td>2</td>\n      <td>2</td>\n      <td>2</td>\n      <td>2</td>\n      <td>2</td>\n    </tr>\n    <tr>\n      <th>Palm Desert</th>\n      <td>2</td>\n      <td>2</td>\n      <td>2</td>\n      <td>2</td>\n      <td>2</td>\n      <td>2</td>\n    </tr>\n    <tr>\n      <th>La Jolla</th>\n      <td>2</td>\n      <td>2</td>\n      <td>2</td>\n      <td>2</td>\n      <td>2</td>\n      <td>2</td>\n    </tr>\n  </tbody>\n</table>\n</div>"
                    },
                    "metadata": {},
                    "execution_count": 33,
                    "output_type": "execute_result"
                }
            ],
            "execution_count": 33
        },
        {
            "cell_type": "markdown",
            "source": "** How many failed banks don't have the word \"Bank\" in their name? **",
            "metadata": {}
        },
        {
            "cell_type": "code",
            "source": "# CODE HERE",
            "metadata": {},
            "outputs": [],
            "execution_count": 0
        },
        {
            "cell_type": "code",
            "source": "# banks['Bank Name'].apply(lambda bank: \"Bank\" not in bank).value_counts()\r\nbanks['Bank Name'].apply(lambda bank: \"Bank\" not in bank).sum()",
            "metadata": {},
            "outputs": [
                {
                    "data": {
                        "text/plain": "14"
                    },
                    "metadata": {},
                    "execution_count": 44,
                    "output_type": "execute_result"
                }
            ],
            "execution_count": 44
        },
        {
            "cell_type": "markdown",
            "source": "** How many bank names start with the letter 's' ? **",
            "metadata": {}
        },
        {
            "cell_type": "code",
            "source": "# CODE HERE",
            "metadata": {},
            "outputs": [],
            "execution_count": 0
        },
        {
            "cell_type": "code",
            "source": "banks['Bank Name'].apply(lambda bank: bank.casefold().startswith('s')).sum()",
            "metadata": {},
            "outputs": [
                {
                    "data": {
                        "text/plain": "53"
                    },
                    "metadata": {},
                    "execution_count": 49,
                    "output_type": "execute_result"
                }
            ],
            "execution_count": 49
        },
        {
            "cell_type": "markdown",
            "source": "** How many CERT values are above 20000 ? **",
            "metadata": {}
        },
        {
            "cell_type": "code",
            "source": "# CODE HERE",
            "metadata": {},
            "outputs": [],
            "execution_count": 61
        },
        {
            "cell_type": "code",
            "source": "banks['CERT'].apply(lambda val: val > 20000).sum()",
            "metadata": {},
            "outputs": [
                {
                    "data": {
                        "text/plain": "417"
                    },
                    "metadata": {},
                    "execution_count": 51,
                    "output_type": "execute_result"
                }
            ],
            "execution_count": 51
        },
        {
            "cell_type": "markdown",
            "source": "** How many bank names consist of just two words? (e.g. \"First Bank\" , \"Bank Georgia\" )**",
            "metadata": {}
        },
        {
            "cell_type": "code",
            "source": "# CODE HERE",
            "metadata": {},
            "outputs": [],
            "execution_count": 65
        },
        {
            "cell_type": "code",
            "source": "banks['Bank Name'].apply(lambda bank: len(bank.split()) == 2).sum()",
            "metadata": {},
            "outputs": [
                {
                    "data": {
                        "text/plain": "114"
                    },
                    "metadata": {},
                    "execution_count": 55,
                    "output_type": "execute_result"
                }
            ],
            "execution_count": 55
        },
        {
            "cell_type": "markdown",
            "source": "**Bonus: How many banks closed in the year 2008? (this is hard because we technically haven't learned about time series with pandas yet! Feel free to skip this one!**",
            "metadata": {}
        },
        {
            "cell_type": "code",
            "source": "# CODE HERE",
            "metadata": {},
            "outputs": [],
            "execution_count": 0
        },
        {
            "cell_type": "code",
            "source": "banks['Closing Date'].apply(lambda dat: dat.split('-')[-1] == '08').sum()",
            "metadata": {},
            "outputs": [
                {
                    "data": {
                        "text/plain": "25"
                    },
                    "metadata": {},
                    "execution_count": 59,
                    "output_type": "execute_result"
                }
            ],
            "execution_count": 59
        },
        {
            "cell_type": "markdown",
            "source": "# GREAT JOB!",
            "metadata": {}
        }
    ]
}