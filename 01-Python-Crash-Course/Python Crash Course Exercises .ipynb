{
    "metadata": {
        "kernelspec": {
            "name": "python3",
            "display_name": "Python 3"
        },
        "language_info": {
            "name": "python",
            "version": "3.7.0",
            "mimetype": "text/x-python",
            "codemirror_mode": {
                "name": "ipython",
                "version": 3
            },
            "pygments_lexer": "ipython3",
            "nbconvert_exporter": "python",
            "file_extension": ".py"
        }
    },
    "nbformat_minor": 2,
    "nbformat": 4,
    "cells": [
        {
            "cell_type": "markdown",
            "source": "# Python Crash Course Exercises \n\nThis is an optional exercise to test your understanding of Python Basics. The questions tend to have a financial theme to them, but don't look to deeply into these tasks themselves, many of them don't hold any significance and are meaningless. If you find this extremely challenging, then you probably are not ready for the rest of this course yet and don't have enough programming experience to continue. I would suggest you take another course more geared towards complete beginners, such as [Complete Python Bootcamp](https://www.udemy.com/complete-python-bootcamp/)",
            "metadata": {}
        },
        {
            "cell_type": "markdown",
            "source": "## Exercises\n\nAnswer the questions or complete the tasks outlined in bold below, use the specific method described if applicable.",
            "metadata": {}
        },
        {
            "cell_type": "markdown",
            "source": "### Task #1\n\nGiven price = 300 , use python to figure out the square root of the price.",
            "metadata": {}
        },
        {
            "cell_type": "code",
            "source": "price = 300",
            "metadata": {},
            "outputs": [],
            "execution_count": 1
        },
        {
            "cell_type": "code",
            "source": "price ** 0.5",
            "metadata": {},
            "outputs": [
                {
                    "data": {
                        "text/plain": "17.320508075688775"
                    },
                    "metadata": {},
                    "execution_count": 2,
                    "output_type": "execute_result"
                }
            ],
            "execution_count": 2
        },
        {
            "cell_type": "code",
            "source": "import math\r\nmath.sqrt(price)",
            "metadata": {},
            "outputs": [
                {
                    "data": {
                        "text/plain": "17.320508075688775"
                    },
                    "metadata": {},
                    "execution_count": 7,
                    "output_type": "execute_result"
                }
            ],
            "execution_count": 7
        },
        {
            "cell_type": "markdown",
            "source": "### Task #2\n\nGiven the string:\n\n    stock_index = \"SP500\"\n   \nGrab '500' from the string using indexing.",
            "metadata": {}
        },
        {
            "cell_type": "code",
            "source": "stock_index = \"SP500\"",
            "metadata": {},
            "outputs": [],
            "execution_count": 9
        },
        {
            "cell_type": "code",
            "source": "stock_index[2:5]",
            "metadata": {},
            "outputs": [
                {
                    "data": {
                        "text/plain": "'500'"
                    },
                    "metadata": {},
                    "execution_count": 12,
                    "output_type": "execute_result"
                }
            ],
            "execution_count": 12
        },
        {
            "cell_type": "markdown",
            "source": "### Notes",
            "metadata": {}
        },
        {
            "cell_type": "code",
            "source": "name = \"Chris Ong\"\r\nnumber = 11",
            "metadata": {},
            "outputs": [],
            "execution_count": 4
        },
        {
            "cell_type": "code",
            "source": "print(\"Hi my name is {x} and my number is {y}\".format(x=name, y=number))",
            "metadata": {},
            "outputs": [
                {
                    "name": "stdout",
                    "text": "Hi my name is Chris Ong and my number is 11\n",
                    "output_type": "stream"
                }
            ],
            "execution_count": 6
        },
        {
            "cell_type": "markdown",
            "source": "### Task #3\n\n** Given the variables:**\n\n    stock_index = \"SP500\"\n    price = 300\n\n** Use .format() to print the following string: **\n\n    The SP500 is at 300 today.",
            "metadata": {}
        },
        {
            "cell_type": "code",
            "source": "stock_index = \"SP500\"\nprice = 300",
            "metadata": {},
            "outputs": [],
            "execution_count": 7
        },
        {
            "cell_type": "code",
            "source": "print(\"The {x} is at {y} today.\".format(x=stock_index, y=price))",
            "metadata": {},
            "outputs": [
                {
                    "name": "stdout",
                    "text": "The SP500 is at 300 today.\n",
                    "output_type": "stream"
                }
            ],
            "execution_count": 13
        },
        {
            "cell_type": "markdown",
            "source": "### Task #4\n\n** Given the variable of a nested dictionary with nested lists: **\n\n    stock_info = {'sp500':{'today':300,'yesterday': 250}, 'info':['Time',[24,7,365]]}\n    \n** Use indexing and key calls to grab the following items:**\n\n* Yesterday's SP500 price (250)\n* The number 365 nested inside a list nested inside the 'info' key.",
            "metadata": {}
        },
        {
            "cell_type": "code",
            "source": "stock_info = {'sp500':{'today':300,'yesterday': 250}, 'info':['Time',[24,7,365]]}",
            "metadata": {},
            "outputs": [],
            "execution_count": 16
        },
        {
            "cell_type": "code",
            "source": "stock_info_keys = stock_info.keys()\r\nprint(\"Yesterday's {x} price is {y}\".format(x='SP500', y=stock_info['sp500']['yesterday']))",
            "metadata": {},
            "outputs": [
                {
                    "name": "stdout",
                    "text": "Yesterday's SP500 price is 250\n",
                    "output_type": "stream"
                }
            ],
            "execution_count": 20
        },
        {
            "cell_type": "code",
            "source": "stock_info['info'][1][2]",
            "metadata": {},
            "outputs": [
                {
                    "data": {
                        "text/plain": "365"
                    },
                    "metadata": {},
                    "execution_count": 21,
                    "output_type": "execute_result"
                }
            ],
            "execution_count": 21
        },
        {
            "cell_type": "markdown",
            "source": "### Task #5\n\n** Given strings with this form where the last source value is always separated by two dashes -- **\n\n    \"PRICE:345.324:SOURCE--QUANDL\"\n    \n**Create a function called source_finder() that returns the source. For example, the above string passed into the function would return \"QUANDL\"**",
            "metadata": {}
        },
        {
            "cell_type": "code",
            "source": "def source_finder(string):\r\n    x = string.find(\"--\")\r\n    return string[x+2:]",
            "metadata": {},
            "outputs": [],
            "execution_count": 28
        },
        {
            "cell_type": "code",
            "source": "def source_finder_sol(string):\r\n    return string.split('--')[-1]",
            "metadata": {},
            "outputs": [],
            "execution_count": 119
        },
        {
            "cell_type": "code",
            "source": "source_finder(\"PRICE:345.324:SOURCE--QUANDL\")",
            "metadata": {},
            "outputs": [
                {
                    "data": {
                        "text/plain": "'QUANDL'"
                    },
                    "metadata": {},
                    "execution_count": 29,
                    "output_type": "execute_result"
                }
            ],
            "execution_count": 29
        },
        {
            "cell_type": "code",
            "source": "source_finder_sol(\"PRICE:345.324:SOURCE--QUANDL\")",
            "metadata": {},
            "outputs": [
                {
                    "data": {
                        "text/plain": "'QUANDL'"
                    },
                    "metadata": {},
                    "execution_count": 120,
                    "output_type": "execute_result"
                }
            ],
            "execution_count": 120
        },
        {
            "cell_type": "markdown",
            "source": "### Task #5\n\n** Create a function called price_finder that returns True if the word 'price' is in a string. Your function should work even if 'Price' is capitalized or next to punctuation ('price!')  **",
            "metadata": {}
        },
        {
            "cell_type": "code",
            "source": "def price_finder_init(string):\r\n    list = string.casefold().split()\r\n    for i in list:\r\n        if i.isalpha() and i == 'price' or i[i.find('p'):i.find('p')+5] == 'price':\r\n            return True",
            "metadata": {},
            "outputs": [],
            "execution_count": 105
        },
        {
            "cell_type": "code",
            "source": "def price_finder(string):\r\n    return 'price' in string",
            "metadata": {},
            "outputs": [],
            "execution_count": 121
        },
        {
            "cell_type": "code",
            "source": "price_finder(\"What is the price?\")",
            "metadata": {},
            "outputs": [
                {
                    "data": {
                        "text/plain": "True"
                    },
                    "metadata": {},
                    "execution_count": 122,
                    "output_type": "execute_result"
                }
            ],
            "execution_count": 122
        },
        {
            "cell_type": "code",
            "source": "price_finder(\"DUDE, WHAT IS PRICE!!!\")",
            "metadata": {},
            "outputs": [
                {
                    "data": {
                        "text/plain": "False"
                    },
                    "metadata": {},
                    "execution_count": 123,
                    "output_type": "execute_result"
                }
            ],
            "execution_count": 123
        },
        {
            "cell_type": "code",
            "source": "price_finder(\"The price is 300\")",
            "metadata": {},
            "outputs": [
                {
                    "data": {
                        "text/plain": "True"
                    },
                    "metadata": {},
                    "execution_count": 124,
                    "output_type": "execute_result"
                }
            ],
            "execution_count": 124
        },
        {
            "cell_type": "markdown",
            "source": "### Task #6\n\n** Create a function called count_price() that counts the number of times the word \"price\" occurs in a string. Account for capitalization and if the word price is next to punctuation. **",
            "metadata": {}
        },
        {
            "cell_type": "code",
            "source": "def count_price(string):\r\n    list = string.casefold().split()\r\n    counter = 0\r\n    for i in list:\r\n        if i.isalpha() and i == 'price' or i[i.find('p'):i.find('p')+5] == 'price':\r\n            counter += 1\r\n    return counter",
            "metadata": {},
            "outputs": [],
            "execution_count": 111
        },
        {
            "cell_type": "code",
            "source": "s = 'Wow that is a nice price, very nice Price! I said price 3 times.'",
            "metadata": {},
            "outputs": [],
            "execution_count": 113
        },
        {
            "cell_type": "code",
            "source": "count_price(s)",
            "metadata": {},
            "outputs": [
                {
                    "data": {
                        "text/plain": "3"
                    },
                    "metadata": {},
                    "execution_count": 114,
                    "output_type": "execute_result"
                }
            ],
            "execution_count": 114
        },
        {
            "cell_type": "markdown",
            "source": "### Task #7\n\n**Create a function called avg_price that takes in a list of stock price numbers and calculates the average (Sum of the numbers divided by the number of elements in the list). It should return a float. **",
            "metadata": {}
        },
        {
            "cell_type": "code",
            "source": "def avg_price(list):\r\n    return sum(list) / len(list)",
            "metadata": {},
            "outputs": [],
            "execution_count": 117
        },
        {
            "cell_type": "code",
            "source": "avg_price([3,4,5])",
            "metadata": {},
            "outputs": [
                {
                    "data": {
                        "text/plain": "4.0"
                    },
                    "metadata": {},
                    "execution_count": 118,
                    "output_type": "execute_result"
                }
            ],
            "execution_count": 118
        },
        {
            "cell_type": "markdown",
            "source": "# Great job!",
            "metadata": {}
        }
    ]
}